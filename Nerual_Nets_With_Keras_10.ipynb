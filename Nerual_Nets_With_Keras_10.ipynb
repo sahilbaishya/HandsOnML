{
  "nbformat": 4,
  "nbformat_minor": 0,
  "metadata": {
    "colab": {
      "provenance": [],
      "gpuType": "T4",
      "authorship_tag": "ABX9TyPhmtpXBitLJ1jY0Ds8tVCS",
      "include_colab_link": true
    },
    "kernelspec": {
      "name": "python3",
      "display_name": "Python 3"
    },
    "language_info": {
      "name": "python"
    },
    "accelerator": "GPU"
  },
  "cells": [
    {
      "cell_type": "markdown",
      "metadata": {
        "id": "view-in-github",
        "colab_type": "text"
      },
      "source": [
        "<a href=\"https://colab.research.google.com/github/sahilbaishya/HandsOnML/blob/main/Nerual_Nets_With_Keras_10.ipynb\" target=\"_parent\"><img src=\"https://colab.research.google.com/assets/colab-badge.svg\" alt=\"Open In Colab\"/></a>"
      ]
    },
    {
      "cell_type": "code",
      "execution_count": 2,
      "metadata": {
        "id": "q5ouFmQDGfCY"
      },
      "outputs": [],
      "source": [
        "import tensorflow as tf\n",
        "import sklearn\n",
        "from tensorflow import keras\n",
        "\n",
        "import pandas as pd\n",
        "import numpy as np\n",
        "import matplotlib.pyplot as plt"
      ]
    },
    {
      "cell_type": "markdown",
      "source": [
        "# Image Classifier using Sequential API - Fashion MNIST Dataset"
      ],
      "metadata": {
        "id": "dqv4282cArg0"
      }
    },
    {
      "cell_type": "markdown",
      "source": [
        "## Data Fetching and Exploration"
      ],
      "metadata": {
        "id": "u0mhOfbKA0US"
      }
    },
    {
      "cell_type": "code",
      "source": [
        "fashion_mnist = keras.datasets.fashion_mnist\n",
        "(X_train_full, y_train_full), (X_test, y_test) = fashion_mnist.load_data();"
      ],
      "metadata": {
        "id": "-Rs4OCxiHJpO",
        "colab": {
          "base_uri": "https://localhost:8080/"
        },
        "outputId": "84270a90-3dc9-4291-9ad3-13d86a17f8c0"
      },
      "execution_count": 3,
      "outputs": [
        {
          "output_type": "stream",
          "name": "stdout",
          "text": [
            "Downloading data from https://storage.googleapis.com/tensorflow/tf-keras-datasets/train-labels-idx1-ubyte.gz\n",
            "29515/29515 [==============================] - 0s 1us/step\n",
            "Downloading data from https://storage.googleapis.com/tensorflow/tf-keras-datasets/train-images-idx3-ubyte.gz\n",
            "26421880/26421880 [==============================] - 2s 0us/step\n",
            "Downloading data from https://storage.googleapis.com/tensorflow/tf-keras-datasets/t10k-labels-idx1-ubyte.gz\n",
            "5148/5148 [==============================] - 0s 0us/step\n",
            "Downloading data from https://storage.googleapis.com/tensorflow/tf-keras-datasets/t10k-images-idx3-ubyte.gz\n",
            "4422102/4422102 [==============================] - 1s 0us/step\n"
          ]
        }
      ]
    },
    {
      "cell_type": "code",
      "source": [
        "X_train_full.shape"
      ],
      "metadata": {
        "colab": {
          "base_uri": "https://localhost:8080/"
        },
        "id": "tY8iT7KSHq0q",
        "outputId": "7861720a-f6dd-4d93-9df0-613d0865b8c1"
      },
      "execution_count": 4,
      "outputs": [
        {
          "output_type": "execute_result",
          "data": {
            "text/plain": [
              "(60000, 28, 28)"
            ]
          },
          "metadata": {},
          "execution_count": 4
        }
      ]
    },
    {
      "cell_type": "code",
      "source": [
        "X_train_full.dtype"
      ],
      "metadata": {
        "colab": {
          "base_uri": "https://localhost:8080/"
        },
        "id": "VbmepddBIAEv",
        "outputId": "61306c62-9569-476f-985b-95c78106ceb9"
      },
      "execution_count": 5,
      "outputs": [
        {
          "output_type": "execute_result",
          "data": {
            "text/plain": [
              "dtype('uint8')"
            ]
          },
          "metadata": {},
          "execution_count": 5
        }
      ]
    },
    {
      "cell_type": "code",
      "source": [
        "X_test.shape"
      ],
      "metadata": {
        "colab": {
          "base_uri": "https://localhost:8080/"
        },
        "id": "KDQdqg7AH6hS",
        "outputId": "d77755b7-d82d-4f58-e519-3ee4e0d93e82"
      },
      "execution_count": 6,
      "outputs": [
        {
          "output_type": "execute_result",
          "data": {
            "text/plain": [
              "(10000, 28, 28)"
            ]
          },
          "metadata": {},
          "execution_count": 6
        }
      ]
    },
    {
      "cell_type": "markdown",
      "source": [
        "## Splitting And Modeling"
      ],
      "metadata": {
        "id": "b7-stNPBBeOY"
      }
    },
    {
      "cell_type": "code",
      "source": [
        "X_valid, X_train = X_train_full[:5000]/255.0, X_train_full[5000:]/255.0\n",
        "y_valid, y_train = y_train_full[:5000], y_train_full[5000:]"
      ],
      "metadata": {
        "id": "kP2HnpfDH8_1"
      },
      "execution_count": 7,
      "outputs": []
    },
    {
      "cell_type": "code",
      "source": [
        "class_names = [\"T-shirt/top\", \"Trouser\", \"Pullover\", \"Dress\", \"Coat\", \"Sandal\", \"Shirt\", \"Sneaker\", \"Bag\", \"Ankle boot\"]\n"
      ],
      "metadata": {
        "id": "w7zyDitzJKO6"
      },
      "execution_count": 8,
      "outputs": []
    },
    {
      "cell_type": "code",
      "source": [
        "class_names[y_train[0]]"
      ],
      "metadata": {
        "colab": {
          "base_uri": "https://localhost:8080/",
          "height": 0
        },
        "id": "mQNwtnoeJLnP",
        "outputId": "5aef9b9c-c8b0-402c-ed34-2cbe3b0852da"
      },
      "execution_count": 9,
      "outputs": [
        {
          "output_type": "execute_result",
          "data": {
            "text/plain": [
              "'Coat'"
            ],
            "application/vnd.google.colaboratory.intrinsic+json": {
              "type": "string"
            }
          },
          "metadata": {},
          "execution_count": 9
        }
      ]
    },
    {
      "cell_type": "code",
      "source": [
        "model = keras.models.Sequential([\n",
        "    keras.layers.InputLayer(input_shape=[28, 28]),\n",
        "    keras.layers.Flatten(),\n",
        "    keras.layers.Dense(300, activation='relu'),\n",
        "    keras.layers.Dense(100, activation='relu'),\n",
        "    keras.layers.Dense(10, activation='softmax')\n",
        "])"
      ],
      "metadata": {
        "id": "GsKWh9Zztm15"
      },
      "execution_count": 10,
      "outputs": []
    },
    {
      "cell_type": "code",
      "source": [
        "model.summary()"
      ],
      "metadata": {
        "colab": {
          "base_uri": "https://localhost:8080/"
        },
        "id": "7XffyQvBv5La",
        "outputId": "6dff17d8-ab3d-4906-bf08-41f3fcf3fe83"
      },
      "execution_count": 11,
      "outputs": [
        {
          "output_type": "stream",
          "name": "stdout",
          "text": [
            "Model: \"sequential\"\n",
            "_________________________________________________________________\n",
            " Layer (type)                Output Shape              Param #   \n",
            "=================================================================\n",
            " flatten (Flatten)           (None, 784)               0         \n",
            "                                                                 \n",
            " dense (Dense)               (None, 300)               235500    \n",
            "                                                                 \n",
            " dense_1 (Dense)             (None, 100)               30100     \n",
            "                                                                 \n",
            " dense_2 (Dense)             (None, 10)                1010      \n",
            "                                                                 \n",
            "=================================================================\n",
            "Total params: 266,610\n",
            "Trainable params: 266,610\n",
            "Non-trainable params: 0\n",
            "_________________________________________________________________\n"
          ]
        }
      ]
    },
    {
      "cell_type": "code",
      "source": [
        "keras.utils.plot_model(model)"
      ],
      "metadata": {
        "colab": {
          "base_uri": "https://localhost:8080/",
          "height": 0
        },
        "id": "NPx_sy3Hww1M",
        "outputId": "a87fd0ed-057e-45b9-90f9-acd37cc0ade3"
      },
      "execution_count": 12,
      "outputs": [
        {
          "output_type": "execute_result",
          "data": {
            "image/png": "[encoded data removed]",
            "text/plain": [
              "<IPython.core.display.Image object>"
            ]
          },
          "metadata": {},
          "execution_count": 12
        }
      ]
    },
    {
      "cell_type": "markdown",
      "source": [
        "## Data Visualization"
      ],
      "metadata": {
        "id": "IRhwuR7EB04n"
      }
    },
    {
      "cell_type": "code",
      "source": [
        "plt.imshow(X_train[0], cmap=\"binary\")\n",
        "plt.axis('off')\n",
        "plt.show()"
      ],
      "metadata": {
        "colab": {
          "base_uri": "https://localhost:8080/",
          "height": 0
        },
        "id": "tb7P8ndGB3Jo",
        "outputId": "83e0de1f-b53f-4047-de02-80b256965558"
      },
      "execution_count": 13,
      "outputs": [
        {
          "output_type": "display_data",
          "data": {
            "text/plain": [
              "<Figure size 640x480 with 1 Axes>"
            ],
            "image/png": "[encoded data removed]"
          },
          "metadata": {}
        }
      ]
    },
    {
      "cell_type": "code",
      "source": [
        "n_rows = 4\n",
        "n_cols = 10\n",
        "plt.figure(figsize=(n_cols * 1.2, n_rows * 1.2))\n",
        "for row in range(n_rows):\n",
        "    for col in range(n_cols):\n",
        "        index = n_cols * row + col\n",
        "        plt.subplot(n_rows, n_cols, index + 1)\n",
        "        plt.imshow(X_train[index], cmap=\"binary\", interpolation=\"nearest\")\n",
        "        plt.axis('off')\n",
        "        plt.title(class_names[y_train[index]], fontsize=12)\n",
        "plt.subplots_adjust(wspace=0.2, hspace=0.5)\n",
        "plt.savefig('fashion_mnist_plot', bbox_inches='tight',pad_inches = 0)\n",
        "plt.show()"
      ],
      "metadata": {
        "colab": {
          "base_uri": "https://localhost:8080/",
          "height": 0
        },
        "id": "SUFGGOp1Ce99",
        "outputId": "53982f78-b138-44a1-d857-6b192b434814"
      },
      "execution_count": 14,
      "outputs": [
        {
          "output_type": "display_data",
          "data": {
            "text/plain": [
              "<Figure size 1200x480 with 40 Axes>"
            ],
            "image/png": "[encoded data removed]"
          },
          "metadata": {}
        }
      ]
    },
    {
      "cell_type": "markdown",
      "source": [
        "## Model Exploration"
      ],
      "metadata": {
        "id": "3moes8In5Pzp"
      }
    },
    {
      "cell_type": "code",
      "source": [
        "model.layers"
      ],
      "metadata": {
        "colab": {
          "base_uri": "https://localhost:8080/"
        },
        "id": "ScpozMOxzRQY",
        "outputId": "64c7c604-15a4-4103-a5f1-f98127c284cb"
      },
      "execution_count": 15,
      "outputs": [
        {
          "output_type": "execute_result",
          "data": {
            "text/plain": [
              "[<keras.layers.reshaping.flatten.Flatten at 0x7ef620a80ee0>,\n",
              " <keras.layers.core.dense.Dense at 0x7ef620a80520>,\n",
              " <keras.layers.core.dense.Dense at 0x7ef620a810f0>,\n",
              " <keras.layers.core.dense.Dense at 0x7ef620a81ba0>]"
            ]
          },
          "metadata": {},
          "execution_count": 15
        }
      ]
    },
    {
      "cell_type": "code",
      "source": [
        "hidden1 = model.layers[1]"
      ],
      "metadata": {
        "id": "HV3Vz8bWzSko"
      },
      "execution_count": 16,
      "outputs": []
    },
    {
      "cell_type": "code",
      "source": [
        "weights, biases = hidden1.get_weights()"
      ],
      "metadata": {
        "id": "R6M-qUADzWMb"
      },
      "execution_count": 17,
      "outputs": []
    },
    {
      "cell_type": "code",
      "source": [
        "weights"
      ],
      "metadata": {
        "colab": {
          "base_uri": "https://localhost:8080/"
        },
        "id": "qLjsw9qm1M_2",
        "outputId": "77f3207d-05c0-4171-f58f-4b8cdd8f7d26"
      },
      "execution_count": 18,
      "outputs": [
        {
          "output_type": "execute_result",
          "data": {
            "text/plain": [
              "array([[ 0.04863386, -0.04570533, -0.07205248, ..., -0.01806893,\n",
              "         0.05614476,  0.02510293],\n",
              "       [ 0.00644235, -0.06590468, -0.00585835, ..., -0.03122593,\n",
              "        -0.01166904,  0.06498055],\n",
              "       [ 0.00548162, -0.01679549,  0.04150911, ...,  0.05716747,\n",
              "         0.00622962,  0.06572562],\n",
              "       ...,\n",
              "       [-0.00531337, -0.04954736,  0.0557353 , ..., -0.06296555,\n",
              "         0.02859697, -0.02920596],\n",
              "       [ 0.05650312,  0.02131695, -0.0312986 , ...,  0.02570834,\n",
              "        -0.00108584, -0.05671792],\n",
              "       [ 0.0444473 ,  0.0698863 , -0.03736388, ...,  0.02070566,\n",
              "        -0.03862194, -0.01519737]], dtype=float32)"
            ]
          },
          "metadata": {},
          "execution_count": 18
        }
      ]
    },
    {
      "cell_type": "code",
      "source": [
        "biases"
      ],
      "metadata": {
        "colab": {
          "base_uri": "https://localhost:8080/"
        },
        "id": "-99dYDVf1TFo",
        "outputId": "fa6891f2-9090-49ed-e0b9-4af51963f3f6"
      },
      "execution_count": 19,
      "outputs": [
        {
          "output_type": "execute_result",
          "data": {
            "text/plain": [
              "array([0., 0., 0., 0., 0., 0., 0., 0., 0., 0., 0., 0., 0., 0., 0., 0., 0.,\n",
              "       0., 0., 0., 0., 0., 0., 0., 0., 0., 0., 0., 0., 0., 0., 0., 0., 0.,\n",
              "       0., 0., 0., 0., 0., 0., 0., 0., 0., 0., 0., 0., 0., 0., 0., 0., 0.,\n",
              "       0., 0., 0., 0., 0., 0., 0., 0., 0., 0., 0., 0., 0., 0., 0., 0., 0.,\n",
              "       0., 0., 0., 0., 0., 0., 0., 0., 0., 0., 0., 0., 0., 0., 0., 0., 0.,\n",
              "       0., 0., 0., 0., 0., 0., 0., 0., 0., 0., 0., 0., 0., 0., 0., 0., 0.,\n",
              "       0., 0., 0., 0., 0., 0., 0., 0., 0., 0., 0., 0., 0., 0., 0., 0., 0.,\n",
              "       0., 0., 0., 0., 0., 0., 0., 0., 0., 0., 0., 0., 0., 0., 0., 0., 0.,\n",
              "       0., 0., 0., 0., 0., 0., 0., 0., 0., 0., 0., 0., 0., 0., 0., 0., 0.,\n",
              "       0., 0., 0., 0., 0., 0., 0., 0., 0., 0., 0., 0., 0., 0., 0., 0., 0.,\n",
              "       0., 0., 0., 0., 0., 0., 0., 0., 0., 0., 0., 0., 0., 0., 0., 0., 0.,\n",
              "       0., 0., 0., 0., 0., 0., 0., 0., 0., 0., 0., 0., 0., 0., 0., 0., 0.,\n",
              "       0., 0., 0., 0., 0., 0., 0., 0., 0., 0., 0., 0., 0., 0., 0., 0., 0.,\n",
              "       0., 0., 0., 0., 0., 0., 0., 0., 0., 0., 0., 0., 0., 0., 0., 0., 0.,\n",
              "       0., 0., 0., 0., 0., 0., 0., 0., 0., 0., 0., 0., 0., 0., 0., 0., 0.,\n",
              "       0., 0., 0., 0., 0., 0., 0., 0., 0., 0., 0., 0., 0., 0., 0., 0., 0.,\n",
              "       0., 0., 0., 0., 0., 0., 0., 0., 0., 0., 0., 0., 0., 0., 0., 0., 0.,\n",
              "       0., 0., 0., 0., 0., 0., 0., 0., 0., 0., 0.], dtype=float32)"
            ]
          },
          "metadata": {},
          "execution_count": 19
        }
      ]
    },
    {
      "cell_type": "code",
      "source": [
        "weights.shape"
      ],
      "metadata": {
        "colab": {
          "base_uri": "https://localhost:8080/"
        },
        "id": "uKE5RiKMzW7Y",
        "outputId": "c97b8616-3e00-421f-d0f7-336661670b8d"
      },
      "execution_count": 20,
      "outputs": [
        {
          "output_type": "execute_result",
          "data": {
            "text/plain": [
              "(784, 300)"
            ]
          },
          "metadata": {},
          "execution_count": 20
        }
      ]
    },
    {
      "cell_type": "code",
      "source": [
        "biases.shape"
      ],
      "metadata": {
        "colab": {
          "base_uri": "https://localhost:8080/"
        },
        "id": "IfYAhhj61Zol",
        "outputId": "f148535f-b0f1-4978-d885-5878ce0b944a"
      },
      "execution_count": 21,
      "outputs": [
        {
          "output_type": "execute_result",
          "data": {
            "text/plain": [
              "(300,)"
            ]
          },
          "metadata": {},
          "execution_count": 21
        }
      ]
    },
    {
      "cell_type": "code",
      "source": [
        "hidden2 = model.layers[2]\n",
        "w2, b2 = hidden2.get_weights()"
      ],
      "metadata": {
        "id": "yi5oKiEmzXCe"
      },
      "execution_count": 22,
      "outputs": []
    },
    {
      "cell_type": "code",
      "source": [
        "w2.shape"
      ],
      "metadata": {
        "colab": {
          "base_uri": "https://localhost:8080/"
        },
        "id": "yaJaIAuczX81",
        "outputId": "581a98f7-7c3d-4aee-fe04-9e0191a4eaf5"
      },
      "execution_count": 23,
      "outputs": [
        {
          "output_type": "execute_result",
          "data": {
            "text/plain": [
              "(300, 100)"
            ]
          },
          "metadata": {},
          "execution_count": 23
        }
      ]
    },
    {
      "cell_type": "code",
      "source": [
        "b2.shape"
      ],
      "metadata": {
        "colab": {
          "base_uri": "https://localhost:8080/"
        },
        "id": "vykK5ci6zYEj",
        "outputId": "c512a67e-d0a7-4fd0-f5f6-fa952f3e8177"
      },
      "execution_count": 24,
      "outputs": [
        {
          "output_type": "execute_result",
          "data": {
            "text/plain": [
              "(100,)"
            ]
          },
          "metadata": {},
          "execution_count": 24
        }
      ]
    },
    {
      "cell_type": "markdown",
      "source": [
        "## Compilation and Training"
      ],
      "metadata": {
        "id": "nncl2TZk5X-C"
      }
    },
    {
      "cell_type": "code",
      "source": [
        "model.compile(\n",
        "    loss = 'sparse_categorical_crossentropy',\n",
        "    optimizer = 'sgd',\n",
        "    metrics = ['accuracy']\n",
        ")"
      ],
      "metadata": {
        "id": "NEolOuIi2dwS"
      },
      "execution_count": 25,
      "outputs": []
    },
    {
      "cell_type": "code",
      "source": [
        "history = model.fit(X_train, y_train, epochs = 30,\n",
        "                    validation_data = (X_valid, y_valid))"
      ],
      "metadata": {
        "colab": {
          "base_uri": "https://localhost:8080/"
        },
        "id": "CHm5pRJv3HtR",
        "outputId": "8b7a53df-4e9b-4a8b-e49c-09dea1492ecb"
      },
      "execution_count": 26,
      "outputs": [
        {
          "output_type": "stream",
          "name": "stdout",
          "text": [
            "Epoch 1/30\n",
            "1719/1719 [==============================] - 11s 3ms/step - loss: 0.7169 - accuracy: 0.7686 - val_loss: 0.4942 - val_accuracy: 0.8356\n",
            "Epoch 2/30\n",
            "1719/1719 [==============================] - 6s 3ms/step - loss: 0.4857 - accuracy: 0.8294 - val_loss: 0.4782 - val_accuracy: 0.8406\n",
            "Epoch 3/30\n",
            "1719/1719 [==============================] - 5s 3ms/step - loss: 0.4406 - accuracy: 0.8462 - val_loss: 0.4391 - val_accuracy: 0.8406\n",
            "Epoch 4/30\n",
            "1719/1719 [==============================] - 6s 3ms/step - loss: 0.4151 - accuracy: 0.8547 - val_loss: 0.3962 - val_accuracy: 0.8624\n",
            "Epoch 5/30\n",
            "1719/1719 [==============================] - 6s 4ms/step - loss: 0.3936 - accuracy: 0.8629 - val_loss: 0.3827 - val_accuracy: 0.8704\n",
            "Epoch 6/30\n",
            "1719/1719 [==============================] - 6s 3ms/step - loss: 0.3772 - accuracy: 0.8678 - val_loss: 0.3956 - val_accuracy: 0.8608\n",
            "Epoch 7/30\n",
            "1719/1719 [==============================] - 6s 3ms/step - loss: 0.3646 - accuracy: 0.8706 - val_loss: 0.3935 - val_accuracy: 0.8610\n",
            "Epoch 8/30\n",
            "1719/1719 [==============================] - 5s 3ms/step - loss: 0.3534 - accuracy: 0.8744 - val_loss: 0.3641 - val_accuracy: 0.8732\n",
            "Epoch 9/30\n",
            "1719/1719 [==============================] - 6s 3ms/step - loss: 0.3441 - accuracy: 0.8790 - val_loss: 0.3535 - val_accuracy: 0.8772\n",
            "Epoch 10/30\n",
            "1719/1719 [==============================] - 5s 3ms/step - loss: 0.3348 - accuracy: 0.8813 - val_loss: 0.3589 - val_accuracy: 0.8734\n",
            "Epoch 11/30\n",
            "1719/1719 [==============================] - 6s 4ms/step - loss: 0.3253 - accuracy: 0.8842 - val_loss: 0.3493 - val_accuracy: 0.8750\n",
            "Epoch 12/30\n",
            "1719/1719 [==============================] - 6s 3ms/step - loss: 0.3178 - accuracy: 0.8866 - val_loss: 0.3334 - val_accuracy: 0.8818\n",
            "Epoch 13/30\n",
            "1719/1719 [==============================] - 6s 3ms/step - loss: 0.3115 - accuracy: 0.8883 - val_loss: 0.3610 - val_accuracy: 0.8668\n",
            "Epoch 14/30\n",
            "1719/1719 [==============================] - 5s 3ms/step - loss: 0.3037 - accuracy: 0.8911 - val_loss: 0.3368 - val_accuracy: 0.8792\n",
            "Epoch 15/30\n",
            "1719/1719 [==============================] - 6s 4ms/step - loss: 0.2975 - accuracy: 0.8928 - val_loss: 0.3231 - val_accuracy: 0.8850\n",
            "Epoch 16/30\n",
            "1719/1719 [==============================] - 5s 3ms/step - loss: 0.2910 - accuracy: 0.8950 - val_loss: 0.3229 - val_accuracy: 0.8856\n",
            "Epoch 17/30\n",
            "1719/1719 [==============================] - 6s 3ms/step - loss: 0.2859 - accuracy: 0.8964 - val_loss: 0.3382 - val_accuracy: 0.8776\n",
            "Epoch 18/30\n",
            "1719/1719 [==============================] - 8s 5ms/step - loss: 0.2805 - accuracy: 0.8990 - val_loss: 0.3443 - val_accuracy: 0.8768\n",
            "Epoch 19/30\n",
            "1719/1719 [==============================] - 7s 4ms/step - loss: 0.2748 - accuracy: 0.9008 - val_loss: 0.3134 - val_accuracy: 0.8874\n",
            "Epoch 20/30\n",
            "1719/1719 [==============================] - 5s 3ms/step - loss: 0.2701 - accuracy: 0.9027 - val_loss: 0.3121 - val_accuracy: 0.8896\n",
            "Epoch 21/30\n",
            "1719/1719 [==============================] - 6s 4ms/step - loss: 0.2644 - accuracy: 0.9047 - val_loss: 0.3236 - val_accuracy: 0.8830\n",
            "Epoch 22/30\n",
            "1719/1719 [==============================] - 5s 3ms/step - loss: 0.2609 - accuracy: 0.9060 - val_loss: 0.3162 - val_accuracy: 0.8894\n",
            "Epoch 23/30\n",
            "1719/1719 [==============================] - 7s 4ms/step - loss: 0.2564 - accuracy: 0.9062 - val_loss: 0.3049 - val_accuracy: 0.8908\n",
            "Epoch 24/30\n",
            "1719/1719 [==============================] - 5s 3ms/step - loss: 0.2507 - accuracy: 0.9098 - val_loss: 0.3015 - val_accuracy: 0.8918\n",
            "Epoch 25/30\n",
            "1719/1719 [==============================] - 6s 4ms/step - loss: 0.2463 - accuracy: 0.9107 - val_loss: 0.3306 - val_accuracy: 0.8828\n",
            "Epoch 26/30\n",
            "1719/1719 [==============================] - 5s 3ms/step - loss: 0.2435 - accuracy: 0.9119 - val_loss: 0.3106 - val_accuracy: 0.8898\n",
            "Epoch 27/30\n",
            "1719/1719 [==============================] - 6s 3ms/step - loss: 0.2389 - accuracy: 0.9134 - val_loss: 0.3148 - val_accuracy: 0.8876\n",
            "Epoch 28/30\n",
            "1719/1719 [==============================] - 5s 3ms/step - loss: 0.2358 - accuracy: 0.9143 - val_loss: 0.2921 - val_accuracy: 0.8950\n",
            "Epoch 29/30\n",
            "1719/1719 [==============================] - 5s 3ms/step - loss: 0.2311 - accuracy: 0.9171 - val_loss: 0.3068 - val_accuracy: 0.8892\n",
            "Epoch 30/30\n",
            "1719/1719 [==============================] - 6s 4ms/step - loss: 0.2273 - accuracy: 0.9183 - val_loss: 0.3005 - val_accuracy: 0.8904\n"
          ]
        }
      ]
    },
    {
      "cell_type": "code",
      "source": [
        "history.params"
      ],
      "metadata": {
        "colab": {
          "base_uri": "https://localhost:8080/"
        },
        "id": "rb0Ns19z3H9O",
        "outputId": "e36591ef-f54e-450a-d210-79ad63391605"
      },
      "execution_count": 27,
      "outputs": [
        {
          "output_type": "execute_result",
          "data": {
            "text/plain": [
              "{'verbose': 1, 'epochs': 30, 'steps': 1719}"
            ]
          },
          "metadata": {},
          "execution_count": 27
        }
      ]
    },
    {
      "cell_type": "code",
      "source": [
        "history.epoch"
      ],
      "metadata": {
        "id": "nwvR4S3O7IOZ",
        "colab": {
          "base_uri": "https://localhost:8080/"
        },
        "outputId": "12ca12a5-742d-40f1-eda3-983c572061b7"
      },
      "execution_count": 28,
      "outputs": [
        {
          "output_type": "execute_result",
          "data": {
            "text/plain": [
              "[0,\n",
              " 1,\n",
              " 2,\n",
              " 3,\n",
              " 4,\n",
              " 5,\n",
              " 6,\n",
              " 7,\n",
              " 8,\n",
              " 9,\n",
              " 10,\n",
              " 11,\n",
              " 12,\n",
              " 13,\n",
              " 14,\n",
              " 15,\n",
              " 16,\n",
              " 17,\n",
              " 18,\n",
              " 19,\n",
              " 20,\n",
              " 21,\n",
              " 22,\n",
              " 23,\n",
              " 24,\n",
              " 25,\n",
              " 26,\n",
              " 27,\n",
              " 28,\n",
              " 29]"
            ]
          },
          "metadata": {},
          "execution_count": 28
        }
      ]
    },
    {
      "cell_type": "code",
      "source": [
        "history.history"
      ],
      "metadata": {
        "id": "DY_jgZ4L7J9D",
        "colab": {
          "base_uri": "https://localhost:8080/"
        },
        "outputId": "413f7846-a277-4d28-d778-7baeb8da2cf6"
      },
      "execution_count": 29,
      "outputs": [
        {
          "output_type": "execute_result",
          "data": {
            "text/plain": [
              "{'loss': [0.7168512940406799,\n",
              "  0.48571139574050903,\n",
              "  0.4405902922153473,\n",
              "  0.4151339530944824,\n",
              "  0.3935982882976532,\n",
              "  0.3772392272949219,\n",
              "  0.364623486995697,\n",
              "  0.3533593714237213,\n",
              "  0.34410223364830017,\n",
              "  0.3347582519054413,\n",
              "  0.32528507709503174,\n",
              "  0.31778430938720703,\n",
              "  0.3115185499191284,\n",
              "  0.3037314713001251,\n",
              "  0.29754969477653503,\n",
              "  0.29102569818496704,\n",
              "  0.2859373986721039,\n",
              "  0.2804892063140869,\n",
              "  0.2748475968837738,\n",
              "  0.27011141180992126,\n",
              "  0.2644173204898834,\n",
              "  0.26092782616615295,\n",
              "  0.2563855051994324,\n",
              "  0.250733882188797,\n",
              "  0.24634648859500885,\n",
              "  0.2434849590063095,\n",
              "  0.2389499694108963,\n",
              "  0.23583319783210754,\n",
              "  0.2310616374015808,\n",
              "  0.22734951972961426],\n",
              " 'accuracy': [0.7686181664466858,\n",
              "  0.8294000029563904,\n",
              "  0.8461818099021912,\n",
              "  0.8546727299690247,\n",
              "  0.862854540348053,\n",
              "  0.8677999973297119,\n",
              "  0.8706181645393372,\n",
              "  0.8743818402290344,\n",
              "  0.8790363669395447,\n",
              "  0.8813454508781433,\n",
              "  0.8842363357543945,\n",
              "  0.8866000175476074,\n",
              "  0.8883090615272522,\n",
              "  0.8911272883415222,\n",
              "  0.892763614654541,\n",
              "  0.8950181603431702,\n",
              "  0.896399974822998,\n",
              "  0.8990181684494019,\n",
              "  0.9007999897003174,\n",
              "  0.9026545286178589,\n",
              "  0.9046545624732971,\n",
              "  0.906036376953125,\n",
              "  0.9062181711196899,\n",
              "  0.909818172454834,\n",
              "  0.9106909036636353,\n",
              "  0.9118909239768982,\n",
              "  0.913418173789978,\n",
              "  0.9143454432487488,\n",
              "  0.9170545339584351,\n",
              "  0.918290913105011],\n",
              " 'val_loss': [0.4941515028476715,\n",
              "  0.47815069556236267,\n",
              "  0.4390515685081482,\n",
              "  0.3961961567401886,\n",
              "  0.3826911449432373,\n",
              "  0.3955639600753784,\n",
              "  0.39352506399154663,\n",
              "  0.36412397027015686,\n",
              "  0.3535337746143341,\n",
              "  0.35886645317077637,\n",
              "  0.34930452704429626,\n",
              "  0.3334425985813141,\n",
              "  0.3610416352748871,\n",
              "  0.3367888331413269,\n",
              "  0.32314273715019226,\n",
              "  0.3228929340839386,\n",
              "  0.3382461667060852,\n",
              "  0.34425753355026245,\n",
              "  0.31341442465782166,\n",
              "  0.31214240193367004,\n",
              "  0.3236018419265747,\n",
              "  0.3161686956882477,\n",
              "  0.30489248037338257,\n",
              "  0.30149728059768677,\n",
              "  0.33055129647254944,\n",
              "  0.3106490969657898,\n",
              "  0.31483182311058044,\n",
              "  0.2920593321323395,\n",
              "  0.3068205714225769,\n",
              "  0.30052608251571655],\n",
              " 'val_accuracy': [0.8356000185012817,\n",
              "  0.8406000137329102,\n",
              "  0.8406000137329102,\n",
              "  0.8623999953269958,\n",
              "  0.8704000115394592,\n",
              "  0.86080002784729,\n",
              "  0.8610000014305115,\n",
              "  0.873199999332428,\n",
              "  0.8772000074386597,\n",
              "  0.8733999729156494,\n",
              "  0.875,\n",
              "  0.8817999958992004,\n",
              "  0.8668000102043152,\n",
              "  0.8791999816894531,\n",
              "  0.8849999904632568,\n",
              "  0.8855999708175659,\n",
              "  0.8776000142097473,\n",
              "  0.876800000667572,\n",
              "  0.8873999714851379,\n",
              "  0.8895999789237976,\n",
              "  0.8830000162124634,\n",
              "  0.8894000053405762,\n",
              "  0.8907999992370605,\n",
              "  0.8917999863624573,\n",
              "  0.8827999830245972,\n",
              "  0.8898000121116638,\n",
              "  0.8876000046730042,\n",
              "  0.8949999809265137,\n",
              "  0.88919997215271,\n",
              "  0.8903999924659729]}"
            ]
          },
          "metadata": {},
          "execution_count": 29
        }
      ]
    },
    {
      "cell_type": "code",
      "source": [
        "pd.DataFrame(history.history).plot(figsize=(8, 5))\n",
        "plt.grid(True)\n",
        "plt.gca().set_ylim(0,1)\n",
        "plt.show()"
      ],
      "metadata": {
        "colab": {
          "base_uri": "https://localhost:8080/",
          "height": 0
        },
        "id": "bbjmPo688R-A",
        "outputId": "5971d0bc-2d65-4eca-93e1-aa27b918a33d"
      },
      "execution_count": 30,
      "outputs": [
        {
          "output_type": "display_data",
          "data": {
            "text/plain": [
              "<Figure size 800x500 with 1 Axes>"
            ],
            "image/png": "[encoded data removed]"
          },
          "metadata": {}
        }
      ]
    },
    {
      "cell_type": "code",
      "source": [
        "model.evaluate(X_test, y_test)"
      ],
      "metadata": {
        "colab": {
          "base_uri": "https://localhost:8080/"
        },
        "id": "9bb_DPuK8hHq",
        "outputId": "1a410e8a-d127-4bd4-dcf8-b290ad2c1978"
      },
      "execution_count": 31,
      "outputs": [
        {
          "output_type": "stream",
          "name": "stdout",
          "text": [
            "313/313 [==============================] - 1s 2ms/step - loss: 64.8893 - accuracy: 0.8453\n"
          ]
        },
        {
          "output_type": "execute_result",
          "data": {
            "text/plain": [
              "[64.8892593383789, 0.845300018787384]"
            ]
          },
          "metadata": {},
          "execution_count": 31
        }
      ]
    },
    {
      "cell_type": "code",
      "source": [
        "X_new = X_test[:3]"
      ],
      "metadata": {
        "id": "f2B1W_K58hOp"
      },
      "execution_count": 32,
      "outputs": []
    },
    {
      "cell_type": "code",
      "source": [
        "y_proba = model.predict(X_new)\n",
        "y_proba.round(2)"
      ],
      "metadata": {
        "colab": {
          "base_uri": "https://localhost:8080/"
        },
        "id": "TT7tQ1Ch8hXz",
        "outputId": "9b56e9b0-6ae7-4c01-e983-0909f747d020"
      },
      "execution_count": 33,
      "outputs": [
        {
          "output_type": "stream",
          "name": "stdout",
          "text": [
            "1/1 [==============================] - 0s 84ms/step\n"
          ]
        },
        {
          "output_type": "execute_result",
          "data": {
            "text/plain": [
              "array([[0., 0., 0., 0., 0., 0., 0., 0., 0., 1.],\n",
              "       [0., 0., 1., 0., 0., 0., 0., 0., 0., 0.],\n",
              "       [0., 1., 0., 0., 0., 0., 0., 0., 0., 0.]], dtype=float32)"
            ]
          },
          "metadata": {},
          "execution_count": 33
        }
      ]
    },
    {
      "cell_type": "code",
      "source": [
        "pred_classes = np.argmax(y_proba, axis =1)\n",
        "pred_classes"
      ],
      "metadata": {
        "colab": {
          "base_uri": "https://localhost:8080/"
        },
        "id": "CjmkE5Ka-y93",
        "outputId": "6cdf9460-a805-4034-d410-a4241727c87c"
      },
      "execution_count": 34,
      "outputs": [
        {
          "output_type": "execute_result",
          "data": {
            "text/plain": [
              "array([9, 2, 1])"
            ]
          },
          "metadata": {},
          "execution_count": 34
        }
      ]
    },
    {
      "cell_type": "code",
      "source": [
        "np.array(class_names)[pred_classes]"
      ],
      "metadata": {
        "colab": {
          "base_uri": "https://localhost:8080/"
        },
        "id": "vL_14wRQAAC0",
        "outputId": "b66c7bf8-d9df-441b-e933-82ca90f7c81b"
      },
      "execution_count": 35,
      "outputs": [
        {
          "output_type": "execute_result",
          "data": {
            "text/plain": [
              "array(['Ankle boot', 'Pullover', 'Trouser'], dtype='<U11')"
            ]
          },
          "metadata": {},
          "execution_count": 35
        }
      ]
    },
    {
      "cell_type": "code",
      "source": [
        "y_new = y_test[:3]\n",
        "y_new"
      ],
      "metadata": {
        "colab": {
          "base_uri": "https://localhost:8080/"
        },
        "id": "asAskrdLAMAQ",
        "outputId": "784cb718-679c-44f2-fdd4-8daa35e2f542"
      },
      "execution_count": 36,
      "outputs": [
        {
          "output_type": "execute_result",
          "data": {
            "text/plain": [
              "array([9, 2, 1], dtype=uint8)"
            ]
          },
          "metadata": {},
          "execution_count": 36
        }
      ]
    },
    {
      "cell_type": "code",
      "source": [
        "plt.figure(figsize=(7.2, 2.4))\n",
        "for index, image in enumerate(X_new):\n",
        "    plt.subplot(1, 3, index + 1)\n",
        "    plt.imshow(image, cmap=\"binary\", interpolation=\"nearest\")\n",
        "    plt.axis('off')\n",
        "    plt.title(class_names[y_test[index]], fontsize=12)\n",
        "plt.subplots_adjust(wspace=0.2, hspace=0.5)\n",
        "plt.savefig('fashion_mnist_images_plot', format=\"png\")\n",
        "plt.show()"
      ],
      "metadata": {
        "colab": {
          "base_uri": "https://localhost:8080/",
          "height": 0
        },
        "id": "sTJs1--rKVdL",
        "outputId": "83133b69-6ee6-470d-8965-8eb129bfc0c3"
      },
      "execution_count": 37,
      "outputs": [
        {
          "output_type": "display_data",
          "data": {
            "text/plain": [
              "<Figure size 720x240 with 3 Axes>"
            ],
            "image/png": "[encoded data removed]"
          },
          "metadata": {}
        }
      ]
    },
    {
      "cell_type": "markdown",
      "source": [
        "# Regression MLP using Sequential API - California Housing"
      ],
      "metadata": {
        "id": "FLgqeXajD1hH"
      }
    },
    {
      "cell_type": "code",
      "source": [
        "from sklearn.datasets import fetch_california_housing\n",
        "from sklearn.model_selection import train_test_split\n",
        "from sklearn.preprocessing import StandardScaler\n",
        "\n",
        "housing = fetch_california_housing()\n",
        "\n",
        "X_train_full, X_test, y_train_full, y_test = train_test_split(housing.data, housing.target, random_state=42)\n",
        "X_train, X_valid, y_train, y_valid = train_test_split(X_train_full, y_train_full, random_state=42)\n",
        "\n",
        "scaler = StandardScaler()\n",
        "X_train = scaler.fit_transform(X_train)\n",
        "X_valid = scaler.transform(X_valid)\n",
        "X_test = scaler.transform(X_test)"
      ],
      "metadata": {
        "id": "6VssgzC_HB7b"
      },
      "execution_count": 38,
      "outputs": []
    },
    {
      "cell_type": "code",
      "source": [
        "np.random.seed(42)\n",
        "tf.random.set_seed(42)"
      ],
      "metadata": {
        "id": "AnXPGbroJFcH"
      },
      "execution_count": 39,
      "outputs": []
    },
    {
      "cell_type": "code",
      "source": [
        "model = keras.models.Sequential([\n",
        " keras.layers.Dense(30, activation=\"relu\", input_shape=X_train.shape[1:]),\n",
        " keras.layers.Dense(1)\n",
        "])"
      ],
      "metadata": {
        "id": "Ywvf3QJNHCB1"
      },
      "execution_count": 40,
      "outputs": []
    },
    {
      "cell_type": "code",
      "source": [
        "model.summary()"
      ],
      "metadata": {
        "colab": {
          "base_uri": "https://localhost:8080/"
        },
        "id": "v1ZGgr1THCSq",
        "outputId": "e223b813-78cb-4f06-f8e8-93ed90527704"
      },
      "execution_count": 41,
      "outputs": [
        {
          "output_type": "stream",
          "name": "stdout",
          "text": [
            "Model: \"sequential_1\"\n",
            "_________________________________________________________________\n",
            " Layer (type)                Output Shape              Param #   \n",
            "=================================================================\n",
            " dense_3 (Dense)             (None, 30)                270       \n",
            "                                                                 \n",
            " dense_4 (Dense)             (None, 1)                 31        \n",
            "                                                                 \n",
            "=================================================================\n",
            "Total params: 301\n",
            "Trainable params: 301\n",
            "Non-trainable params: 0\n",
            "_________________________________________________________________\n"
          ]
        }
      ]
    },
    {
      "cell_type": "code",
      "source": [
        "model.compile(loss=\"mean_squared_error\", optimizer=keras.optimizers.SGD(learning_rate=1e-3), metrics = ['accuracy'])"
      ],
      "metadata": {
        "id": "EEeoJVNiHnHA"
      },
      "execution_count": 42,
      "outputs": []
    },
    {
      "cell_type": "code",
      "source": [
        "model.summary()"
      ],
      "metadata": {
        "colab": {
          "base_uri": "https://localhost:8080/"
        },
        "id": "7Blz95HyH9t1",
        "outputId": "4dccf154-21ca-406b-e2d9-e36b51c51a2b"
      },
      "execution_count": 43,
      "outputs": [
        {
          "output_type": "stream",
          "name": "stdout",
          "text": [
            "Model: \"sequential_1\"\n",
            "_________________________________________________________________\n",
            " Layer (type)                Output Shape              Param #   \n",
            "=================================================================\n",
            " dense_3 (Dense)             (None, 30)                270       \n",
            "                                                                 \n",
            " dense_4 (Dense)             (None, 1)                 31        \n",
            "                                                                 \n",
            "=================================================================\n",
            "Total params: 301\n",
            "Trainable params: 301\n",
            "Non-trainable params: 0\n",
            "_________________________________________________________________\n"
          ]
        }
      ]
    },
    {
      "cell_type": "code",
      "source": [
        "history = model.fit(X_train, y_train, epochs=20, validation_data=(X_valid, y_valid))"
      ],
      "metadata": {
        "colab": {
          "base_uri": "https://localhost:8080/"
        },
        "id": "rxZT698pHv5L",
        "outputId": "6f3da86c-46dc-4798-ac30-edd02b134adf"
      },
      "execution_count": 44,
      "outputs": [
        {
          "output_type": "stream",
          "name": "stdout",
          "text": [
            "Epoch 1/20\n",
            "363/363 [==============================] - 2s 4ms/step - loss: 1.7062 - accuracy: 0.0027 - val_loss: 0.8689 - val_accuracy: 0.0044\n",
            "Epoch 2/20\n",
            "363/363 [==============================] - 2s 5ms/step - loss: 0.7424 - accuracy: 0.0029 - val_loss: 0.6938 - val_accuracy: 0.0044\n",
            "Epoch 3/20\n",
            "363/363 [==============================] - 1s 3ms/step - loss: 0.6865 - accuracy: 0.0029 - val_loss: 0.6624 - val_accuracy: 0.0044\n",
            "Epoch 4/20\n",
            "363/363 [==============================] - 1s 4ms/step - loss: 0.6495 - accuracy: 0.0029 - val_loss: 0.6059 - val_accuracy: 0.0044\n",
            "Epoch 5/20\n",
            "363/363 [==============================] - 1s 4ms/step - loss: 0.6174 - accuracy: 0.0029 - val_loss: 0.5730 - val_accuracy: 0.0044\n",
            "Epoch 6/20\n",
            "363/363 [==============================] - 1s 4ms/step - loss: 0.5880 - accuracy: 0.0029 - val_loss: 0.5441 - val_accuracy: 0.0044\n",
            "Epoch 7/20\n",
            "363/363 [==============================] - 1s 3ms/step - loss: 0.5621 - accuracy: 0.0029 - val_loss: 0.5245 - val_accuracy: 0.0044\n",
            "Epoch 8/20\n",
            "363/363 [==============================] - 1s 4ms/step - loss: 0.5398 - accuracy: 0.0029 - val_loss: 0.4970 - val_accuracy: 0.0044\n",
            "Epoch 9/20\n",
            "363/363 [==============================] - 1s 3ms/step - loss: 0.5197 - accuracy: 0.0029 - val_loss: 0.4765 - val_accuracy: 0.0044\n",
            "Epoch 10/20\n",
            "363/363 [==============================] - 2s 4ms/step - loss: 0.5029 - accuracy: 0.0029 - val_loss: 0.4603 - val_accuracy: 0.0044\n",
            "Epoch 11/20\n",
            "363/363 [==============================] - 2s 5ms/step - loss: 0.4894 - accuracy: 0.0029 - val_loss: 0.4606 - val_accuracy: 0.0044\n",
            "Epoch 12/20\n",
            "363/363 [==============================] - 1s 4ms/step - loss: 0.4780 - accuracy: 0.0029 - val_loss: 0.4400 - val_accuracy: 0.0044\n",
            "Epoch 13/20\n",
            "363/363 [==============================] - 1s 3ms/step - loss: 0.4689 - accuracy: 0.0029 - val_loss: 0.4418 - val_accuracy: 0.0044\n",
            "Epoch 14/20\n",
            "363/363 [==============================] - 1s 4ms/step - loss: 0.4609 - accuracy: 0.0029 - val_loss: 0.4296 - val_accuracy: 0.0044\n",
            "Epoch 15/20\n",
            "363/363 [==============================] - 1s 3ms/step - loss: 0.4541 - accuracy: 0.0029 - val_loss: 0.4318 - val_accuracy: 0.0044\n",
            "Epoch 16/20\n",
            "363/363 [==============================] - 1s 4ms/step - loss: 0.4483 - accuracy: 0.0029 - val_loss: 0.4259 - val_accuracy: 0.0044\n",
            "Epoch 17/20\n",
            "363/363 [==============================] - 1s 4ms/step - loss: 0.4434 - accuracy: 0.0029 - val_loss: 0.4284 - val_accuracy: 0.0044\n",
            "Epoch 18/20\n",
            "363/363 [==============================] - 1s 4ms/step - loss: 0.4388 - accuracy: 0.0029 - val_loss: 0.4326 - val_accuracy: 0.0044\n",
            "Epoch 19/20\n",
            "363/363 [==============================] - 1s 4ms/step - loss: 0.4345 - accuracy: 0.0029 - val_loss: 0.4201 - val_accuracy: 0.0044\n",
            "Epoch 20/20\n",
            "363/363 [==============================] - 2s 5ms/step - loss: 0.4312 - accuracy: 0.0029 - val_loss: 0.4436 - val_accuracy: 0.0044\n"
          ]
        }
      ]
    },
    {
      "cell_type": "code",
      "source": [
        "plt.plot(pd.DataFrame(history.history))\n",
        "plt.grid(True)\n",
        "plt.gca().set_ylim(0, 1)\n",
        "plt.show()"
      ],
      "metadata": {
        "colab": {
          "base_uri": "https://localhost:8080/",
          "height": 0
        },
        "id": "rCTaQkcPIhLu",
        "outputId": "cbb31a92-4b75-44b6-d7b5-b80d5f148a25"
      },
      "execution_count": 45,
      "outputs": [
        {
          "output_type": "display_data",
          "data": {
            "text/plain": [
              "<Figure size 640x480 with 1 Axes>"
            ],
            "image/png": "[encoded data removed]"
          },
          "metadata": {}
        }
      ]
    },
    {
      "cell_type": "code",
      "source": [
        "mse_test = model.evaluate(X_test, y_test)"
      ],
      "metadata": {
        "colab": {
          "base_uri": "https://localhost:8080/"
        },
        "id": "36zGnV4fHwAF",
        "outputId": "dd59e69b-6962-48cc-8448-ff13763e1221"
      },
      "execution_count": 46,
      "outputs": [
        {
          "output_type": "stream",
          "name": "stdout",
          "text": [
            "162/162 [==============================] - 0s 2ms/step - loss: 0.4187 - accuracy: 0.0021\n"
          ]
        }
      ]
    },
    {
      "cell_type": "code",
      "source": [
        "X_new = X_test[:3] # pretend these are new instances\n",
        "y_pred = model.predict(X_new)"
      ],
      "metadata": {
        "colab": {
          "base_uri": "https://localhost:8080/"
        },
        "id": "vpERprJ1Hxw5",
        "outputId": "6b3bc9b1-8b68-4e54-ee9e-99e61dfd5d76"
      },
      "execution_count": 47,
      "outputs": [
        {
          "output_type": "stream",
          "name": "stdout",
          "text": [
            "1/1 [==============================] - 0s 46ms/step\n"
          ]
        }
      ]
    },
    {
      "cell_type": "code",
      "source": [
        "y_pred"
      ],
      "metadata": {
        "colab": {
          "base_uri": "https://localhost:8080/"
        },
        "id": "diuBXVT0ISjb",
        "outputId": "25d29594-85a8-4af9-d328-c762b7e0c09a"
      },
      "execution_count": 48,
      "outputs": [
        {
          "output_type": "execute_result",
          "data": {
            "text/plain": [
              "array([[0.6127697],\n",
              "       [1.6640455],\n",
              "       [3.0509388]], dtype=float32)"
            ]
          },
          "metadata": {},
          "execution_count": 48
        }
      ]
    },
    {
      "cell_type": "markdown",
      "source": [
        "# Functional API - California Housing"
      ],
      "metadata": {
        "id": "yzGf5fxpO27c"
      }
    },
    {
      "cell_type": "code",
      "source": [
        "housing = fetch_california_housing()\n",
        "\n",
        "X_train_full, X_test, y_train_full, y_test = train_test_split(housing.data, housing.target, random_state=42)\n",
        "X_train, X_valid, y_train, y_valid = train_test_split(X_train_full, y_train_full, random_state=42)\n",
        "\n",
        "scaler = StandardScaler()\n",
        "X_train = scaler.fit_transform(X_train)\n",
        "X_valid = scaler.transform(X_valid)\n",
        "X_test = scaler.transform(X_test)"
      ],
      "metadata": {
        "id": "zvuFWH1FQChm"
      },
      "execution_count": 49,
      "outputs": []
    },
    {
      "cell_type": "code",
      "source": [
        "np.random.seed(42)\n",
        "tf.random.set_seed(42)"
      ],
      "metadata": {
        "id": "YwOIJ0WTO_bv"
      },
      "execution_count": 50,
      "outputs": []
    },
    {
      "cell_type": "markdown",
      "source": [
        "## Normal Single input functional api"
      ],
      "metadata": {
        "id": "3LsGoGM-Qg3p"
      }
    },
    {
      "cell_type": "code",
      "source": [
        "input_ = keras.layers.Input(shape=X_train.shape[1:])\n",
        "hidden1 = keras.layers.Dense(30, activation=\"relu\")(input_)\n",
        "hidden2 = keras.layers.Dense(30, activation=\"relu\")(hidden1)\n",
        "concat = keras.layers.Concatenate()([input_, hidden2])\n",
        "output = keras.layers.Dense(1)(concat)\n",
        "model = keras.Model(inputs=[input_], outputs=[output])"
      ],
      "metadata": {
        "id": "gXxn2bS2PLP0"
      },
      "execution_count": 51,
      "outputs": []
    },
    {
      "cell_type": "code",
      "source": [
        "model.summary()"
      ],
      "metadata": {
        "colab": {
          "base_uri": "https://localhost:8080/"
        },
        "id": "CiYRrCiAPSnJ",
        "outputId": "e1658aa7-f522-4692-8b34-7e146694e79a"
      },
      "execution_count": 52,
      "outputs": [
        {
          "output_type": "stream",
          "name": "stdout",
          "text": [
            "Model: \"model\"\n",
            "__________________________________________________________________________________________________\n",
            " Layer (type)                   Output Shape         Param #     Connected to                     \n",
            "==================================================================================================\n",
            " input_2 (InputLayer)           [(None, 8)]          0           []                               \n",
            "                                                                                                  \n",
            " dense_5 (Dense)                (None, 30)           270         ['input_2[0][0]']                \n",
            "                                                                                                  \n",
            " dense_6 (Dense)                (None, 30)           930         ['dense_5[0][0]']                \n",
            "                                                                                                  \n",
            " concatenate (Concatenate)      (None, 38)           0           ['input_2[0][0]',                \n",
            "                                                                  'dense_6[0][0]']                \n",
            "                                                                                                  \n",
            " dense_7 (Dense)                (None, 1)            39          ['concatenate[0][0]']            \n",
            "                                                                                                  \n",
            "==================================================================================================\n",
            "Total params: 1,239\n",
            "Trainable params: 1,239\n",
            "Non-trainable params: 0\n",
            "__________________________________________________________________________________________________\n"
          ]
        }
      ]
    },
    {
      "cell_type": "code",
      "source": [
        "X_new = X_test[:3] # pretend these are new instances\n",
        "y_pred = model.predict(X_new)"
      ],
      "metadata": {
        "colab": {
          "base_uri": "https://localhost:8080/"
        },
        "id": "cr-ImIAzQKru",
        "outputId": "7ae86a28-1b33-4c07-e6e8-a8663e5101ab"
      },
      "execution_count": 53,
      "outputs": [
        {
          "output_type": "stream",
          "name": "stdout",
          "text": [
            "1/1 [==============================] - 0s 52ms/step\n"
          ]
        }
      ]
    },
    {
      "cell_type": "code",
      "source": [
        "model.compile(loss=\"mean_squared_error\", optimizer=keras.optimizers.SGD(learning_rate=1e-3))\n",
        "history = model.fit(X_train, y_train, epochs=20,\n",
        "                    validation_data=(X_valid, y_valid))\n",
        "mse_test = model.evaluate(X_test, y_test)\n",
        "y_pred = model.predict(X_new)\n"
      ],
      "metadata": {
        "colab": {
          "base_uri": "https://localhost:8080/"
        },
        "id": "kF3dx-f3PrJs",
        "outputId": "74470d39-b8b6-4ba6-d533-1c69e7b6b84c"
      },
      "execution_count": 54,
      "outputs": [
        {
          "output_type": "stream",
          "name": "stdout",
          "text": [
            "Epoch 1/20\n",
            "363/363 [==============================] - 2s 4ms/step - loss: 2.2098 - val_loss: 0.8939\n",
            "Epoch 2/20\n",
            "363/363 [==============================] - 1s 3ms/step - loss: 0.7280 - val_loss: 0.9736\n",
            "Epoch 3/20\n",
            "363/363 [==============================] - 1s 3ms/step - loss: 0.6470 - val_loss: 0.6011\n",
            "Epoch 4/20\n",
            "363/363 [==============================] - 1s 4ms/step - loss: 0.5973 - val_loss: 0.5510\n",
            "Epoch 5/20\n",
            "363/363 [==============================] - 1s 3ms/step - loss: 0.5623 - val_loss: 0.5208\n",
            "Epoch 6/20\n",
            "363/363 [==============================] - 2s 4ms/step - loss: 0.5339 - val_loss: 0.5018\n",
            "Epoch 7/20\n",
            "363/363 [==============================] - 1s 4ms/step - loss: 0.5118 - val_loss: 0.4973\n",
            "Epoch 8/20\n",
            "363/363 [==============================] - 1s 4ms/step - loss: 0.4947 - val_loss: 0.4633\n",
            "Epoch 9/20\n",
            "363/363 [==============================] - 1s 4ms/step - loss: 0.4792 - val_loss: 0.4476\n",
            "Epoch 10/20\n",
            "363/363 [==============================] - 1s 3ms/step - loss: 0.4670 - val_loss: 0.4370\n",
            "Epoch 11/20\n",
            "363/363 [==============================] - 1s 4ms/step - loss: 0.4570 - val_loss: 0.4347\n",
            "Epoch 12/20\n",
            "363/363 [==============================] - 1s 3ms/step - loss: 0.4480 - val_loss: 0.4185\n",
            "Epoch 13/20\n",
            "363/363 [==============================] - 1s 4ms/step - loss: 0.4406 - val_loss: 0.4085\n",
            "Epoch 14/20\n",
            "363/363 [==============================] - 1s 3ms/step - loss: 0.4335 - val_loss: 0.4034\n",
            "Epoch 15/20\n",
            "363/363 [==============================] - 2s 4ms/step - loss: 0.4275 - val_loss: 0.4013\n",
            "Epoch 16/20\n",
            "363/363 [==============================] - 2s 4ms/step - loss: 0.4219 - val_loss: 0.3990\n",
            "Epoch 17/20\n",
            "363/363 [==============================] - 1s 3ms/step - loss: 0.4175 - val_loss: 0.4025\n",
            "Epoch 18/20\n",
            "363/363 [==============================] - 1s 4ms/step - loss: 0.4129 - val_loss: 0.3902\n",
            "Epoch 19/20\n",
            "363/363 [==============================] - 1s 4ms/step - loss: 0.4084 - val_loss: 0.3831\n",
            "Epoch 20/20\n",
            "363/363 [==============================] - 1s 3ms/step - loss: 0.4052 - val_loss: 0.4008\n",
            "162/162 [==============================] - 0s 2ms/step - loss: 0.3956\n",
            "1/1 [==============================] - 0s 51ms/step\n"
          ]
        }
      ]
    },
    {
      "cell_type": "markdown",
      "source": [
        "## For different inputs along different paths"
      ],
      "metadata": {
        "id": "ArOy1IXxP42h"
      }
    },
    {
      "cell_type": "code",
      "source": [
        "input_A = keras.layers.Input(shape=[5], name=\"wide_input\")\n",
        "input_B = keras.layers.Input(shape=[6], name=\"deep_input\")\n",
        "hidden1 = keras.layers.Dense(30, activation=\"relu\")(input_B)\n",
        "hidden2 = keras.layers.Dense(30, activation=\"relu\")(hidden1)\n",
        "concat = keras.layers.concatenate([input_A, hidden2])\n",
        "output = keras.layers.Dense(1, name=\"output\")(concat)\n",
        "model = keras.models.Model(inputs=[input_A, input_B], outputs=[output])"
      ],
      "metadata": {
        "id": "EDgtClpWPxbn"
      },
      "execution_count": 55,
      "outputs": []
    },
    {
      "cell_type": "code",
      "source": [
        "model.compile(loss=\"mse\", optimizer=keras.optimizers.SGD(learning_rate=1e-3))\n",
        "\n",
        "X_train_A, X_train_B = X_train[:, :5], X_train[:, 2:]\n",
        "X_valid_A, X_valid_B = X_valid[:, :5], X_valid[:, 2:]\n",
        "X_test_A, X_test_B = X_test[:, :5], X_test[:, 2:]\n",
        "X_new_A, X_new_B = X_test_A[:3], X_test_B[:3]\n",
        "\n",
        "history = model.fit((X_train_A, X_train_B), y_train, epochs=20,\n",
        "                    validation_data=((X_valid_A, X_valid_B), y_valid))\n",
        "mse_test = model.evaluate((X_test_A, X_test_B), y_test)\n",
        "y_pred = model.predict((X_new_A, X_new_B))"
      ],
      "metadata": {
        "colab": {
          "base_uri": "https://localhost:8080/"
        },
        "id": "U7MtXYI9Qq0F",
        "outputId": "703b5f62-52eb-4176-b0d9-50b0d152ea86"
      },
      "execution_count": 56,
      "outputs": [
        {
          "output_type": "stream",
          "name": "stdout",
          "text": [
            "Epoch 1/20\n",
            "363/363 [==============================] - 2s 5ms/step - loss: 2.0377 - val_loss: 0.8419\n",
            "Epoch 2/20\n",
            "363/363 [==============================] - 2s 4ms/step - loss: 0.7463 - val_loss: 0.6780\n",
            "Epoch 3/20\n",
            "363/363 [==============================] - 1s 3ms/step - loss: 0.6493 - val_loss: 0.6107\n",
            "Epoch 4/20\n",
            "363/363 [==============================] - 1s 3ms/step - loss: 0.6039 - val_loss: 0.5791\n",
            "Epoch 5/20\n",
            "363/363 [==============================] - 1s 4ms/step - loss: 0.5747 - val_loss: 0.5436\n",
            "Epoch 6/20\n",
            "363/363 [==============================] - 1s 4ms/step - loss: 0.5484 - val_loss: 0.5230\n",
            "Epoch 7/20\n",
            "363/363 [==============================] - 1s 3ms/step - loss: 0.5285 - val_loss: 0.4998\n",
            "Epoch 8/20\n",
            "363/363 [==============================] - 1s 4ms/step - loss: 0.5097 - val_loss: 0.4795\n",
            "Epoch 9/20\n",
            "363/363 [==============================] - 1s 3ms/step - loss: 0.4930 - val_loss: 0.4654\n",
            "Epoch 10/20\n",
            "363/363 [==============================] - 2s 4ms/step - loss: 0.4801 - val_loss: 0.4488\n",
            "Epoch 11/20\n",
            "363/363 [==============================] - 2s 5ms/step - loss: 0.4690 - val_loss: 0.4428\n",
            "Epoch 12/20\n",
            "363/363 [==============================] - 1s 3ms/step - loss: 0.4606 - val_loss: 0.4299\n",
            "Epoch 13/20\n",
            "363/363 [==============================] - 1s 4ms/step - loss: 0.4533 - val_loss: 0.4248\n",
            "Epoch 14/20\n",
            "363/363 [==============================] - 1s 4ms/step - loss: 0.4478 - val_loss: 0.4200\n",
            "Epoch 15/20\n",
            "363/363 [==============================] - 1s 3ms/step - loss: 0.4428 - val_loss: 0.4147\n",
            "Epoch 16/20\n",
            "363/363 [==============================] - 1s 4ms/step - loss: 0.4387 - val_loss: 0.4090\n",
            "Epoch 17/20\n",
            "363/363 [==============================] - 1s 3ms/step - loss: 0.4349 - val_loss: 0.4129\n",
            "Epoch 18/20\n",
            "363/363 [==============================] - 1s 3ms/step - loss: 0.4329 - val_loss: 0.4118\n",
            "Epoch 19/20\n",
            "363/363 [==============================] - 2s 5ms/step - loss: 0.4296 - val_loss: 0.4059\n",
            "Epoch 20/20\n",
            "363/363 [==============================] - 2s 5ms/step - loss: 0.4276 - val_loss: 0.4237\n",
            "162/162 [==============================] - 0s 2ms/step - loss: 0.4205\n"
          ]
        },
        {
          "output_type": "stream",
          "name": "stderr",
          "text": [
            "WARNING:tensorflow:5 out of the last 5 calls to <function Model.make_predict_function.<locals>.predict_function at 0x7ef61f7c79a0> triggered tf.function retracing. Tracing is expensive and the excessive number of tracings could be due to (1) creating @tf.function repeatedly in a loop, (2) passing tensors with different shapes, (3) passing Python objects instead of tensors. For (1), please define your @tf.function outside of the loop. For (2), @tf.function has reduce_retracing=True option that can avoid unnecessary retracing. For (3), please refer to https://www.tensorflow.org/guide/function#controlling_retracing and https://www.tensorflow.org/api_docs/python/tf/function for  more details.\n"
          ]
        },
        {
          "output_type": "stream",
          "name": "stdout",
          "text": [
            "1/1 [==============================] - 0s 58ms/step\n"
          ]
        }
      ]
    },
    {
      "cell_type": "markdown",
      "source": [
        "## Adding Auxillary Output for regularization"
      ],
      "metadata": {
        "id": "NHKodaRLR-Ju"
      }
    },
    {
      "cell_type": "code",
      "source": [
        "np.random.seed(42)\n",
        "tf.random.set_seed(42)"
      ],
      "metadata": {
        "id": "IHskY943R8jj"
      },
      "execution_count": 57,
      "outputs": []
    },
    {
      "cell_type": "code",
      "source": [
        "input_A = keras.layers.Input(shape=[5], name=\"wide_input\")\n",
        "input_B = keras.layers.Input(shape=[6], name=\"deep_input\")\n",
        "hidden1 = keras.layers.Dense(30, activation=\"relu\")(input_B)\n",
        "hidden2 = keras.layers.Dense(30, activation=\"relu\")(hidden1)\n",
        "concat = keras.layers.concatenate([input_A, hidden2])\n",
        "output = keras.layers.Dense(1, name=\"main_output\")(concat)\n",
        "aux_output = keras.layers.Dense(1, name=\"aux_output\")(hidden2)\n",
        "model = keras.models.Model(inputs=[input_A, input_B],\n",
        "                           outputs=[output, aux_output])"
      ],
      "metadata": {
        "id": "1C1-ZyjpSHOQ"
      },
      "execution_count": 58,
      "outputs": []
    },
    {
      "cell_type": "code",
      "source": [
        "model.compile(loss=[\"mse\", \"mse\"], loss_weights=[0.9, 0.1], optimizer=keras.optimizers.SGD(learning_rate=1e-3))"
      ],
      "metadata": {
        "id": "Ej-_YkPpSHed"
      },
      "execution_count": 59,
      "outputs": []
    },
    {
      "cell_type": "code",
      "source": [
        "history = model.fit([X_train_A, X_train_B], [y_train, y_train], epochs=20, validation_data=([X_valid_A, X_valid_B], [y_valid, y_valid]))"
      ],
      "metadata": {
        "colab": {
          "base_uri": "https://localhost:8080/"
        },
        "id": "EbWGnAiJSHka",
        "outputId": "3842ee4f-e950-4517-a0c3-a5d77d6406e9"
      },
      "execution_count": 60,
      "outputs": [
        {
          "output_type": "stream",
          "name": "stdout",
          "text": [
            "Epoch 1/20\n",
            "363/363 [==============================] - 3s 5ms/step - loss: 2.6971 - main_output_loss: 2.4343 - aux_output_loss: 5.0619 - val_loss: 2.6246 - val_main_output_loss: 1.7145 - val_aux_output_loss: 10.8160\n",
            "Epoch 2/20\n",
            "363/363 [==============================] - 2s 5ms/step - loss: 1.0481 - main_output_loss: 0.7881 - aux_output_loss: 3.3884 - val_loss: 1.8779 - val_main_output_loss: 0.6591 - val_aux_output_loss: 12.8468\n",
            "Epoch 3/20\n",
            "363/363 [==============================] - 2s 5ms/step - loss: 0.7933 - main_output_loss: 0.6204 - aux_output_loss: 2.3493 - val_loss: 1.8188 - val_main_output_loss: 0.5787 - val_aux_output_loss: 12.9796\n",
            "Epoch 4/20\n",
            "363/363 [==============================] - 2s 5ms/step - loss: 0.6988 - main_output_loss: 0.5676 - aux_output_loss: 1.8798 - val_loss: 1.6768 - val_main_output_loss: 0.5281 - val_aux_output_loss: 12.0149\n",
            "Epoch 5/20\n",
            "363/363 [==============================] - 2s 6ms/step - loss: 0.6466 - main_output_loss: 0.5361 - aux_output_loss: 1.6414 - val_loss: 1.5165 - val_main_output_loss: 0.5033 - val_aux_output_loss: 10.6351\n",
            "Epoch 6/20\n",
            "363/363 [==============================] - 2s 5ms/step - loss: 0.6124 - main_output_loss: 0.5134 - aux_output_loss: 1.5025 - val_loss: 1.3674 - val_main_output_loss: 0.5029 - val_aux_output_loss: 9.1480\n",
            "Epoch 7/20\n",
            "363/363 [==============================] - 2s 5ms/step - loss: 0.5877 - main_output_loss: 0.4962 - aux_output_loss: 1.4111 - val_loss: 1.2451 - val_main_output_loss: 0.4910 - val_aux_output_loss: 8.0318\n",
            "Epoch 8/20\n",
            "363/363 [==============================] - 2s 5ms/step - loss: 0.5697 - main_output_loss: 0.4837 - aux_output_loss: 1.3442 - val_loss: 1.1176 - val_main_output_loss: 0.4529 - val_aux_output_loss: 7.1000\n",
            "Epoch 9/20\n",
            "363/363 [==============================] - 2s 5ms/step - loss: 0.5549 - main_output_loss: 0.4729 - aux_output_loss: 1.2934 - val_loss: 1.0205 - val_main_output_loss: 0.4439 - val_aux_output_loss: 6.2098\n",
            "Epoch 10/20\n",
            "363/363 [==============================] - 2s 5ms/step - loss: 0.5431 - main_output_loss: 0.4645 - aux_output_loss: 1.2506 - val_loss: 0.9421 - val_main_output_loss: 0.4424 - val_aux_output_loss: 5.4390\n",
            "Epoch 11/20\n",
            "363/363 [==============================] - 2s 5ms/step - loss: 0.5337 - main_output_loss: 0.4581 - aux_output_loss: 1.2144 - val_loss: 0.8676 - val_main_output_loss: 0.4227 - val_aux_output_loss: 4.8723\n",
            "Epoch 12/20\n",
            "363/363 [==============================] - 2s 6ms/step - loss: 0.5254 - main_output_loss: 0.4524 - aux_output_loss: 1.1823 - val_loss: 0.8121 - val_main_output_loss: 0.4258 - val_aux_output_loss: 4.2894\n",
            "Epoch 13/20\n",
            "363/363 [==============================] - 2s 5ms/step - loss: 0.5180 - main_output_loss: 0.4476 - aux_output_loss: 1.1524 - val_loss: 0.7548 - val_main_output_loss: 0.4141 - val_aux_output_loss: 3.8212\n",
            "Epoch 14/20\n",
            "363/363 [==============================] - 2s 4ms/step - loss: 0.5117 - main_output_loss: 0.4435 - aux_output_loss: 1.1257 - val_loss: 0.7181 - val_main_output_loss: 0.4195 - val_aux_output_loss: 3.4057\n",
            "Epoch 15/20\n",
            "363/363 [==============================] - 2s 4ms/step - loss: 0.5061 - main_output_loss: 0.4401 - aux_output_loss: 1.0999 - val_loss: 0.6826 - val_main_output_loss: 0.4082 - val_aux_output_loss: 3.1522\n",
            "Epoch 16/20\n",
            "363/363 [==============================] - 2s 5ms/step - loss: 0.5011 - main_output_loss: 0.4371 - aux_output_loss: 1.0775 - val_loss: 0.6598 - val_main_output_loss: 0.4161 - val_aux_output_loss: 2.8525\n",
            "Epoch 17/20\n",
            "363/363 [==============================] - 2s 4ms/step - loss: 0.4964 - main_output_loss: 0.4343 - aux_output_loss: 1.0556 - val_loss: 0.6306 - val_main_output_loss: 0.4013 - val_aux_output_loss: 2.6944\n",
            "Epoch 18/20\n",
            "363/363 [==============================] - 2s 4ms/step - loss: 0.4923 - main_output_loss: 0.4320 - aux_output_loss: 1.0349 - val_loss: 0.6091 - val_main_output_loss: 0.3980 - val_aux_output_loss: 2.5092\n",
            "Epoch 19/20\n",
            "363/363 [==============================] - 2s 6ms/step - loss: 0.4880 - main_output_loss: 0.4294 - aux_output_loss: 1.0160 - val_loss: 0.5914 - val_main_output_loss: 0.4034 - val_aux_output_loss: 2.2827\n",
            "Epoch 20/20\n",
            "363/363 [==============================] - 2s 5ms/step - loss: 0.4843 - main_output_loss: 0.4274 - aux_output_loss: 0.9968 - val_loss: 0.5768 - val_main_output_loss: 0.3954 - val_aux_output_loss: 2.2092\n"
          ]
        }
      ]
    },
    {
      "cell_type": "code",
      "source": [
        "total_loss, main_loss, aux_loss = model.evaluate(\n",
        "    [X_test_A, X_test_B], [y_test, y_test])\n",
        "y_pred_main, y_pred_aux = model.predict([X_new_A, X_new_B])"
      ],
      "metadata": {
        "colab": {
          "base_uri": "https://localhost:8080/"
        },
        "id": "niDT0P2sScWB",
        "outputId": "85064340-30e7-4abe-ea01-abb4c33c993f"
      },
      "execution_count": 61,
      "outputs": [
        {
          "output_type": "stream",
          "name": "stdout",
          "text": [
            "162/162 [==============================] - 0s 2ms/step - loss: 0.4727 - main_output_loss: 0.4172 - aux_output_loss: 0.9717\n"
          ]
        },
        {
          "output_type": "stream",
          "name": "stderr",
          "text": [
            "WARNING:tensorflow:6 out of the last 6 calls to <function Model.make_predict_function.<locals>.predict_function at 0x7ef61edda7a0> triggered tf.function retracing. Tracing is expensive and the excessive number of tracings could be due to (1) creating @tf.function repeatedly in a loop, (2) passing tensors with different shapes, (3) passing Python objects instead of tensors. For (1), please define your @tf.function outside of the loop. For (2), @tf.function has reduce_retracing=True option that can avoid unnecessary retracing. For (3), please refer to https://www.tensorflow.org/guide/function#controlling_retracing and https://www.tensorflow.org/api_docs/python/tf/function for  more details.\n"
          ]
        },
        {
          "output_type": "stream",
          "name": "stdout",
          "text": [
            "1/1 [==============================] - 0s 72ms/step\n"
          ]
        }
      ]
    },
    {
      "cell_type": "markdown",
      "source": [
        "# Model Subclassing"
      ],
      "metadata": {
        "id": "lMcsFJ6kq0Q5"
      }
    },
    {
      "cell_type": "code",
      "source": [
        "class WideAndDeepModel(keras.models.Model):\n",
        "    def __init__(self, units=30, activation=\"relu\", **kwargs):\n",
        "        super().__init__(**kwargs)\n",
        "        self.hidden1 = keras.layers.Dense(units, activation=activation)\n",
        "        self.hidden2 = keras.layers.Dense(units, activation=activation)\n",
        "        self.main_output = keras.layers.Dense(1)\n",
        "        self.aux_output = keras.layers.Dense(1)\n",
        "\n",
        "    def call(self, inputs):\n",
        "        input_A, input_B = inputs\n",
        "        hidden1 = self.hidden1(input_B)\n",
        "        hidden2 = self.hidden2(hidden1)\n",
        "        concat = keras.layers.concatenate([input_A, hidden2])\n",
        "        main_output = self.main_output(concat)\n",
        "        aux_output = self.aux_output(hidden2)\n",
        "        return main_output, aux_output\n",
        "\n",
        "model = WideAndDeepModel(30, activation=\"relu\")"
      ],
      "metadata": {
        "id": "1BWq1GfMq3HQ"
      },
      "execution_count": 62,
      "outputs": []
    },
    {
      "cell_type": "code",
      "source": [
        "model.compile(loss=\"mse\", loss_weights=[0.9, 0.1], optimizer=keras.optimizers.SGD(learning_rate=1e-3))\n",
        "history = model.fit((X_train_A, X_train_B), (y_train, y_train), epochs=10,\n",
        "                    validation_data=((X_valid_A, X_valid_B), (y_valid, y_valid)))\n",
        "total_loss, main_loss, aux_loss = model.evaluate((X_test_A, X_test_B), (y_test, y_test))\n",
        "y_pred_main, y_pred_aux = model.predict((X_new_A, X_new_B))"
      ],
      "metadata": {
        "id": "pm7Iw8Q2rJlI",
        "outputId": "04967b78-bc24-4b19-d842-470ac2cc042a",
        "colab": {
          "base_uri": "https://localhost:8080/"
        }
      },
      "execution_count": 63,
      "outputs": [
        {
          "output_type": "stream",
          "name": "stdout",
          "text": [
            "Epoch 1/10\n",
            "363/363 [==============================] - 7s 10ms/step - loss: 2.3239 - output_1_loss: 2.0470 - output_2_loss: 4.8166 - val_loss: 1.0900 - val_output_1_loss: 0.8155 - val_output_2_loss: 3.5604\n",
            "Epoch 2/10\n",
            "363/363 [==============================] - 2s 5ms/step - loss: 0.9555 - output_1_loss: 0.7250 - output_2_loss: 3.0300 - val_loss: 0.8231 - val_output_1_loss: 0.6319 - val_output_2_loss: 2.5438\n",
            "Epoch 3/10\n",
            "363/363 [==============================] - 2s 5ms/step - loss: 0.7725 - output_1_loss: 0.6182 - output_2_loss: 2.1605 - val_loss: 0.7424 - val_output_1_loss: 0.5591 - val_output_2_loss: 2.3918\n",
            "Epoch 4/10\n",
            "363/363 [==============================] - 2s 5ms/step - loss: 0.6796 - output_1_loss: 0.5642 - output_2_loss: 1.7178 - val_loss: 0.7439 - val_output_1_loss: 0.5553 - val_output_2_loss: 2.4414\n",
            "Epoch 5/10\n",
            "363/363 [==============================] - 2s 7ms/step - loss: 0.6272 - output_1_loss: 0.5304 - output_2_loss: 1.4992 - val_loss: 0.7213 - val_output_1_loss: 0.5343 - val_output_2_loss: 2.4041\n",
            "Epoch 6/10\n",
            "363/363 [==============================] - 2s 5ms/step - loss: 0.5955 - output_1_loss: 0.5072 - output_2_loss: 1.3902 - val_loss: 0.6348 - val_output_1_loss: 0.4674 - val_output_2_loss: 2.1417\n",
            "Epoch 7/10\n",
            "363/363 [==============================] - 2s 4ms/step - loss: 0.5743 - output_1_loss: 0.4911 - output_2_loss: 1.3226 - val_loss: 0.5995 - val_output_1_loss: 0.4505 - val_output_2_loss: 1.9411\n",
            "Epoch 8/10\n",
            "363/363 [==============================] - 2s 5ms/step - loss: 0.5584 - output_1_loss: 0.4790 - output_2_loss: 1.2731 - val_loss: 0.6570 - val_output_1_loss: 0.5207 - val_output_2_loss: 1.8839\n",
            "Epoch 9/10\n",
            "363/363 [==============================] - 2s 5ms/step - loss: 0.5447 - output_1_loss: 0.4679 - output_2_loss: 1.2359 - val_loss: 0.5502 - val_output_1_loss: 0.4343 - val_output_2_loss: 1.5937\n",
            "Epoch 10/10\n",
            "363/363 [==============================] - 2s 6ms/step - loss: 0.5340 - output_1_loss: 0.4599 - output_2_loss: 1.2010 - val_loss: 0.5245 - val_output_1_loss: 0.4233 - val_output_2_loss: 1.4352\n",
            "162/162 [==============================] - 1s 4ms/step - loss: 0.5188 - output_1_loss: 0.4446 - output_2_loss: 1.1859\n",
            "1/1 [==============================] - 0s 106ms/step\n"
          ]
        }
      ]
    },
    {
      "cell_type": "markdown",
      "source": [
        "# Saving And Restoring"
      ],
      "metadata": {
        "id": "-93MZ_0LtCSa"
      }
    },
    {
      "cell_type": "code",
      "source": [
        "np.random.seed(42)\n",
        "tf.random.set_seed(42)"
      ],
      "metadata": {
        "id": "8iQLTHV1tEOL"
      },
      "execution_count": 64,
      "outputs": []
    },
    {
      "cell_type": "code",
      "source": [
        "model = keras.models.Sequential([\n",
        "    keras.layers.Dense(30, activation=\"relu\", input_shape=[8]),\n",
        "    keras.layers.Dense(30, activation=\"relu\"),\n",
        "    keras.layers.Dense(1)\n",
        "])"
      ],
      "metadata": {
        "id": "EDqPC3fOtLSu"
      },
      "execution_count": 65,
      "outputs": []
    },
    {
      "cell_type": "code",
      "source": [
        "model.compile(loss=\"mse\", optimizer=keras.optimizers.SGD(learning_rate=1e-3))\n",
        "history = model.fit(X_train, y_train, epochs=10, validation_data=(X_valid, y_valid))\n",
        "mse_test = model.evaluate(X_test, y_test)\n"
      ],
      "metadata": {
        "id": "gYago-A8tOvG",
        "outputId": "4e31b6aa-afd3-4ec4-acd0-10e85a495a40",
        "colab": {
          "base_uri": "https://localhost:8080/"
        }
      },
      "execution_count": 66,
      "outputs": [
        {
          "output_type": "stream",
          "name": "stdout",
          "text": [
            "Epoch 1/10\n",
            "363/363 [==============================] - 2s 4ms/step - loss: 1.7128 - val_loss: 1.2122\n",
            "Epoch 2/10\n",
            "363/363 [==============================] - 1s 3ms/step - loss: 0.7416 - val_loss: 0.7623\n",
            "Epoch 3/10\n",
            "363/363 [==============================] - 1s 4ms/step - loss: 0.6675 - val_loss: 0.6582\n",
            "Epoch 4/10\n",
            "363/363 [==============================] - 1s 4ms/step - loss: 0.6163 - val_loss: 0.5626\n",
            "Epoch 5/10\n",
            "363/363 [==============================] - 1s 4ms/step - loss: 0.5748 - val_loss: 0.5235\n",
            "Epoch 6/10\n",
            "363/363 [==============================] - 2s 5ms/step - loss: 0.5403 - val_loss: 0.4933\n",
            "Epoch 7/10\n",
            "363/363 [==============================] - 1s 3ms/step - loss: 0.5125 - val_loss: 0.4687\n",
            "Epoch 8/10\n",
            "363/363 [==============================] - 1s 3ms/step - loss: 0.4902 - val_loss: 0.4577\n",
            "Epoch 9/10\n",
            "363/363 [==============================] - 1s 3ms/step - loss: 0.4718 - val_loss: 0.4416\n",
            "Epoch 10/10\n",
            "363/363 [==============================] - 1s 4ms/step - loss: 0.4569 - val_loss: 0.4396\n",
            "162/162 [==============================] - 0s 2ms/step - loss: 0.4377\n"
          ]
        }
      ]
    },
    {
      "cell_type": "code",
      "source": [
        "model.save(\"my_keras_model.h5\")"
      ],
      "metadata": {
        "id": "H-cdX1aQtZiO"
      },
      "execution_count": 67,
      "outputs": []
    },
    {
      "cell_type": "code",
      "source": [
        "model = keras.models.load_model(\"my_keras_model.h5\")"
      ],
      "metadata": {
        "id": "bGZGBVBJtax7"
      },
      "execution_count": 72,
      "outputs": []
    },
    {
      "cell_type": "code",
      "source": [
        "model.predict(X_new)"
      ],
      "metadata": {
        "id": "WthjYjncta4n",
        "outputId": "74a75d88-bd9c-473a-e0e4-9f3cf11051b4",
        "colab": {
          "base_uri": "https://localhost:8080/"
        }
      },
      "execution_count": 73,
      "outputs": [
        {
          "output_type": "stream",
          "name": "stdout",
          "text": [
            "1/1 [==============================] - 0s 47ms/step\n"
          ]
        },
        {
          "output_type": "execute_result",
          "data": {
            "text/plain": [
              "array([[0.9618472],\n",
              "       [1.4745808],\n",
              "       [3.1819186]], dtype=float32)"
            ]
          },
          "metadata": {},
          "execution_count": 73
        }
      ]
    },
    {
      "cell_type": "code",
      "source": [
        "model.save_weights(\"my_keras_weights.ckpt\")"
      ],
      "metadata": {
        "id": "mgcy9FUmtiaW"
      },
      "execution_count": 74,
      "outputs": []
    },
    {
      "cell_type": "code",
      "source": [
        "model.load_weights(\"my_keras_weights.ckpt\")"
      ],
      "metadata": {
        "id": "YVceGRHetmho",
        "outputId": "846653d2-904a-401c-96fa-a110f81a2dc0",
        "colab": {
          "base_uri": "https://localhost:8080/"
        }
      },
      "execution_count": 75,
      "outputs": [
        {
          "output_type": "execute_result",
          "data": {
            "text/plain": [
              "<tensorflow.python.checkpoint.checkpoint.CheckpointLoadStatus at 0x7ef57c5b4c70>"
            ]
          },
          "metadata": {},
          "execution_count": 75
        }
      ]
    },
    {
      "cell_type": "markdown",
      "source": [
        "# Using Callbacks"
      ],
      "metadata": {
        "id": "VUG53UQCt1LB"
      }
    },
    {
      "cell_type": "code",
      "source": [
        "keras.backend.clear_session()\n",
        "np.random.seed(42)\n",
        "tf.random.set_seed(42)"
      ],
      "metadata": {
        "id": "ZAOzmvh4tmpC"
      },
      "execution_count": 76,
      "outputs": []
    },
    {
      "cell_type": "code",
      "source": [
        "model = keras.models.Sequential([\n",
        "    keras.layers.Dense(30, activation=\"relu\", input_shape=[8]),\n",
        "    keras.layers.Dense(30, activation=\"relu\"),\n",
        "    keras.layers.Dense(1)\n",
        "])"
      ],
      "metadata": {
        "id": "9ju_u7ZWuQai"
      },
      "execution_count": 77,
      "outputs": []
    },
    {
      "cell_type": "code",
      "source": [
        "model.compile(loss=\"mse\", optimizer=keras.optimizers.SGD(learning_rate=1e-3))\n",
        "checkpoint_cb = keras.callbacks.ModelCheckpoint(\"my_keras_model.h5\", save_best_only=True)\n",
        "history = model.fit(X_train, y_train, epochs=10,\n",
        "                    validation_data=(X_valid, y_valid),\n",
        "                    callbacks=[checkpoint_cb])\n",
        "model = keras.models.load_model(\"my_keras_model.h5\") # rollback to best model\n",
        "mse_test = model.evaluate(X_test, y_test)"
      ],
      "metadata": {
        "id": "pl4TUmtIuQfl",
        "outputId": "2172be1c-9bbb-49a9-a2e3-b43e09af25e2",
        "colab": {
          "base_uri": "https://localhost:8080/"
        }
      },
      "execution_count": 78,
      "outputs": [
        {
          "output_type": "stream",
          "name": "stdout",
          "text": [
            "Epoch 1/10\n",
            "363/363 [==============================] - 3s 5ms/step - loss: 1.7511 - val_loss: 1.1418\n",
            "Epoch 2/10\n",
            "363/363 [==============================] - 1s 3ms/step - loss: 0.7292 - val_loss: 0.6600\n",
            "Epoch 3/10\n",
            "363/363 [==============================] - 1s 4ms/step - loss: 0.6400 - val_loss: 0.6446\n",
            "Epoch 4/10\n",
            "363/363 [==============================] - 1s 4ms/step - loss: 0.5919 - val_loss: 0.5746\n",
            "Epoch 5/10\n",
            "363/363 [==============================] - 1s 4ms/step - loss: 0.5555 - val_loss: 0.5260\n",
            "Epoch 6/10\n",
            "363/363 [==============================] - 1s 4ms/step - loss: 0.5247 - val_loss: 0.4921\n",
            "Epoch 7/10\n",
            "363/363 [==============================] - 1s 3ms/step - loss: 0.5010 - val_loss: 0.4684\n",
            "Epoch 8/10\n",
            "363/363 [==============================] - 2s 4ms/step - loss: 0.4818 - val_loss: 0.4477\n",
            "Epoch 9/10\n",
            "363/363 [==============================] - 2s 4ms/step - loss: 0.4666 - val_loss: 0.4347\n",
            "Epoch 10/10\n",
            "363/363 [==============================] - 1s 4ms/step - loss: 0.4546 - val_loss: 0.4251\n",
            "162/162 [==============================] - 0s 2ms/step - loss: 0.4373\n"
          ]
        }
      ]
    },
    {
      "cell_type": "code",
      "source": [
        "model.compile(loss=\"mse\", optimizer=keras.optimizers.SGD(learning_rate=1e-3))\n",
        "early_stopping_cb = keras.callbacks.EarlyStopping(patience=10,\n",
        "                                                  restore_best_weights=True)\n",
        "history = model.fit(X_train, y_train, epochs=100,\n",
        "                    validation_data=(X_valid, y_valid),\n",
        "                    callbacks=[checkpoint_cb, early_stopping_cb])\n",
        "mse_test = model.evaluate(X_test, y_test)"
      ],
      "metadata": {
        "id": "HCEFqNKLuQkS",
        "outputId": "50058e36-f042-4d3d-e6bb-ecb2a3af3e69",
        "colab": {
          "base_uri": "https://localhost:8080/"
        }
      },
      "execution_count": 79,
      "outputs": [
        {
          "output_type": "stream",
          "name": "stdout",
          "text": [
            "Epoch 1/100\n",
            "363/363 [==============================] - 2s 4ms/step - loss: 0.4453 - val_loss: 0.4210\n",
            "Epoch 2/100\n",
            "363/363 [==============================] - 2s 5ms/step - loss: 0.4377 - val_loss: 0.4264\n",
            "Epoch 3/100\n",
            "363/363 [==============================] - 1s 3ms/step - loss: 0.4315 - val_loss: 0.4187\n",
            "Epoch 4/100\n",
            "363/363 [==============================] - 1s 4ms/step - loss: 0.4261 - val_loss: 0.4262\n",
            "Epoch 5/100\n",
            "363/363 [==============================] - 1s 3ms/step - loss: 0.4221 - val_loss: 0.4209\n",
            "Epoch 6/100\n",
            "363/363 [==============================] - 1s 3ms/step - loss: 0.4180 - val_loss: 0.4313\n",
            "Epoch 7/100\n",
            "363/363 [==============================] - 1s 3ms/step - loss: 0.4148 - val_loss: 0.4292\n",
            "Epoch 8/100\n",
            "363/363 [==============================] - 1s 3ms/step - loss: 0.4118 - val_loss: 0.4238\n",
            "Epoch 9/100\n",
            "363/363 [==============================] - 2s 6ms/step - loss: 0.4089 - val_loss: 0.4328\n",
            "Epoch 10/100\n",
            "363/363 [==============================] - 2s 6ms/step - loss: 0.4063 - val_loss: 0.4411\n",
            "Epoch 11/100\n",
            "363/363 [==============================] - 1s 4ms/step - loss: 0.4039 - val_loss: 0.4304\n",
            "Epoch 12/100\n",
            "363/363 [==============================] - 1s 3ms/step - loss: 0.4016 - val_loss: 0.4429\n",
            "Epoch 13/100\n",
            "363/363 [==============================] - 1s 3ms/step - loss: 0.3993 - val_loss: 0.4429\n",
            "162/162 [==============================] - 0s 2ms/step - loss: 0.4163\n"
          ]
        }
      ]
    },
    {
      "cell_type": "code",
      "source": [
        "class PrintValTrainRatioCallback(keras.callbacks.Callback):\n",
        "    def on_epoch_end(self, epoch, logs):\n",
        "        print(\"\\nval/train: {:.2f}\".format(logs[\"val_loss\"] / logs[\"loss\"]))"
      ],
      "metadata": {
        "id": "dtRFAIp2uQo5"
      },
      "execution_count": 80,
      "outputs": []
    },
    {
      "cell_type": "code",
      "source": [
        "val_train_ratio_cb = PrintValTrainRatioCallback()\n",
        "history = model.fit(X_train, y_train, epochs=1,\n",
        "                    validation_data=(X_valid, y_valid),\n",
        "                    callbacks=[val_train_ratio_cb])\n"
      ],
      "metadata": {
        "id": "jJzFLIkduxX9",
        "outputId": "1443c0cf-82cd-43c0-b2fb-165ee2eb6408",
        "colab": {
          "base_uri": "https://localhost:8080/"
        }
      },
      "execution_count": 81,
      "outputs": [
        {
          "output_type": "stream",
          "name": "stdout",
          "text": [
            "356/363 [============================>.] - ETA: 0s - loss: 0.4258\n",
            "val/train: 0.98\n",
            "363/363 [==============================] - 2s 6ms/step - loss: 0.4264 - val_loss: 0.4191\n"
          ]
        }
      ]
    },
    {
      "cell_type": "markdown",
      "source": [
        "# Tensorboard Integration"
      ],
      "metadata": {
        "id": "L1vpMQDNu125"
      }
    },
    {
      "cell_type": "code",
      "source": [],
      "metadata": {
        "id": "hje_G36Eu5EV"
      },
      "execution_count": null,
      "outputs": []
    },
    {
      "cell_type": "code",
      "source": [],
      "metadata": {
        "id": "fF9969rtu5Lb"
      },
      "execution_count": null,
      "outputs": []
    }
  ]
}