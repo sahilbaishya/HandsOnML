{
  "nbformat": 4,
  "nbformat_minor": 0,
  "metadata": {
    "colab": {
      "provenance": [],
      "collapsed_sections": [
        "X6TCoEoSdHWj",
        "nxdldQjMe4Fj",
        "2O0Bmkyvh3oz"
      ],
      "gpuType": "T4",
      "authorship_tag": "ABX9TyO9nQSUrFT1UXJnerBXUR0b",
      "include_colab_link": true
    },
    "kernelspec": {
      "name": "python3",
      "display_name": "Python 3"
    },
    "language_info": {
      "name": "python"
    },
    "accelerator": "GPU"
  },
  "cells": [
    {
      "cell_type": "markdown",
      "metadata": {
        "id": "view-in-github",
        "colab_type": "text"
      },
      "source": [
        "<a href=\"https://colab.research.google.com/github/sahilbaishya/HandsOnML/blob/main/Training_Deep_Neural_Networks_11.ipynb\" target=\"_parent\"><img src=\"https://colab.research.google.com/assets/colab-badge.svg\" alt=\"Open In Colab\"/></a>"
      ]
    },
    {
      "cell_type": "code",
      "execution_count": 1,
      "metadata": {
        "colab": {
          "base_uri": "https://localhost:8080/"
        },
        "id": "ZDRkFqFuVLGN",
        "outputId": "f4760835-52c7-4149-c575-a16d46867dea"
      },
      "outputs": [
        {
          "output_type": "stream",
          "name": "stdout",
          "text": [
            "Colab only includes TensorFlow 2.x; %tensorflow_version has no effect.\n"
          ]
        }
      ],
      "source": [
        "# Python ≥3.5 is required\n",
        "import sys\n",
        "assert sys.version_info >= (3, 5)\n",
        "\n",
        "# Scikit-Learn ≥0.20 is required\n",
        "import sklearn\n",
        "assert sklearn.__version__ >= \"0.20\"\n",
        "\n",
        "try:\n",
        "    # %tensorflow_version only exists in Colab.\n",
        "    %tensorflow_version 2.x\n",
        "except Exception:\n",
        "    pass\n",
        "\n",
        "# TensorFlow ≥2.0 is required\n",
        "import tensorflow as tf\n",
        "from tensorflow import keras\n",
        "assert tf.__version__ >= \"2.0\"\n",
        "\n",
        "%load_ext tensorboard\n",
        "\n",
        "# Common imports\n",
        "import numpy as np\n",
        "import os\n",
        "\n",
        "# to make this notebook's output stable across runs\n",
        "np.random.seed(42)\n",
        "\n",
        "# To plot pretty figures\n",
        "%matplotlib inline\n",
        "import matplotlib as mpl\n",
        "import matplotlib.pyplot as plt\n",
        "mpl.rc('axes', labelsize=14)\n",
        "mpl.rc('xtick', labelsize=12)\n",
        "mpl.rc('ytick', labelsize=12)\n",
        "\n",
        "# Where to save the figures\n",
        "PROJECT_ROOT_DIR = \".\"\n",
        "CHAPTER_ID = \"deep\"\n",
        "IMAGES_PATH = os.path.join(PROJECT_ROOT_DIR, \"images\", CHAPTER_ID)\n",
        "os.makedirs(IMAGES_PATH, exist_ok=True)\n",
        "\n",
        "def save_fig(fig_id, tight_layout=True, fig_extension=\"png\", resolution=300):\n",
        "    path = os.path.join(IMAGES_PATH, fig_id + \".\" + fig_extension)\n",
        "    print(\"Saving figure\", fig_id)\n",
        "    if tight_layout:\n",
        "        plt.tight_layout()\n",
        "    plt.savefig(path, format=fig_extension, dpi=resolution)"
      ]
    },
    {
      "cell_type": "markdown",
      "source": [
        "# Xavier Garlot and He Initialization"
      ],
      "metadata": {
        "id": "cxvBw4ImWDtT"
      }
    },
    {
      "cell_type": "code",
      "source": [
        "[name for name in dir(keras.initializers) if not name.startswith(\"_\")]"
      ],
      "metadata": {
        "colab": {
          "base_uri": "https://localhost:8080/"
        },
        "id": "8-5oouR1Vf9m",
        "outputId": "3af62693-6bda-4d60-db2f-b73f1bcb92c9"
      },
      "execution_count": null,
      "outputs": [
        {
          "output_type": "execute_result",
          "data": {
            "text/plain": [
              "['Constant',\n",
              " 'GlorotNormal',\n",
              " 'GlorotUniform',\n",
              " 'HeNormal',\n",
              " 'HeUniform',\n",
              " 'Identity',\n",
              " 'Initializer',\n",
              " 'LecunNormal',\n",
              " 'LecunUniform',\n",
              " 'Ones',\n",
              " 'Orthogonal',\n",
              " 'RandomNormal',\n",
              " 'RandomUniform',\n",
              " 'TruncatedNormal',\n",
              " 'VarianceScaling',\n",
              " 'Zeros',\n",
              " 'constant',\n",
              " 'deserialize',\n",
              " 'get',\n",
              " 'glorot_normal',\n",
              " 'glorot_uniform',\n",
              " 'he_normal',\n",
              " 'he_uniform',\n",
              " 'identity',\n",
              " 'lecun_normal',\n",
              " 'lecun_uniform',\n",
              " 'ones',\n",
              " 'orthogonal',\n",
              " 'random_normal',\n",
              " 'random_uniform',\n",
              " 'serialize',\n",
              " 'truncated_normal',\n",
              " 'variance_scaling',\n",
              " 'zeros']"
            ]
          },
          "metadata": {},
          "execution_count": 2
        }
      ]
    },
    {
      "cell_type": "markdown",
      "source": [
        "# Nonsaturating Activation Functions"
      ],
      "metadata": {
        "id": "5tYuFBQ3WMpn"
      }
    },
    {
      "cell_type": "code",
      "source": [
        "[m for m in dir(keras.activations) if not m.startswith(\"_\")]"
      ],
      "metadata": {
        "colab": {
          "base_uri": "https://localhost:8080/"
        },
        "id": "YzxxbK7oc61G",
        "outputId": "043bb4bf-5fa1-426e-b24a-15ac9ce7d09b"
      },
      "execution_count": null,
      "outputs": [
        {
          "output_type": "execute_result",
          "data": {
            "text/plain": [
              "['deserialize',\n",
              " 'elu',\n",
              " 'exponential',\n",
              " 'gelu',\n",
              " 'get',\n",
              " 'hard_sigmoid',\n",
              " 'linear',\n",
              " 'relu',\n",
              " 'selu',\n",
              " 'serialize',\n",
              " 'sigmoid',\n",
              " 'softmax',\n",
              " 'softplus',\n",
              " 'softsign',\n",
              " 'swish',\n",
              " 'tanh']"
            ]
          },
          "metadata": {},
          "execution_count": 3
        }
      ]
    },
    {
      "cell_type": "code",
      "source": [
        "[m for m in dir(keras.layers) if \"relu\" in m.lower()]"
      ],
      "metadata": {
        "colab": {
          "base_uri": "https://localhost:8080/"
        },
        "id": "YrqVgiJydCIc",
        "outputId": "d8dfb419-4ee9-455c-b48b-073aeaeabebb"
      },
      "execution_count": null,
      "outputs": [
        {
          "output_type": "execute_result",
          "data": {
            "text/plain": [
              "['LeakyReLU', 'PReLU', 'ReLU', 'ThresholdedReLU']"
            ]
          },
          "metadata": {},
          "execution_count": 4
        }
      ]
    },
    {
      "cell_type": "markdown",
      "source": [
        "## Neural Network on Fashion MNIST with Leaky Relu"
      ],
      "metadata": {
        "id": "X6TCoEoSdHWj"
      }
    },
    {
      "cell_type": "code",
      "source": [
        "(X_train_full, y_train_full), (X_test, y_test) = tf.keras.datasets.fashion_mnist.load_data()"
      ],
      "metadata": {
        "colab": {
          "base_uri": "https://localhost:8080/"
        },
        "id": "E3u3srz2dDGA",
        "outputId": "bc3d2d03-9a2f-481a-a3f0-1a866cabb6d0"
      },
      "execution_count": null,
      "outputs": [
        {
          "output_type": "stream",
          "name": "stdout",
          "text": [
            "Downloading data from https://storage.googleapis.com/tensorflow/tf-keras-datasets/train-labels-idx1-ubyte.gz\n",
            "29515/29515 [==============================] - 0s 0us/step\n",
            "Downloading data from https://storage.googleapis.com/tensorflow/tf-keras-datasets/train-images-idx3-ubyte.gz\n",
            "26421880/26421880 [==============================] - 0s 0us/step\n",
            "Downloading data from https://storage.googleapis.com/tensorflow/tf-keras-datasets/t10k-labels-idx1-ubyte.gz\n",
            "5148/5148 [==============================] - 0s 0us/step\n",
            "Downloading data from https://storage.googleapis.com/tensorflow/tf-keras-datasets/t10k-images-idx3-ubyte.gz\n",
            "4422102/4422102 [==============================] - 0s 0us/step\n"
          ]
        }
      ]
    },
    {
      "cell_type": "code",
      "source": [
        "X_train_full = X_train_full/255.0\n",
        "X_test = X_test/255.0"
      ],
      "metadata": {
        "id": "VgE_TYyadjDO"
      },
      "execution_count": null,
      "outputs": []
    },
    {
      "cell_type": "code",
      "source": [
        "X_valid, X_train = X_train_full[:5000], X_train_full[5000:]\n",
        "y_valid, y_train = y_train_full[:5000], y_train_full[5000:]"
      ],
      "metadata": {
        "id": "XQ71ijdzd6p5"
      },
      "execution_count": null,
      "outputs": []
    },
    {
      "cell_type": "code",
      "source": [
        "tf.random.set_seed(42)\n",
        "np.random.seed(42)\n",
        "\n",
        "model = keras.models.Sequential([\n",
        "    keras.layers.Flatten(input_shape=[28, 28]),\n",
        "    keras.layers.Dense(300, kernel_initializer=\"he_normal\"),\n",
        "    keras.layers.LeakyReLU(),\n",
        "    keras.layers.Dense(100, kernel_initializer=\"he_normal\"),\n",
        "    keras.layers.LeakyReLU(),\n",
        "    keras.layers.Dense(10, activation=\"softmax\")\n",
        "])"
      ],
      "metadata": {
        "id": "Pd6BLnjyeLdU"
      },
      "execution_count": null,
      "outputs": []
    },
    {
      "cell_type": "code",
      "source": [
        "model.compile(loss=\"sparse_categorical_crossentropy\",\n",
        "              optimizer=keras.optimizers.SGD(learning_rate=1e-3),\n",
        "              metrics=[\"accuracy\"])"
      ],
      "metadata": {
        "id": "yvf4aNaVeQE1"
      },
      "execution_count": null,
      "outputs": []
    },
    {
      "cell_type": "code",
      "source": [
        "history = model.fit(X_train, y_train, epochs=10,\n",
        "                    validation_data=(X_valid, y_valid))"
      ],
      "metadata": {
        "colab": {
          "base_uri": "https://localhost:8080/"
        },
        "id": "v9hZuR5meR50",
        "outputId": "8a5a07c6-7a89-4aa0-cd0a-ed025201771b"
      },
      "execution_count": null,
      "outputs": [
        {
          "output_type": "stream",
          "name": "stdout",
          "text": [
            "Epoch 1/10\n",
            "1719/1719 [==============================] - 14s 4ms/step - loss: 1.2828 - accuracy: 0.6074 - val_loss: 0.8695 - val_accuracy: 0.7246\n",
            "Epoch 2/10\n",
            "1719/1719 [==============================] - 6s 3ms/step - loss: 0.7816 - accuracy: 0.7472 - val_loss: 0.7014 - val_accuracy: 0.7788\n",
            "Epoch 3/10\n",
            "1719/1719 [==============================] - 5s 3ms/step - loss: 0.6702 - accuracy: 0.7831 - val_loss: 0.6357 - val_accuracy: 0.7948\n",
            "Epoch 4/10\n",
            "1719/1719 [==============================] - 6s 4ms/step - loss: 0.6123 - accuracy: 0.8002 - val_loss: 0.5830 - val_accuracy: 0.8136\n",
            "Epoch 5/10\n",
            "1719/1719 [==============================] - 5s 3ms/step - loss: 0.5752 - accuracy: 0.8105 - val_loss: 0.5525 - val_accuracy: 0.8228\n",
            "Epoch 6/10\n",
            "1719/1719 [==============================] - 6s 4ms/step - loss: 0.5489 - accuracy: 0.8163 - val_loss: 0.5301 - val_accuracy: 0.8272\n",
            "Epoch 7/10\n",
            "1719/1719 [==============================] - 6s 3ms/step - loss: 0.5291 - accuracy: 0.8218 - val_loss: 0.5119 - val_accuracy: 0.8338\n",
            "Epoch 8/10\n",
            "1719/1719 [==============================] - 6s 4ms/step - loss: 0.5138 - accuracy: 0.8256 - val_loss: 0.5053 - val_accuracy: 0.8328\n",
            "Epoch 9/10\n",
            "1719/1719 [==============================] - 5s 3ms/step - loss: 0.5015 - accuracy: 0.8290 - val_loss: 0.4878 - val_accuracy: 0.8376\n",
            "Epoch 10/10\n",
            "1719/1719 [==============================] - 6s 4ms/step - loss: 0.4906 - accuracy: 0.8317 - val_loss: 0.4812 - val_accuracy: 0.8388\n"
          ]
        }
      ]
    },
    {
      "cell_type": "markdown",
      "source": [
        "## Using PReLU"
      ],
      "metadata": {
        "id": "nxdldQjMe4Fj"
      }
    },
    {
      "cell_type": "code",
      "source": [
        "tf.random.set_seed(42)\n",
        "np.random.seed(42)\n",
        "\n",
        "model = tf.keras.models.Sequential([\n",
        "    keras.layers.Flatten(input_shape = [28, 28]),\n",
        "    keras.layers.Dense(300, kernel_initializer = 'he_normal'),\n",
        "    keras.layers.PReLU(),\n",
        "    keras.layers.Dense(100, kernel_initializer = 'he_normal'),\n",
        "    keras.layers.PReLU(),\n",
        "    keras.layers.Dense(10, activation= 'softmax')\n",
        "\n",
        "])"
      ],
      "metadata": {
        "id": "UInIobORe_nE"
      },
      "execution_count": null,
      "outputs": []
    },
    {
      "cell_type": "code",
      "source": [
        "model.compile(loss = 'sparse_categorical_crossentropy',\n",
        "              optimizer = keras.optimizers.SGD(learning_rate = 1e-3),\n",
        "              metrics = ['accuracy'])"
      ],
      "metadata": {
        "id": "iYB4BbffgFNb"
      },
      "execution_count": null,
      "outputs": []
    },
    {
      "cell_type": "code",
      "source": [
        "history = model.fit(X_train, y_train, epochs = 10, validation_data = (X_valid, y_valid))"
      ],
      "metadata": {
        "colab": {
          "base_uri": "https://localhost:8080/"
        },
        "id": "d8cQxG08geYI",
        "outputId": "2080318c-a8c5-475a-c44e-46bf6ebb537e"
      },
      "execution_count": null,
      "outputs": [
        {
          "output_type": "stream",
          "name": "stdout",
          "text": [
            "Epoch 1/10\n",
            "1719/1719 [==============================] - 8s 4ms/step - loss: 1.3677 - accuracy: 0.5896 - val_loss: 0.8986 - val_accuracy: 0.7308\n",
            "Epoch 2/10\n",
            "1719/1719 [==============================] - 6s 3ms/step - loss: 0.8025 - accuracy: 0.7512 - val_loss: 0.7078 - val_accuracy: 0.7834\n",
            "Epoch 3/10\n",
            "1719/1719 [==============================] - 7s 4ms/step - loss: 0.6807 - accuracy: 0.7858 - val_loss: 0.6367 - val_accuracy: 0.7992\n",
            "Epoch 4/10\n",
            "1719/1719 [==============================] - 6s 4ms/step - loss: 0.6180 - accuracy: 0.8035 - val_loss: 0.5799 - val_accuracy: 0.8188\n",
            "Epoch 5/10\n",
            "1719/1719 [==============================] - 7s 4ms/step - loss: 0.5775 - accuracy: 0.8122 - val_loss: 0.5469 - val_accuracy: 0.8296\n",
            "Epoch 6/10\n",
            "1719/1719 [==============================] - 6s 4ms/step - loss: 0.5486 - accuracy: 0.8204 - val_loss: 0.5236 - val_accuracy: 0.8338\n",
            "Epoch 7/10\n",
            "1719/1719 [==============================] - 6s 4ms/step - loss: 0.5267 - accuracy: 0.8255 - val_loss: 0.5038 - val_accuracy: 0.8370\n",
            "Epoch 8/10\n",
            "1719/1719 [==============================] - 7s 4ms/step - loss: 0.5099 - accuracy: 0.8303 - val_loss: 0.4954 - val_accuracy: 0.8396\n",
            "Epoch 9/10\n",
            "1719/1719 [==============================] - 6s 3ms/step - loss: 0.4964 - accuracy: 0.8327 - val_loss: 0.4786 - val_accuracy: 0.8424\n",
            "Epoch 10/10\n",
            "1719/1719 [==============================] - 7s 4ms/step - loss: 0.4848 - accuracy: 0.8361 - val_loss: 0.4708 - val_accuracy: 0.8440\n"
          ]
        }
      ]
    },
    {
      "cell_type": "markdown",
      "source": [
        "## Using SELU"
      ],
      "metadata": {
        "id": "2O0Bmkyvh3oz"
      }
    },
    {
      "cell_type": "code",
      "source": [
        "model = tf.keras.models.Sequential()\n",
        "model.add(tf.keras.layers.Flatten(input_shape=[28, 28]))\n",
        "model.add(tf.keras.layers.Dense(300, activation = 'selu', kernel_initializer = 'lecun_normal'))\n",
        "for i in range (99):\n",
        "  model.add(tf.keras.layers.Dense(100, activation = 'selu', kernel_initializer = 'lecun_normal'))\n",
        "model.add(tf.keras.layers.Dense(10, activation = 'softmax'))"
      ],
      "metadata": {
        "id": "zTsALt1mh5T9"
      },
      "execution_count": null,
      "outputs": []
    },
    {
      "cell_type": "code",
      "source": [
        "model.compile(\n",
        "    optimizer = tf.keras.optimizers.SGD(learning_rate = 1e-3),\n",
        "    loss = 'sparse_categorical_crossentropy',\n",
        "    metrics = ['accuracy']\n",
        ")"
      ],
      "metadata": {
        "id": "tB-dNFrGinc8"
      },
      "execution_count": null,
      "outputs": []
    },
    {
      "cell_type": "code",
      "source": [
        "pixel_means = X_train.mean(axis=0, keepdims=True)\n",
        "pixel_stds = X_train.std(axis=0, keepdims=True)\n",
        "X_train_scaled = (X_train - pixel_means) / pixel_stds\n",
        "X_valid_scaled = (X_valid - pixel_means) / pixel_stds\n",
        "X_test_scaled = (X_test - pixel_means) / pixel_stds"
      ],
      "metadata": {
        "id": "fWXYwlPpjFQi"
      },
      "execution_count": null,
      "outputs": []
    },
    {
      "cell_type": "code",
      "source": [
        "history = model.fit(X_train_scaled, y_train, epochs = 10, validation_data = (X_valid_scaled, y_valid))"
      ],
      "metadata": {
        "colab": {
          "base_uri": "https://localhost:8080/"
        },
        "id": "zauucQAgi5zq",
        "outputId": "b26c4297-8e05-4da9-f20f-ef41bd9d5dd7"
      },
      "execution_count": null,
      "outputs": [
        {
          "output_type": "stream",
          "name": "stdout",
          "text": [
            "Epoch 1/10\n",
            "1719/1719 [==============================] - 54s 23ms/step - loss: 1.1282 - accuracy: 0.5762 - val_loss: 0.7678 - val_accuracy: 0.7190\n",
            "Epoch 2/10\n",
            "1719/1719 [==============================] - 40s 23ms/step - loss: 0.7211 - accuracy: 0.7327 - val_loss: 0.7078 - val_accuracy: 0.7582\n",
            "Epoch 3/10\n",
            "1719/1719 [==============================] - 41s 24ms/step - loss: 0.6318 - accuracy: 0.7691 - val_loss: 0.5926 - val_accuracy: 0.7856\n",
            "Epoch 4/10\n",
            "1719/1719 [==============================] - 40s 23ms/step - loss: 0.6443 - accuracy: 0.7704 - val_loss: 0.6406 - val_accuracy: 0.7824\n",
            "Epoch 5/10\n",
            "1719/1719 [==============================] - 41s 24ms/step - loss: 0.5649 - accuracy: 0.7994 - val_loss: 0.5197 - val_accuracy: 0.8228\n",
            "Epoch 6/10\n",
            "1719/1719 [==============================] - 41s 24ms/step - loss: 0.4980 - accuracy: 0.8280 - val_loss: 0.5382 - val_accuracy: 0.8028\n",
            "Epoch 7/10\n",
            "1719/1719 [==============================] - 40s 23ms/step - loss: 0.4777 - accuracy: 0.8351 - val_loss: 0.4508 - val_accuracy: 0.8512\n",
            "Epoch 8/10\n",
            "1719/1719 [==============================] - 40s 23ms/step - loss: 0.4538 - accuracy: 0.8423 - val_loss: 0.4510 - val_accuracy: 0.8386\n",
            "Epoch 9/10\n",
            "1719/1719 [==============================] - 41s 24ms/step - loss: 0.4281 - accuracy: 0.8512 - val_loss: 0.4218 - val_accuracy: 0.8584\n",
            "Epoch 10/10\n",
            "1719/1719 [==============================] - 40s 23ms/step - loss: 0.4100 - accuracy: 0.8571 - val_loss: 0.4099 - val_accuracy: 0.8606\n"
          ]
        }
      ]
    },
    {
      "cell_type": "markdown",
      "source": [
        "## Using ReLU"
      ],
      "metadata": {
        "id": "15a6S05wjSlN"
      }
    },
    {
      "cell_type": "code",
      "source": [
        "model = tf.keras.models.Sequential()\n",
        "model.add(tf.keras.layers.Flatten(input_shape = [28, 28]))\n",
        "model.add(tf.keras.layers.Dense(300, activation = 'relu', kernel_initializer='he_normal'))\n",
        "for i in range (99):\n",
        "  model.add(tf.keras.layers.Dense(100, activation = 'relu', kernel_initializer = 'he_normal'))\n",
        "model.add(tf.keras.layers.Dense(10, activation = 'softmax'))"
      ],
      "metadata": {
        "id": "wN_cWIpHjSQF"
      },
      "execution_count": null,
      "outputs": []
    },
    {
      "cell_type": "code",
      "source": [
        "model.compile(\n",
        "    optimizer = tf.keras.optimizers.SGD(learning_rate = 1e-3),\n",
        "    loss = 'sparse_categorical_crossentropy',\n",
        "    metrics = ['accuracy']\n",
        ")"
      ],
      "metadata": {
        "id": "TDdorAepj7D-"
      },
      "execution_count": null,
      "outputs": []
    },
    {
      "cell_type": "code",
      "source": [
        "history = model.fit(X_train_scaled, y_train, epochs = 10, validation_data = (X_valid_scaled, y_valid))"
      ],
      "metadata": {
        "colab": {
          "base_uri": "https://localhost:8080/"
        },
        "id": "DnVwjFOgj-X3",
        "outputId": "90d9f64c-f491-4863-d50b-38b0a9c81da1"
      },
      "execution_count": null,
      "outputs": [
        {
          "output_type": "stream",
          "name": "stdout",
          "text": [
            "Epoch 1/10\n",
            "1719/1719 [==============================] - 56s 25ms/step - loss: 1.9071 - accuracy: 0.2700 - val_loss: 1.4582 - val_accuracy: 0.4296\n",
            "Epoch 2/10\n",
            "1719/1719 [==============================] - 41s 24ms/step - loss: 1.2752 - accuracy: 0.4612 - val_loss: 0.9763 - val_accuracy: 0.6244\n",
            "Epoch 3/10\n",
            "1719/1719 [==============================] - 41s 24ms/step - loss: 0.9463 - accuracy: 0.6170 - val_loss: 0.8247 - val_accuracy: 0.6808\n",
            "Epoch 4/10\n",
            "1719/1719 [==============================] - 39s 23ms/step - loss: 0.7916 - accuracy: 0.6798 - val_loss: 0.8840 - val_accuracy: 0.6512\n",
            "Epoch 5/10\n",
            "1719/1719 [==============================] - 39s 23ms/step - loss: 0.7049 - accuracy: 0.7097 - val_loss: 0.6747 - val_accuracy: 0.7196\n",
            "Epoch 6/10\n",
            "1719/1719 [==============================] - 39s 23ms/step - loss: 0.6526 - accuracy: 0.7323 - val_loss: 0.6387 - val_accuracy: 0.7476\n",
            "Epoch 7/10\n",
            "1719/1719 [==============================] - 39s 23ms/step - loss: 0.6295 - accuracy: 0.7477 - val_loss: 0.6002 - val_accuracy: 0.7652\n",
            "Epoch 8/10\n",
            "1719/1719 [==============================] - 38s 22ms/step - loss: 0.5898 - accuracy: 0.7673 - val_loss: 0.6133 - val_accuracy: 0.7546\n",
            "Epoch 9/10\n",
            "1719/1719 [==============================] - 38s 22ms/step - loss: 0.5657 - accuracy: 0.7862 - val_loss: 0.5704 - val_accuracy: 0.7938\n",
            "Epoch 10/10\n",
            "1719/1719 [==============================] - 37s 22ms/step - loss: 0.5355 - accuracy: 0.8029 - val_loss: 0.5489 - val_accuracy: 0.8146\n"
          ]
        }
      ]
    },
    {
      "cell_type": "markdown",
      "source": [
        "# Batch Normalization"
      ],
      "metadata": {
        "id": "YeZCSQCu-UBn"
      }
    },
    {
      "cell_type": "code",
      "source": [
        "(X_train_full, y_train_full), (X_test, y_test) = tf.keras.datasets.fashion_mnist.load_data()"
      ],
      "metadata": {
        "id": "7yPXoCyj-a2T"
      },
      "execution_count": null,
      "outputs": []
    },
    {
      "cell_type": "code",
      "source": [
        "X_train_full = X_train_full/255.0\n",
        "X_test = X_test/255.0"
      ],
      "metadata": {
        "id": "AIdgUgNw-tBK"
      },
      "execution_count": null,
      "outputs": []
    },
    {
      "cell_type": "code",
      "source": [
        "X_valid, X_train = X_train_full[:5000], X_train_full[5000:]\n",
        "y_valid, y_train = y_train_full[:5000], y_train_full[5000:]"
      ],
      "metadata": {
        "id": "yiJ7YE3H-ul4"
      },
      "execution_count": null,
      "outputs": []
    },
    {
      "cell_type": "code",
      "source": [
        "model = tf.keras.models.Sequential([\n",
        "    tf.keras.layers.Flatten(input_shape = [28, 28]),\n",
        "    tf.keras.layers.BatchNormalization(),\n",
        "    tf.keras.layers.Dense(300, activation = 'relu'),\n",
        "    tf.keras.layers.BatchNormalization(),\n",
        "    tf.keras.layers.Dense(100, activation = 'relu'),\n",
        "    tf.keras.layers.BatchNormalization(),\n",
        "    tf.keras.layers.Dense(10, activation = 'softmax')\n",
        "])"
      ],
      "metadata": {
        "id": "9rrAANBN-w5z"
      },
      "execution_count": null,
      "outputs": []
    },
    {
      "cell_type": "code",
      "source": [
        "model.summary()"
      ],
      "metadata": {
        "colab": {
          "base_uri": "https://localhost:8080/"
        },
        "id": "ewtlI7n3_wF3",
        "outputId": "99f20a70-d9df-4a4a-f8d9-ed1866578492"
      },
      "execution_count": null,
      "outputs": [
        {
          "output_type": "stream",
          "name": "stdout",
          "text": [
            "Model: \"sequential_4\"\n",
            "_________________________________________________________________\n",
            " Layer (type)                Output Shape              Param #   \n",
            "=================================================================\n",
            " flatten_4 (Flatten)         (None, 784)               0         \n",
            "                                                                 \n",
            " batch_normalization (BatchN  (None, 784)              3136      \n",
            " ormalization)                                                   \n",
            "                                                                 \n",
            " dense_208 (Dense)           (None, 300)               235500    \n",
            "                                                                 \n",
            " batch_normalization_1 (Batc  (None, 300)              1200      \n",
            " hNormalization)                                                 \n",
            "                                                                 \n",
            " dense_209 (Dense)           (None, 100)               30100     \n",
            "                                                                 \n",
            " batch_normalization_2 (Batc  (None, 100)              400       \n",
            " hNormalization)                                                 \n",
            "                                                                 \n",
            " dense_210 (Dense)           (None, 10)                1010      \n",
            "                                                                 \n",
            "=================================================================\n",
            "Total params: 271,346\n",
            "Trainable params: 268,978\n",
            "Non-trainable params: 2,368\n",
            "_________________________________________________________________\n"
          ]
        }
      ]
    },
    {
      "cell_type": "code",
      "source": [
        "bn1 = model.layers[1]\n",
        "[(var.name, var.trainable) for var in bn1.variables]"
      ],
      "metadata": {
        "colab": {
          "base_uri": "https://localhost:8080/"
        },
        "id": "ydhdCK35AWms",
        "outputId": "9f843470-a034-4de4-bd7a-7d900eb5d01e"
      },
      "execution_count": null,
      "outputs": [
        {
          "output_type": "execute_result",
          "data": {
            "text/plain": [
              "[('batch_normalization/gamma:0', True),\n",
              " ('batch_normalization/beta:0', True),\n",
              " ('batch_normalization/moving_mean:0', False),\n",
              " ('batch_normalization/moving_variance:0', False)]"
            ]
          },
          "metadata": {},
          "execution_count": 26
        }
      ]
    },
    {
      "cell_type": "code",
      "source": [
        "model.compile(\n",
        "    loss = 'sparse_categorical_crossentropy',\n",
        "    optimizer = tf.keras.optimizers.SGD(learning_rate = 1e-3),\n",
        "    metrics = ['accuracy']\n",
        ")"
      ],
      "metadata": {
        "id": "VshUcBDD_bVa"
      },
      "execution_count": null,
      "outputs": []
    },
    {
      "cell_type": "code",
      "source": [
        "history = model.fit(X_train, y_train, epochs = 10, validation_data = (X_valid, y_valid))"
      ],
      "metadata": {
        "colab": {
          "base_uri": "https://localhost:8080/"
        },
        "id": "fQAnRRn0_pqD",
        "outputId": "5e686b69-4029-4008-d34f-8427d5c75f9f"
      },
      "execution_count": null,
      "outputs": [
        {
          "output_type": "stream",
          "name": "stdout",
          "text": [
            "Epoch 1/10\n",
            "1719/1719 [==============================] - 10s 5ms/step - loss: 0.8425 - accuracy: 0.7189 - val_loss: 0.5427 - val_accuracy: 0.8190\n",
            "Epoch 2/10\n",
            "1719/1719 [==============================] - 9s 5ms/step - loss: 0.5653 - accuracy: 0.8036 - val_loss: 0.4616 - val_accuracy: 0.8466\n",
            "Epoch 3/10\n",
            "1719/1719 [==============================] - 8s 5ms/step - loss: 0.5111 - accuracy: 0.8221 - val_loss: 0.4283 - val_accuracy: 0.8598\n",
            "Epoch 4/10\n",
            "1719/1719 [==============================] - 9s 5ms/step - loss: 0.4735 - accuracy: 0.8339 - val_loss: 0.4089 - val_accuracy: 0.8630\n",
            "Epoch 5/10\n",
            "1719/1719 [==============================] - 9s 5ms/step - loss: 0.4510 - accuracy: 0.8420 - val_loss: 0.3938 - val_accuracy: 0.8700\n",
            "Epoch 6/10\n",
            "1719/1719 [==============================] - 9s 5ms/step - loss: 0.4345 - accuracy: 0.8466 - val_loss: 0.3835 - val_accuracy: 0.8740\n",
            "Epoch 7/10\n",
            "1719/1719 [==============================] - 9s 5ms/step - loss: 0.4205 - accuracy: 0.8522 - val_loss: 0.3734 - val_accuracy: 0.8716\n",
            "Epoch 8/10\n",
            "1719/1719 [==============================] - 9s 5ms/step - loss: 0.4081 - accuracy: 0.8562 - val_loss: 0.3690 - val_accuracy: 0.8754\n",
            "Epoch 9/10\n",
            "1719/1719 [==============================] - 9s 5ms/step - loss: 0.3977 - accuracy: 0.8598 - val_loss: 0.3631 - val_accuracy: 0.8774\n",
            "Epoch 10/10\n",
            "1719/1719 [==============================] - 9s 5ms/step - loss: 0.3891 - accuracy: 0.8621 - val_loss: 0.3576 - val_accuracy: 0.8784\n"
          ]
        }
      ]
    },
    {
      "cell_type": "markdown",
      "source": [
        "## Applying Batch Normalization Before Activation"
      ],
      "metadata": {
        "id": "-jGaVhVzCEjZ"
      }
    },
    {
      "cell_type": "code",
      "source": [
        "model = keras.models.Sequential([\n",
        "    keras.layers.Flatten(input_shape=[28, 28]),\n",
        "    keras.layers.BatchNormalization(),\n",
        "    keras.layers.Dense(300, use_bias=False),\n",
        "    keras.layers.BatchNormalization(),\n",
        "    keras.layers.Activation(\"relu\"),\n",
        "    keras.layers.Dense(100, use_bias=False),\n",
        "    keras.layers.BatchNormalization(),\n",
        "    keras.layers.Activation(\"relu\"),\n",
        "    keras.layers.Dense(10, activation=\"softmax\")\n",
        "])\n"
      ],
      "metadata": {
        "id": "_YKxHxxxAqDa"
      },
      "execution_count": null,
      "outputs": []
    },
    {
      "cell_type": "code",
      "source": [
        "model.compile(loss=\"sparse_categorical_crossentropy\",\n",
        "              optimizer=keras.optimizers.SGD(learning_rate=1e-3),\n",
        "              metrics=[\"accuracy\"])\n"
      ],
      "metadata": {
        "id": "FHtGHfubCJLE"
      },
      "execution_count": null,
      "outputs": []
    },
    {
      "cell_type": "code",
      "source": [
        "history = model.fit(X_train, y_train, epochs=10,\n",
        "                    validation_data=(X_valid, y_valid))\n"
      ],
      "metadata": {
        "colab": {
          "base_uri": "https://localhost:8080/"
        },
        "id": "WTPrneDtDFBW",
        "outputId": "c87e577e-d0a8-465e-ec83-0d13e613a2d2"
      },
      "execution_count": null,
      "outputs": [
        {
          "output_type": "stream",
          "name": "stdout",
          "text": [
            "Epoch 1/10\n",
            "1719/1719 [==============================] - 9s 5ms/step - loss: 1.0224 - accuracy: 0.6838 - val_loss: 0.6719 - val_accuracy: 0.7854\n",
            "Epoch 2/10\n",
            "1719/1719 [==============================] - 9s 5ms/step - loss: 0.6726 - accuracy: 0.7823 - val_loss: 0.5563 - val_accuracy: 0.8160\n",
            "Epoch 3/10\n",
            "1719/1719 [==============================] - 9s 5ms/step - loss: 0.5942 - accuracy: 0.8028 - val_loss: 0.5036 - val_accuracy: 0.8314\n",
            "Epoch 4/10\n",
            "1719/1719 [==============================] - 9s 5ms/step - loss: 0.5459 - accuracy: 0.8175 - val_loss: 0.4711 - val_accuracy: 0.8366\n",
            "Epoch 5/10\n",
            "1719/1719 [==============================] - 8s 5ms/step - loss: 0.5126 - accuracy: 0.8258 - val_loss: 0.4492 - val_accuracy: 0.8432\n",
            "Epoch 6/10\n",
            "1719/1719 [==============================] - 8s 5ms/step - loss: 0.4910 - accuracy: 0.8310 - val_loss: 0.4314 - val_accuracy: 0.8480\n",
            "Epoch 7/10\n",
            "1719/1719 [==============================] - 9s 5ms/step - loss: 0.4740 - accuracy: 0.8373 - val_loss: 0.4181 - val_accuracy: 0.8524\n",
            "Epoch 8/10\n",
            "1719/1719 [==============================] - 8s 5ms/step - loss: 0.4595 - accuracy: 0.8412 - val_loss: 0.4078 - val_accuracy: 0.8576\n",
            "Epoch 9/10\n",
            "1719/1719 [==============================] - 9s 5ms/step - loss: 0.4465 - accuracy: 0.8459 - val_loss: 0.3986 - val_accuracy: 0.8572\n",
            "Epoch 10/10\n",
            "1719/1719 [==============================] - 8s 5ms/step - loss: 0.4339 - accuracy: 0.8499 - val_loss: 0.3896 - val_accuracy: 0.8622\n"
          ]
        }
      ]
    },
    {
      "cell_type": "markdown",
      "source": [
        "# Gradient Clipping"
      ],
      "metadata": {
        "id": "QfYDvPX6CX6W"
      }
    },
    {
      "cell_type": "code",
      "source": [
        "optimizer = keras.optimizers.SGD(clipvalue=1.0)"
      ],
      "metadata": {
        "id": "B-saH7EbIRG3"
      },
      "execution_count": null,
      "outputs": []
    },
    {
      "cell_type": "code",
      "source": [
        "optimizer = keras.optimizers.SGD(clipnorm=1.0)"
      ],
      "metadata": {
        "id": "aj7AKPSEISpg"
      },
      "execution_count": null,
      "outputs": []
    },
    {
      "cell_type": "markdown",
      "source": [
        "# Reusing Pretrained Layers"
      ],
      "metadata": {
        "id": "G2KI4eqqIpet"
      }
    },
    {
      "cell_type": "code",
      "source": [
        "(X_train_full, y_train_full), (X_test, y_test) = keras.datasets.fashion_mnist.load_data()\n",
        "X_train_full = X_train_full / 255.0\n",
        "X_test = X_test / 255.0\n",
        "X_valid, X_train = X_train_full[:5000], X_train_full[5000:]\n",
        "y_valid, y_train = y_train_full[:5000], y_train_full[5000:]"
      ],
      "metadata": {
        "id": "ejJft2FcIr8l"
      },
      "execution_count": null,
      "outputs": []
    },
    {
      "cell_type": "code",
      "source": [
        "def split_dataset(X, y):\n",
        "    y_5_or_6 = (y == 5) | (y == 6) # sandals or shirts\n",
        "    y_A = y[~y_5_or_6]\n",
        "    y_A[y_A > 6] -= 2 # class indices 7, 8, 9 should be moved to 5, 6, 7\n",
        "    y_B = (y[y_5_or_6] == 6).astype(np.float32) # binary classification task: is it a shirt (class 6)?\n",
        "    return ((X[~y_5_or_6], y_A),\n",
        "            (X[y_5_or_6], y_B))\n",
        "\n",
        "(X_train_A, y_train_A), (X_train_B, y_train_B) = split_dataset(X_train, y_train)\n",
        "(X_valid_A, y_valid_A), (X_valid_B, y_valid_B) = split_dataset(X_valid, y_valid)\n",
        "(X_test_A, y_test_A), (X_test_B, y_test_B) = split_dataset(X_test, y_test)\n",
        "X_train_B = X_train_B[:200]\n",
        "y_train_B = y_train_B[:200]"
      ],
      "metadata": {
        "id": "lcmsNeQSIsBh"
      },
      "execution_count": null,
      "outputs": []
    },
    {
      "cell_type": "code",
      "source": [
        "X_train_A.shape"
      ],
      "metadata": {
        "colab": {
          "base_uri": "https://localhost:8080/"
        },
        "id": "Q6UIKwODIsGC",
        "outputId": "4d0ac4c8-c460-482b-c5e9-4c73451663fa"
      },
      "execution_count": null,
      "outputs": [
        {
          "output_type": "execute_result",
          "data": {
            "text/plain": [
              "(43986, 28, 28)"
            ]
          },
          "metadata": {},
          "execution_count": 37
        }
      ]
    },
    {
      "cell_type": "code",
      "source": [
        "X_train_B.shape"
      ],
      "metadata": {
        "colab": {
          "base_uri": "https://localhost:8080/"
        },
        "id": "ZDhPtoxKJMdr",
        "outputId": "9668f2e8-70f0-445b-d32c-707d65fb14e3"
      },
      "execution_count": null,
      "outputs": [
        {
          "output_type": "execute_result",
          "data": {
            "text/plain": [
              "(200, 28, 28)"
            ]
          },
          "metadata": {},
          "execution_count": 38
        }
      ]
    },
    {
      "cell_type": "code",
      "source": [
        "y_train_A[:30]"
      ],
      "metadata": {
        "colab": {
          "base_uri": "https://localhost:8080/"
        },
        "id": "Ls-qFhVRJMka",
        "outputId": "5951b5b5-56ec-4849-d8d0-b3636dd2db0a"
      },
      "execution_count": null,
      "outputs": [
        {
          "output_type": "execute_result",
          "data": {
            "text/plain": [
              "array([4, 0, 5, 7, 7, 7, 4, 4, 3, 4, 0, 1, 6, 3, 4, 3, 2, 6, 5, 3, 4, 5,\n",
              "       1, 3, 4, 2, 0, 6, 7, 1], dtype=uint8)"
            ]
          },
          "metadata": {},
          "execution_count": 39
        }
      ]
    },
    {
      "cell_type": "code",
      "source": [
        "y_train_B[:30]"
      ],
      "metadata": {
        "colab": {
          "base_uri": "https://localhost:8080/"
        },
        "id": "LYTnZZOiJMqs",
        "outputId": "ba490e95-86cc-458c-8c39-bcd61334c706"
      },
      "execution_count": null,
      "outputs": [
        {
          "output_type": "execute_result",
          "data": {
            "text/plain": [
              "array([1., 1., 0., 0., 0., 0., 1., 1., 1., 0., 0., 1., 1., 0., 0., 0., 0.,\n",
              "       0., 0., 1., 1., 0., 0., 1., 1., 0., 1., 1., 1., 1.], dtype=float32)"
            ]
          },
          "metadata": {},
          "execution_count": 40
        }
      ]
    },
    {
      "cell_type": "code",
      "source": [
        "tf.random.set_seed(42)\n",
        "np.random.seed(42)"
      ],
      "metadata": {
        "id": "72DMQT5yJMxw"
      },
      "execution_count": null,
      "outputs": []
    },
    {
      "cell_type": "code",
      "source": [
        "model_A = keras.models.Sequential()\n",
        "model_A.add(keras.layers.Flatten(input_shape=[28, 28]))\n",
        "for n_hidden in (300, 100, 50, 50, 50):\n",
        "    model_A.add(keras.layers.Dense(n_hidden, activation=\"selu\"))\n",
        "model_A.add(keras.layers.Dense(8, activation=\"softmax\"))"
      ],
      "metadata": {
        "id": "GKwjYgp0JM4p"
      },
      "execution_count": null,
      "outputs": []
    },
    {
      "cell_type": "code",
      "source": [
        "model_A.compile(loss=\"sparse_categorical_crossentropy\",\n",
        "                optimizer=keras.optimizers.SGD(learning_rate=1e-3),\n",
        "                metrics=[\"accuracy\"])"
      ],
      "metadata": {
        "id": "AEmpA08fJkcI"
      },
      "execution_count": null,
      "outputs": []
    },
    {
      "cell_type": "code",
      "source": [
        "history = model_A.fit(X_train_A, y_train_A, epochs=20,\n",
        "                    validation_data=(X_valid_A, y_valid_A))"
      ],
      "metadata": {
        "colab": {
          "base_uri": "https://localhost:8080/"
        },
        "id": "neB6VA9eJkaT",
        "outputId": "965e522b-34a0-47ef-ebfb-92281e315e28"
      },
      "execution_count": null,
      "outputs": [
        {
          "output_type": "stream",
          "name": "stdout",
          "text": [
            "Epoch 1/20\n",
            "1375/1375 [==============================] - 6s 4ms/step - loss: 0.6152 - accuracy: 0.7943 - val_loss: 0.3984 - val_accuracy: 0.8582\n",
            "Epoch 2/20\n",
            "1375/1375 [==============================] - 6s 5ms/step - loss: 0.3658 - accuracy: 0.8756 - val_loss: 0.3298 - val_accuracy: 0.8909\n",
            "Epoch 3/20\n",
            "1375/1375 [==============================] - 5s 4ms/step - loss: 0.3249 - accuracy: 0.8884 - val_loss: 0.2994 - val_accuracy: 0.9026\n",
            "Epoch 4/20\n",
            "1375/1375 [==============================] - 6s 4ms/step - loss: 0.3043 - accuracy: 0.8962 - val_loss: 0.2846 - val_accuracy: 0.9073\n",
            "Epoch 5/20\n",
            "1375/1375 [==============================] - 5s 4ms/step - loss: 0.2908 - accuracy: 0.9002 - val_loss: 0.2737 - val_accuracy: 0.9088\n",
            "Epoch 6/20\n",
            "1375/1375 [==============================] - 6s 4ms/step - loss: 0.2809 - accuracy: 0.9040 - val_loss: 0.2673 - val_accuracy: 0.9131\n",
            "Epoch 7/20\n",
            "1375/1375 [==============================] - 5s 4ms/step - loss: 0.2724 - accuracy: 0.9074 - val_loss: 0.2640 - val_accuracy: 0.9111\n",
            "Epoch 8/20\n",
            "1375/1375 [==============================] - 5s 4ms/step - loss: 0.2656 - accuracy: 0.9103 - val_loss: 0.2590 - val_accuracy: 0.9133\n",
            "Epoch 9/20\n",
            "1375/1375 [==============================] - 6s 4ms/step - loss: 0.2600 - accuracy: 0.9112 - val_loss: 0.2540 - val_accuracy: 0.9165\n",
            "Epoch 10/20\n",
            "1375/1375 [==============================] - 5s 4ms/step - loss: 0.2551 - accuracy: 0.9134 - val_loss: 0.2512 - val_accuracy: 0.9148\n",
            "Epoch 11/20\n",
            "1375/1375 [==============================] - 6s 4ms/step - loss: 0.2504 - accuracy: 0.9145 - val_loss: 0.2459 - val_accuracy: 0.9188\n",
            "Epoch 12/20\n",
            "1375/1375 [==============================] - 5s 4ms/step - loss: 0.2462 - accuracy: 0.9162 - val_loss: 0.2463 - val_accuracy: 0.9193\n",
            "Epoch 13/20\n",
            "1375/1375 [==============================] - 6s 4ms/step - loss: 0.2427 - accuracy: 0.9172 - val_loss: 0.2413 - val_accuracy: 0.9185\n",
            "Epoch 14/20\n",
            "1375/1375 [==============================] - 5s 4ms/step - loss: 0.2393 - accuracy: 0.9188 - val_loss: 0.2391 - val_accuracy: 0.9185\n",
            "Epoch 15/20\n",
            "1375/1375 [==============================] - 5s 4ms/step - loss: 0.2361 - accuracy: 0.9196 - val_loss: 0.2424 - val_accuracy: 0.9205\n",
            "Epoch 16/20\n",
            "1375/1375 [==============================] - 6s 4ms/step - loss: 0.2328 - accuracy: 0.9209 - val_loss: 0.2381 - val_accuracy: 0.9195\n",
            "Epoch 17/20\n",
            "1375/1375 [==============================] - 5s 4ms/step - loss: 0.2302 - accuracy: 0.9224 - val_loss: 0.2401 - val_accuracy: 0.9175\n",
            "Epoch 18/20\n",
            "1375/1375 [==============================] - 6s 4ms/step - loss: 0.2271 - accuracy: 0.9230 - val_loss: 0.2440 - val_accuracy: 0.9138\n",
            "Epoch 19/20\n",
            "1375/1375 [==============================] - 5s 4ms/step - loss: 0.2248 - accuracy: 0.9237 - val_loss: 0.2317 - val_accuracy: 0.9218\n",
            "Epoch 20/20\n",
            "1375/1375 [==============================] - 6s 4ms/step - loss: 0.2222 - accuracy: 0.9250 - val_loss: 0.2338 - val_accuracy: 0.9218\n"
          ]
        }
      ]
    },
    {
      "cell_type": "code",
      "source": [
        "model_A.save(\"my_model_A.h5\")"
      ],
      "metadata": {
        "id": "8FM3TTHeJkWx"
      },
      "execution_count": null,
      "outputs": []
    },
    {
      "cell_type": "code",
      "source": [
        "model_B = keras.models.Sequential()\n",
        "model_B.add(keras.layers.Flatten(input_shape=[28, 28]))\n",
        "for n_hidden in (300, 100, 50, 50, 50):\n",
        "    model_B.add(keras.layers.Dense(n_hidden, activation=\"selu\"))\n",
        "model_B.add(keras.layers.Dense(1, activation=\"sigmoid\"))"
      ],
      "metadata": {
        "id": "M57xi0HbJkTb"
      },
      "execution_count": null,
      "outputs": []
    },
    {
      "cell_type": "code",
      "source": [
        "model_B.compile(loss=\"binary_crossentropy\",\n",
        "                optimizer=keras.optimizers.SGD(learning_rate=1e-3),\n",
        "                metrics=[\"accuracy\"])"
      ],
      "metadata": {
        "id": "cuWlk5NJJkQn"
      },
      "execution_count": null,
      "outputs": []
    },
    {
      "cell_type": "code",
      "source": [
        "model_B.summary()"
      ],
      "metadata": {
        "colab": {
          "base_uri": "https://localhost:8080/"
        },
        "id": "84iExEXiK7BQ",
        "outputId": "4fa46d46-58a7-4ab9-bdfe-e39262fc8539"
      },
      "execution_count": null,
      "outputs": [
        {
          "output_type": "stream",
          "name": "stdout",
          "text": [
            "Model: \"sequential_7\"\n",
            "_________________________________________________________________\n",
            " Layer (type)                Output Shape              Param #   \n",
            "=================================================================\n",
            " flatten_7 (Flatten)         (None, 784)               0         \n",
            "                                                                 \n",
            " dense_220 (Dense)           (None, 300)               235500    \n",
            "                                                                 \n",
            " dense_221 (Dense)           (None, 100)               30100     \n",
            "                                                                 \n",
            " dense_222 (Dense)           (None, 50)                5050      \n",
            "                                                                 \n",
            " dense_223 (Dense)           (None, 50)                2550      \n",
            "                                                                 \n",
            " dense_224 (Dense)           (None, 50)                2550      \n",
            "                                                                 \n",
            " dense_225 (Dense)           (None, 1)                 51        \n",
            "                                                                 \n",
            "=================================================================\n",
            "Total params: 275,801\n",
            "Trainable params: 275,801\n",
            "Non-trainable params: 0\n",
            "_________________________________________________________________\n"
          ]
        }
      ]
    },
    {
      "cell_type": "code",
      "source": [
        "history = model_B.fit(X_train_B, y_train_B, epochs=20,\n",
        "                      validation_data=(X_valid_B, y_valid_B))"
      ],
      "metadata": {
        "colab": {
          "base_uri": "https://localhost:8080/"
        },
        "id": "BP-q-9RMKu2R",
        "outputId": "5695112f-994b-44dd-fb10-3ab511a513b6"
      },
      "execution_count": null,
      "outputs": [
        {
          "output_type": "stream",
          "name": "stdout",
          "text": [
            "Epoch 1/20\n",
            "7/7 [==============================] - 2s 158ms/step - loss: 0.7857 - accuracy: 0.5550 - val_loss: 0.6404 - val_accuracy: 0.6166\n",
            "Epoch 2/20\n",
            "7/7 [==============================] - 0s 18ms/step - loss: 0.6126 - accuracy: 0.6400 - val_loss: 0.5111 - val_accuracy: 0.7667\n",
            "Epoch 3/20\n",
            "7/7 [==============================] - 0s 18ms/step - loss: 0.4899 - accuracy: 0.7750 - val_loss: 0.4268 - val_accuracy: 0.8631\n",
            "Epoch 4/20\n",
            "7/7 [==============================] - 0s 18ms/step - loss: 0.4073 - accuracy: 0.8400 - val_loss: 0.3648 - val_accuracy: 0.9067\n",
            "Epoch 5/20\n",
            "7/7 [==============================] - 0s 18ms/step - loss: 0.3455 - accuracy: 0.9000 - val_loss: 0.3141 - val_accuracy: 0.9412\n",
            "Epoch 6/20\n",
            "7/7 [==============================] - 0s 31ms/step - loss: 0.2939 - accuracy: 0.9400 - val_loss: 0.2777 - val_accuracy: 0.9473\n",
            "Epoch 7/20\n",
            "7/7 [==============================] - 0s 31ms/step - loss: 0.2570 - accuracy: 0.9500 - val_loss: 0.2488 - val_accuracy: 0.9554\n",
            "Epoch 8/20\n",
            "7/7 [==============================] - 0s 18ms/step - loss: 0.2272 - accuracy: 0.9700 - val_loss: 0.2247 - val_accuracy: 0.9604\n",
            "Epoch 9/20\n",
            "7/7 [==============================] - 0s 19ms/step - loss: 0.2027 - accuracy: 0.9800 - val_loss: 0.2046 - val_accuracy: 0.9665\n",
            "Epoch 10/20\n",
            "7/7 [==============================] - 0s 18ms/step - loss: 0.1825 - accuracy: 0.9800 - val_loss: 0.1889 - val_accuracy: 0.9696\n",
            "Epoch 11/20\n",
            "7/7 [==============================] - 0s 18ms/step - loss: 0.1665 - accuracy: 0.9800 - val_loss: 0.1758 - val_accuracy: 0.9706\n",
            "Epoch 12/20\n",
            "7/7 [==============================] - 0s 17ms/step - loss: 0.1527 - accuracy: 0.9900 - val_loss: 0.1651 - val_accuracy: 0.9716\n",
            "Epoch 13/20\n",
            "7/7 [==============================] - 0s 17ms/step - loss: 0.1417 - accuracy: 0.9900 - val_loss: 0.1553 - val_accuracy: 0.9716\n",
            "Epoch 14/20\n",
            "7/7 [==============================] - 0s 17ms/step - loss: 0.1316 - accuracy: 0.9900 - val_loss: 0.1469 - val_accuracy: 0.9726\n",
            "Epoch 15/20\n",
            "7/7 [==============================] - 0s 19ms/step - loss: 0.1224 - accuracy: 0.9900 - val_loss: 0.1387 - val_accuracy: 0.9767\n",
            "Epoch 16/20\n",
            "7/7 [==============================] - 0s 18ms/step - loss: 0.1146 - accuracy: 0.9900 - val_loss: 0.1321 - val_accuracy: 0.9767\n",
            "Epoch 17/20\n",
            "7/7 [==============================] - 0s 31ms/step - loss: 0.1078 - accuracy: 0.9950 - val_loss: 0.1263 - val_accuracy: 0.9787\n",
            "Epoch 18/20\n",
            "7/7 [==============================] - 0s 18ms/step - loss: 0.1019 - accuracy: 0.9950 - val_loss: 0.1211 - val_accuracy: 0.9797\n",
            "Epoch 19/20\n",
            "7/7 [==============================] - 0s 18ms/step - loss: 0.0963 - accuracy: 0.9950 - val_loss: 0.1162 - val_accuracy: 0.9807\n",
            "Epoch 20/20\n",
            "7/7 [==============================] - 0s 32ms/step - loss: 0.0911 - accuracy: 0.9950 - val_loss: 0.1123 - val_accuracy: 0.9807\n"
          ]
        }
      ]
    },
    {
      "cell_type": "code",
      "source": [
        "model_A = keras.models.load_model(\"my_model_A.h5\")\n",
        "model_B_on_A = keras.models.Sequential(model_A.layers[:-1])\n",
        "model_B_on_A.add(keras.layers.Dense(1, activation=\"sigmoid\"))"
      ],
      "metadata": {
        "id": "YY9YtyukK9pI"
      },
      "execution_count": null,
      "outputs": []
    },
    {
      "cell_type": "code",
      "source": [
        "model_A_clone = keras.models.clone_model(model_A)\n",
        "model_A_clone.set_weights(model_A.get_weights())\n",
        "model_B_on_A = keras.models.Sequential(model_A_clone.layers[:-1])\n",
        "model_B_on_A.add(keras.layers.Dense(1, activation=\"sigmoid\"))"
      ],
      "metadata": {
        "id": "82Wzm54AK9l1"
      },
      "execution_count": null,
      "outputs": []
    },
    {
      "cell_type": "code",
      "source": [
        "for layer in model_B_on_A.layers[:-1]:\n",
        "    layer.trainable = False\n",
        "\n",
        "model_B_on_A.compile(loss=\"binary_crossentropy\",\n",
        "                     optimizer=keras.optimizers.SGD(learning_rate=1e-3),\n",
        "                     metrics=[\"accuracy\"])"
      ],
      "metadata": {
        "id": "_0qnmu8XK9i6"
      },
      "execution_count": null,
      "outputs": []
    },
    {
      "cell_type": "code",
      "source": [
        "history = model_B_on_A.fit(X_train_B, y_train_B, epochs=4,\n",
        "                           validation_data=(X_valid_B, y_valid_B))\n",
        "\n",
        "for layer in model_B_on_A.layers[:-1]:\n",
        "    layer.trainable = True\n",
        "\n",
        "model_B_on_A.compile(loss=\"binary_crossentropy\",\n",
        "                     optimizer=keras.optimizers.SGD(learning_rate=1e-3),\n",
        "                     metrics=[\"accuracy\"])\n",
        "history = model_B_on_A.fit(X_train_B, y_train_B, epochs=16,\n",
        "                           validation_data=(X_valid_B, y_valid_B))"
      ],
      "metadata": {
        "colab": {
          "base_uri": "https://localhost:8080/"
        },
        "id": "zbFuUKaHK9hO",
        "outputId": "9eca73f2-8693-4574-822b-915e1848d4e1"
      },
      "execution_count": null,
      "outputs": [
        {
          "output_type": "stream",
          "name": "stdout",
          "text": [
            "Epoch 1/4\n",
            "7/7 [==============================] - 1s 42ms/step - loss: 0.5763 - accuracy: 0.6500 - val_loss: 0.5649 - val_accuracy: 0.6826\n",
            "Epoch 2/4\n",
            "7/7 [==============================] - 0s 18ms/step - loss: 0.5448 - accuracy: 0.6600 - val_loss: 0.5342 - val_accuracy: 0.7028\n",
            "Epoch 3/4\n",
            "7/7 [==============================] - 0s 17ms/step - loss: 0.5140 - accuracy: 0.6850 - val_loss: 0.5079 - val_accuracy: 0.7312\n",
            "Epoch 4/4\n",
            "7/7 [==============================] - 0s 16ms/step - loss: 0.4877 - accuracy: 0.7150 - val_loss: 0.4831 - val_accuracy: 0.7596\n",
            "Epoch 1/16\n",
            "7/7 [==============================] - 1s 57ms/step - loss: 0.3905 - accuracy: 0.8050 - val_loss: 0.3121 - val_accuracy: 0.9067\n",
            "Epoch 2/16\n",
            "7/7 [==============================] - 0s 19ms/step - loss: 0.2632 - accuracy: 0.9350 - val_loss: 0.2428 - val_accuracy: 0.9381\n",
            "Epoch 3/16\n",
            "7/7 [==============================] - 0s 31ms/step - loss: 0.2064 - accuracy: 0.9650 - val_loss: 0.2043 - val_accuracy: 0.9574\n",
            "Epoch 4/16\n",
            "7/7 [==============================] - 0s 31ms/step - loss: 0.1739 - accuracy: 0.9650 - val_loss: 0.1791 - val_accuracy: 0.9635\n",
            "Epoch 5/16\n",
            "7/7 [==============================] - 0s 31ms/step - loss: 0.1508 - accuracy: 0.9750 - val_loss: 0.1601 - val_accuracy: 0.9706\n",
            "Epoch 6/16\n",
            "7/7 [==============================] - 0s 18ms/step - loss: 0.1337 - accuracy: 0.9800 - val_loss: 0.1465 - val_accuracy: 0.9757\n",
            "Epoch 7/16\n",
            "7/7 [==============================] - 0s 18ms/step - loss: 0.1212 - accuracy: 0.9800 - val_loss: 0.1357 - val_accuracy: 0.9777\n",
            "Epoch 8/16\n",
            "7/7 [==============================] - 0s 18ms/step - loss: 0.1108 - accuracy: 0.9800 - val_loss: 0.1254 - val_accuracy: 0.9797\n",
            "Epoch 9/16\n",
            "7/7 [==============================] - 0s 17ms/step - loss: 0.1015 - accuracy: 0.9850 - val_loss: 0.1163 - val_accuracy: 0.9817\n",
            "Epoch 10/16\n",
            "7/7 [==============================] - 0s 19ms/step - loss: 0.0935 - accuracy: 0.9900 - val_loss: 0.1101 - val_accuracy: 0.9817\n",
            "Epoch 11/16\n",
            "7/7 [==============================] - 0s 18ms/step - loss: 0.0877 - accuracy: 0.9900 - val_loss: 0.1046 - val_accuracy: 0.9828\n",
            "Epoch 12/16\n",
            "7/7 [==============================] - 0s 19ms/step - loss: 0.0824 - accuracy: 0.9900 - val_loss: 0.0998 - val_accuracy: 0.9828\n",
            "Epoch 13/16\n",
            "7/7 [==============================] - 0s 18ms/step - loss: 0.0778 - accuracy: 0.9900 - val_loss: 0.0955 - val_accuracy: 0.9828\n",
            "Epoch 14/16\n",
            "7/7 [==============================] - 0s 17ms/step - loss: 0.0738 - accuracy: 0.9900 - val_loss: 0.0916 - val_accuracy: 0.9838\n",
            "Epoch 15/16\n",
            "7/7 [==============================] - 0s 17ms/step - loss: 0.0700 - accuracy: 0.9950 - val_loss: 0.0880 - val_accuracy: 0.9858\n",
            "Epoch 16/16\n",
            "7/7 [==============================] - 0s 18ms/step - loss: 0.0669 - accuracy: 0.9950 - val_loss: 0.0851 - val_accuracy: 0.9868\n"
          ]
        }
      ]
    },
    {
      "cell_type": "code",
      "source": [
        "model_B.evaluate(X_test_B, y_test_B)"
      ],
      "metadata": {
        "colab": {
          "base_uri": "https://localhost:8080/"
        },
        "id": "KvE7b6_EK9eO",
        "outputId": "5ca00d7e-6510-48d0-816c-b2ce4d2ebeb4"
      },
      "execution_count": null,
      "outputs": [
        {
          "output_type": "stream",
          "name": "stdout",
          "text": [
            "63/63 [==============================] - 0s 2ms/step - loss: 0.1119 - accuracy: 0.9800\n"
          ]
        },
        {
          "output_type": "execute_result",
          "data": {
            "text/plain": [
              "[0.11188411712646484, 0.9800000190734863]"
            ]
          },
          "metadata": {},
          "execution_count": 54
        }
      ]
    },
    {
      "cell_type": "code",
      "source": [
        "model_B_on_A.evaluate(X_test_B, y_test_B)"
      ],
      "metadata": {
        "colab": {
          "base_uri": "https://localhost:8080/"
        },
        "id": "Vf_T0fR6K9bw",
        "outputId": "08686264-d600-465f-84db-bbc447ce5b2f"
      },
      "execution_count": null,
      "outputs": [
        {
          "output_type": "stream",
          "name": "stdout",
          "text": [
            "63/63 [==============================] - 0s 5ms/step - loss: 0.0811 - accuracy: 0.9825\n"
          ]
        },
        {
          "output_type": "execute_result",
          "data": {
            "text/plain": [
              "[0.08106134086847305, 0.9825000166893005]"
            ]
          },
          "metadata": {},
          "execution_count": 55
        }
      ]
    },
    {
      "cell_type": "code",
      "source": [
        "(100 - 98)/(100 - 98.25)"
      ],
      "metadata": {
        "colab": {
          "base_uri": "https://localhost:8080/"
        },
        "id": "e-1IupHCK9YV",
        "outputId": "d5bf4d7d-88bf-4ebe-b8d7-49167efdcdcd"
      },
      "execution_count": null,
      "outputs": [
        {
          "output_type": "execute_result",
          "data": {
            "text/plain": [
              "1.1428571428571428"
            ]
          },
          "metadata": {},
          "execution_count": 56
        }
      ]
    },
    {
      "cell_type": "markdown",
      "source": [
        "# Faster Optimizers"
      ],
      "metadata": {
        "id": "K0nTAqdxLxpB"
      }
    },
    {
      "cell_type": "markdown",
      "source": [
        "## Momentum Optimization"
      ],
      "metadata": {
        "id": "CId8_xvQOIJX"
      }
    },
    {
      "cell_type": "code",
      "source": [
        "optimizer = tf.keras.optimizers.SGD(learning_rate = 1e-3, momentum = 0.9)"
      ],
      "metadata": {
        "id": "_wMzghmrK9Vb"
      },
      "execution_count": 2,
      "outputs": []
    },
    {
      "cell_type": "markdown",
      "source": [
        "## Nesterov Optimization"
      ],
      "metadata": {
        "id": "rT8nRSy-cQb8"
      }
    },
    {
      "cell_type": "code",
      "source": [
        "optimizer = tf.keras.optimizers.SGD(learning_rate = 1e-3, momentum = 0.9, nesterov = True)"
      ],
      "metadata": {
        "id": "pCMx-twaK9Si"
      },
      "execution_count": 4,
      "outputs": []
    },
    {
      "cell_type": "markdown",
      "source": [
        "## Adagrad"
      ],
      "metadata": {
        "id": "6c7s_ABlciL5"
      }
    },
    {
      "cell_type": "code",
      "source": [
        "optimizer = tf.keras.optimizers.Adagrad(learning_rate = 1e-3)"
      ],
      "metadata": {
        "id": "8K9vDajncw0k"
      },
      "execution_count": 5,
      "outputs": []
    },
    {
      "cell_type": "markdown",
      "source": [
        "## RMSProp"
      ],
      "metadata": {
        "id": "SVKSy1Qsc3Lu"
      }
    },
    {
      "cell_type": "code",
      "source": [
        "optimizer = tf.keras.optimizers.RMSprop(learning_rate = 1e-3, rho = 0.9)"
      ],
      "metadata": {
        "id": "Hd7krsFvc9x6"
      },
      "execution_count": 8,
      "outputs": []
    },
    {
      "cell_type": "markdown",
      "source": [
        "## Adam"
      ],
      "metadata": {
        "id": "W039p7SFc3XA"
      }
    },
    {
      "cell_type": "code",
      "source": [
        "optimizer = tf.keras.optimizers.Adam(learning_rate = 1e-3, beta_1 = 0.9, beta_2 = 0.999)"
      ],
      "metadata": {
        "id": "-qGhhT8TdOMK"
      },
      "execution_count": 9,
      "outputs": []
    },
    {
      "cell_type": "markdown",
      "source": [
        "## Adamax"
      ],
      "metadata": {
        "id": "jNU7T0H1c3eT"
      }
    },
    {
      "cell_type": "code",
      "source": [
        "optimizer = tf.keras.optimizers.Adamax(learning_rate = 1e-3, beta_1 = 0.9, beta_2 = 0.999 )"
      ],
      "metadata": {
        "id": "GSOkA66AdWaW"
      },
      "execution_count": 10,
      "outputs": []
    },
    {
      "cell_type": "markdown",
      "source": [
        "## Nadam"
      ],
      "metadata": {
        "id": "RP-k0HbvdkJ_"
      }
    },
    {
      "cell_type": "code",
      "source": [
        "optimizer = tf.keras.optimizers.Nadam(learning_rate = 1e-3, beta_1=0.9, beta_2 = 0.999)"
      ],
      "metadata": {
        "id": "ZdIFKkRGdiJl"
      },
      "execution_count": 11,
      "outputs": []
    },
    {
      "cell_type": "markdown",
      "source": [
        "## Learning Rate Scheduling"
      ],
      "metadata": {
        "id": "v1-4GD52eGww"
      }
    },
    {
      "cell_type": "code",
      "source": [
        "(X_train_full, y_train_full), (X_test, y_test) = tf.keras.datasets.fashion_mnist.load_data()"
      ],
      "metadata": {
        "id": "hrpeEqY7eZ9c",
        "outputId": "c76cbcce-ce2e-4d97-c444-937e3fc1e530",
        "colab": {
          "base_uri": "https://localhost:8080/"
        }
      },
      "execution_count": 12,
      "outputs": [
        {
          "output_type": "stream",
          "name": "stdout",
          "text": [
            "Downloading data from https://storage.googleapis.com/tensorflow/tf-keras-datasets/train-labels-idx1-ubyte.gz\n",
            "29515/29515 [==============================] - 0s 0us/step\n",
            "Downloading data from https://storage.googleapis.com/tensorflow/tf-keras-datasets/train-images-idx3-ubyte.gz\n",
            "26421880/26421880 [==============================] - 0s 0us/step\n",
            "Downloading data from https://storage.googleapis.com/tensorflow/tf-keras-datasets/t10k-labels-idx1-ubyte.gz\n",
            "5148/5148 [==============================] - 0s 0us/step\n",
            "Downloading data from https://storage.googleapis.com/tensorflow/tf-keras-datasets/t10k-images-idx3-ubyte.gz\n",
            "4422102/4422102 [==============================] - 0s 0us/step\n"
          ]
        }
      ]
    },
    {
      "cell_type": "code",
      "source": [
        "X_train_full = X_train_full/255.0\n",
        "X_test = X_test/255.0"
      ],
      "metadata": {
        "id": "2z67LoUVeb_p"
      },
      "execution_count": 13,
      "outputs": []
    },
    {
      "cell_type": "code",
      "source": [
        "X_valid, X_train = X_train_full[:5000], X_train_full[5000:]\n",
        "y_valid, y_train = y_train_full[:5000], y_train_full[5000:]"
      ],
      "metadata": {
        "id": "sP0KWiENedJ-"
      },
      "execution_count": 14,
      "outputs": []
    },
    {
      "cell_type": "code",
      "source": [
        "pixel_means = X_train.mean(axis=0, keepdims=True)\n",
        "pixel_stds = X_train.std(axis=0, keepdims=True)\n",
        "X_train_scaled = (X_train - pixel_means) / pixel_stds\n",
        "X_valid_scaled = (X_valid - pixel_means) / pixel_stds\n",
        "X_test_scaled = (X_test - pixel_means) / pixel_stds"
      ],
      "metadata": {
        "id": "mqNUAJBaf2oB"
      },
      "execution_count": 20,
      "outputs": []
    },
    {
      "cell_type": "markdown",
      "source": [
        "### Power Scheduling"
      ],
      "metadata": {
        "id": "kDBMka-leSK-"
      }
    },
    {
      "cell_type": "code",
      "source": [
        "lr_schedule = tf.keras.optimizers.schedules.ExponentialDecay(\n",
        "    initial_learning_rate=0.01,\n",
        "    decay_steps = 10000,\n",
        "    decay_rate=1e-4,\n",
        "    )\n",
        "optimizer = tf.keras.optimizers.SGD(learning_rate=lr_schedule)"
      ],
      "metadata": {
        "id": "RhVtf1cBeJVP"
      },
      "execution_count": 25,
      "outputs": []
    },
    {
      "cell_type": "code",
      "source": [
        "model = keras.models.Sequential([\n",
        "    keras.layers.Flatten(input_shape=[28, 28]),\n",
        "    keras.layers.Dense(300, activation=\"selu\", kernel_initializer=\"lecun_normal\"),\n",
        "    keras.layers.Dense(100, activation=\"selu\", kernel_initializer=\"lecun_normal\"),\n",
        "    keras.layers.Dense(10, activation=\"softmax\")\n",
        "])\n",
        "model.compile(loss=\"sparse_categorical_crossentropy\", optimizer=optimizer, metrics=[\"accuracy\"])\n"
      ],
      "metadata": {
        "id": "pMoL3f82fbSM"
      },
      "execution_count": 26,
      "outputs": []
    },
    {
      "cell_type": "code",
      "source": [
        "n_epochs = 25\n",
        "history = model.fit(X_train_scaled, y_train, epochs=n_epochs,\n",
        "                    validation_data=(X_valid_scaled, y_valid))"
      ],
      "metadata": {
        "id": "n1HvNBQ5fcOG",
        "outputId": "3bd04daf-c71a-40cf-caa9-787b26607171",
        "colab": {
          "base_uri": "https://localhost:8080/"
        }
      },
      "execution_count": 27,
      "outputs": [
        {
          "output_type": "stream",
          "name": "stdout",
          "text": [
            "Epoch 1/25\n",
            "1719/1719 [==============================] - 7s 4ms/step - loss: 0.4955 - accuracy: 0.8285 - val_loss: 0.4242 - val_accuracy: 0.8558\n",
            "Epoch 2/25\n",
            "1719/1719 [==============================] - 5s 3ms/step - loss: 0.4061 - accuracy: 0.8585 - val_loss: 0.4098 - val_accuracy: 0.8596\n",
            "Epoch 3/25\n",
            "1719/1719 [==============================] - 5s 3ms/step - loss: 0.3963 - accuracy: 0.8619 - val_loss: 0.4080 - val_accuracy: 0.8618\n",
            "Epoch 4/25\n",
            "1719/1719 [==============================] - 6s 3ms/step - loss: 0.3943 - accuracy: 0.8625 - val_loss: 0.4077 - val_accuracy: 0.8610\n",
            "Epoch 5/25\n",
            "1719/1719 [==============================] - 5s 3ms/step - loss: 0.3938 - accuracy: 0.8628 - val_loss: 0.4076 - val_accuracy: 0.8610\n",
            "Epoch 6/25\n",
            "1719/1719 [==============================] - 6s 3ms/step - loss: 0.3937 - accuracy: 0.8627 - val_loss: 0.4076 - val_accuracy: 0.8610\n",
            "Epoch 7/25\n",
            "1719/1719 [==============================] - 5s 3ms/step - loss: 0.3937 - accuracy: 0.8628 - val_loss: 0.4076 - val_accuracy: 0.8612\n",
            "Epoch 8/25\n",
            "1719/1719 [==============================] - 6s 3ms/step - loss: 0.3937 - accuracy: 0.8628 - val_loss: 0.4076 - val_accuracy: 0.8612\n",
            "Epoch 9/25\n",
            "1719/1719 [==============================] - 5s 3ms/step - loss: 0.3937 - accuracy: 0.8628 - val_loss: 0.4076 - val_accuracy: 0.8612\n",
            "Epoch 10/25\n",
            "1719/1719 [==============================] - 6s 3ms/step - loss: 0.3937 - accuracy: 0.8628 - val_loss: 0.4076 - val_accuracy: 0.8612\n",
            "Epoch 11/25\n",
            "1719/1719 [==============================] - 6s 3ms/step - loss: 0.3937 - accuracy: 0.8628 - val_loss: 0.4076 - val_accuracy: 0.8612\n",
            "Epoch 12/25\n",
            "1719/1719 [==============================] - 6s 3ms/step - loss: 0.3937 - accuracy: 0.8628 - val_loss: 0.4076 - val_accuracy: 0.8612\n",
            "Epoch 13/25\n",
            "1719/1719 [==============================] - 5s 3ms/step - loss: 0.3937 - accuracy: 0.8628 - val_loss: 0.4076 - val_accuracy: 0.8612\n",
            "Epoch 14/25\n",
            "1719/1719 [==============================] - 5s 3ms/step - loss: 0.3937 - accuracy: 0.8628 - val_loss: 0.4076 - val_accuracy: 0.8612\n",
            "Epoch 15/25\n",
            "1719/1719 [==============================] - 6s 3ms/step - loss: 0.3937 - accuracy: 0.8628 - val_loss: 0.4076 - val_accuracy: 0.8612\n",
            "Epoch 16/25\n",
            "1719/1719 [==============================] - 5s 3ms/step - loss: 0.3937 - accuracy: 0.8628 - val_loss: 0.4076 - val_accuracy: 0.8612\n",
            "Epoch 17/25\n",
            "1719/1719 [==============================] - 6s 3ms/step - loss: 0.3937 - accuracy: 0.8628 - val_loss: 0.4076 - val_accuracy: 0.8612\n",
            "Epoch 18/25\n",
            "1719/1719 [==============================] - 5s 3ms/step - loss: 0.3937 - accuracy: 0.8628 - val_loss: 0.4076 - val_accuracy: 0.8612\n",
            "Epoch 19/25\n",
            "1719/1719 [==============================] - 6s 3ms/step - loss: 0.3937 - accuracy: 0.8628 - val_loss: 0.4076 - val_accuracy: 0.8612\n",
            "Epoch 20/25\n",
            "1719/1719 [==============================] - 5s 3ms/step - loss: 0.3937 - accuracy: 0.8628 - val_loss: 0.4076 - val_accuracy: 0.8612\n",
            "Epoch 21/25\n",
            "1719/1719 [==============================] - 5s 3ms/step - loss: 0.3937 - accuracy: 0.8628 - val_loss: 0.4076 - val_accuracy: 0.8612\n",
            "Epoch 22/25\n",
            "1719/1719 [==============================] - 5s 3ms/step - loss: 0.3937 - accuracy: 0.8628 - val_loss: 0.4076 - val_accuracy: 0.8612\n",
            "Epoch 23/25\n",
            "1719/1719 [==============================] - 5s 3ms/step - loss: 0.3937 - accuracy: 0.8628 - val_loss: 0.4076 - val_accuracy: 0.8612\n",
            "Epoch 24/25\n",
            "1719/1719 [==============================] - 6s 3ms/step - loss: 0.3937 - accuracy: 0.8628 - val_loss: 0.4076 - val_accuracy: 0.8612\n",
            "Epoch 25/25\n",
            "1719/1719 [==============================] - 5s 3ms/step - loss: 0.3937 - accuracy: 0.8628 - val_loss: 0.4076 - val_accuracy: 0.8612\n"
          ]
        }
      ]
    },
    {
      "cell_type": "code",
      "source": [
        "import math\n",
        "\n",
        "learning_rate = 0.01\n",
        "decay = 1e-4\n",
        "batch_size = 32\n",
        "n_steps_per_epoch = math.ceil(len(X_train) / batch_size)\n",
        "epochs = np.arange(n_epochs)\n",
        "lrs = learning_rate / (1 + decay * epochs * n_steps_per_epoch)\n",
        "\n",
        "plt.plot(epochs, lrs,  \"o-\")\n",
        "plt.axis([0, n_epochs - 1, 0, 0.01])\n",
        "plt.xlabel(\"Epoch\")\n",
        "plt.ylabel(\"Learning Rate\")\n",
        "plt.title(\"Power Scheduling\", fontsize=14)\n",
        "plt.grid(True)\n",
        "plt.show()"
      ],
      "metadata": {
        "id": "lp-68dIqkTql",
        "outputId": "9ba1c34c-147e-41a2-955e-dae646c96075",
        "colab": {
          "base_uri": "https://localhost:8080/",
          "height": 482
        }
      },
      "execution_count": 28,
      "outputs": [
        {
          "output_type": "display_data",
          "data": {
            "text/plain": [
              "<Figure size 640x480 with 1 Axes>"
            ],
            "image/png": "[encoded data removed]"
          },
          "metadata": {}
        }
      ]
    },
    {
      "cell_type": "markdown",
      "source": [
        "### Exponential Scheduling"
      ],
      "metadata": {
        "id": "iehHlTUFkduz"
      }
    },
    {
      "cell_type": "code",
      "source": [
        "def exponential_decay_fn(epoch):\n",
        "    return 0.01 * 0.1**(epoch / 20)"
      ],
      "metadata": {
        "id": "Cl1RsP3dkfgu"
      },
      "execution_count": 29,
      "outputs": []
    },
    {
      "cell_type": "code",
      "source": [
        "def exponential_decay(lr0, s):\n",
        "    def exponential_decay_fn(epoch):\n",
        "        return lr0 * 0.1**(epoch / s)\n",
        "    return exponential_decay_fn\n",
        "\n",
        "exponential_decay_fn = exponential_decay(lr0=0.01, s=20)"
      ],
      "metadata": {
        "id": "IdVu4qjSkjhk"
      },
      "execution_count": 30,
      "outputs": []
    },
    {
      "cell_type": "code",
      "source": [
        "model = keras.models.Sequential([\n",
        "    keras.layers.Flatten(input_shape=[28, 28]),\n",
        "    keras.layers.Dense(300, activation=\"selu\", kernel_initializer=\"lecun_normal\"),\n",
        "    keras.layers.Dense(100, activation=\"selu\", kernel_initializer=\"lecun_normal\"),\n",
        "    keras.layers.Dense(10, activation=\"softmax\")\n",
        "])\n",
        "model.compile(loss=\"sparse_categorical_crossentropy\", optimizer=\"nadam\", metrics=[\"accuracy\"])\n",
        "n_epochs = 25"
      ],
      "metadata": {
        "id": "V0nwMBN0kmWi"
      },
      "execution_count": 31,
      "outputs": []
    },
    {
      "cell_type": "code",
      "source": [
        "lr_scheduler = keras.callbacks.LearningRateScheduler(exponential_decay_fn)\n",
        "history = model.fit(X_train_scaled, y_train, epochs=n_epochs,\n",
        "                    validation_data=(X_valid_scaled, y_valid),\n",
        "                    callbacks=[lr_scheduler])"
      ],
      "metadata": {
        "id": "3ZEtYQXukpN0",
        "outputId": "4b3bedcf-1bdb-423d-f549-25c18d9434c0",
        "colab": {
          "base_uri": "https://localhost:8080/"
        }
      },
      "execution_count": 32,
      "outputs": [
        {
          "output_type": "stream",
          "name": "stdout",
          "text": [
            "Epoch 1/25\n",
            "1719/1719 [==============================] - 10s 4ms/step - loss: 0.7526 - accuracy: 0.7767 - val_loss: 0.9397 - val_accuracy: 0.7448 - lr: 0.0100\n",
            "Epoch 2/25\n",
            "1719/1719 [==============================] - 6s 4ms/step - loss: 0.6687 - accuracy: 0.7995 - val_loss: 0.7551 - val_accuracy: 0.8006 - lr: 0.0089\n",
            "Epoch 3/25\n",
            "1719/1719 [==============================] - 6s 3ms/step - loss: 0.6560 - accuracy: 0.8061 - val_loss: 0.7105 - val_accuracy: 0.7798 - lr: 0.0079\n",
            "Epoch 4/25\n",
            "1719/1719 [==============================] - 7s 4ms/step - loss: 0.5938 - accuracy: 0.8240 - val_loss: 0.7089 - val_accuracy: 0.8192 - lr: 0.0071\n",
            "Epoch 5/25\n",
            "1719/1719 [==============================] - 6s 3ms/step - loss: 0.5759 - accuracy: 0.8285 - val_loss: 0.6017 - val_accuracy: 0.8208 - lr: 0.0063\n",
            "Epoch 6/25\n",
            "1719/1719 [==============================] - 6s 4ms/step - loss: 0.5145 - accuracy: 0.8446 - val_loss: 0.6723 - val_accuracy: 0.8114 - lr: 0.0056\n",
            "Epoch 7/25\n",
            "1719/1719 [==============================] - 6s 4ms/step - loss: 0.4956 - accuracy: 0.8494 - val_loss: 0.5631 - val_accuracy: 0.8500 - lr: 0.0050\n",
            "Epoch 8/25\n",
            "1719/1719 [==============================] - 7s 4ms/step - loss: 0.4550 - accuracy: 0.8607 - val_loss: 0.4904 - val_accuracy: 0.8574 - lr: 0.0045\n",
            "Epoch 9/25\n",
            "1719/1719 [==============================] - 6s 3ms/step - loss: 0.4121 - accuracy: 0.8713 - val_loss: 0.5062 - val_accuracy: 0.8562 - lr: 0.0040\n",
            "Epoch 10/25\n",
            "1719/1719 [==============================] - 7s 4ms/step - loss: 0.3844 - accuracy: 0.8798 - val_loss: 0.8284 - val_accuracy: 0.8624 - lr: 0.0035\n",
            "Epoch 11/25\n",
            "1719/1719 [==============================] - 6s 3ms/step - loss: 0.3672 - accuracy: 0.8869 - val_loss: 0.5400 - val_accuracy: 0.8590 - lr: 0.0032\n",
            "Epoch 12/25\n",
            "1719/1719 [==============================] - 6s 4ms/step - loss: 0.3507 - accuracy: 0.8903 - val_loss: 0.6036 - val_accuracy: 0.8498 - lr: 0.0028\n",
            "Epoch 13/25\n",
            "1719/1719 [==============================] - 6s 4ms/step - loss: 0.3152 - accuracy: 0.8989 - val_loss: 0.4903 - val_accuracy: 0.8652 - lr: 0.0025\n",
            "Epoch 14/25\n",
            "1719/1719 [==============================] - 7s 4ms/step - loss: 0.2944 - accuracy: 0.9041 - val_loss: 0.4383 - val_accuracy: 0.8698 - lr: 0.0022\n",
            "Epoch 15/25\n",
            "1719/1719 [==============================] - 6s 4ms/step - loss: 0.2775 - accuracy: 0.9103 - val_loss: 0.4459 - val_accuracy: 0.8730 - lr: 0.0020\n",
            "Epoch 16/25\n",
            "1719/1719 [==============================] - 7s 4ms/step - loss: 0.2639 - accuracy: 0.9141 - val_loss: 0.5079 - val_accuracy: 0.8724 - lr: 0.0018\n",
            "Epoch 17/25\n",
            "1719/1719 [==============================] - 6s 3ms/step - loss: 0.2525 - accuracy: 0.9184 - val_loss: 0.4801 - val_accuracy: 0.8768 - lr: 0.0016\n",
            "Epoch 18/25\n",
            "1719/1719 [==============================] - 7s 4ms/step - loss: 0.2395 - accuracy: 0.9215 - val_loss: 0.4352 - val_accuracy: 0.8796 - lr: 0.0014\n",
            "Epoch 19/25\n",
            "1719/1719 [==============================] - 6s 4ms/step - loss: 0.2283 - accuracy: 0.9261 - val_loss: 0.4753 - val_accuracy: 0.8774 - lr: 0.0013\n",
            "Epoch 20/25\n",
            "1719/1719 [==============================] - 6s 4ms/step - loss: 0.2151 - accuracy: 0.9295 - val_loss: 0.5031 - val_accuracy: 0.8790 - lr: 0.0011\n",
            "Epoch 21/25\n",
            "1719/1719 [==============================] - 6s 3ms/step - loss: 0.2086 - accuracy: 0.9317 - val_loss: 0.5272 - val_accuracy: 0.8812 - lr: 0.0010\n",
            "Epoch 22/25\n",
            "1719/1719 [==============================] - 7s 4ms/step - loss: 0.1986 - accuracy: 0.9352 - val_loss: 0.5096 - val_accuracy: 0.8808 - lr: 8.9125e-04\n",
            "Epoch 23/25\n",
            "1719/1719 [==============================] - 6s 3ms/step - loss: 0.1892 - accuracy: 0.9387 - val_loss: 0.5104 - val_accuracy: 0.8816 - lr: 7.9433e-04\n",
            "Epoch 24/25\n",
            "1719/1719 [==============================] - 6s 4ms/step - loss: 0.1839 - accuracy: 0.9405 - val_loss: 0.5498 - val_accuracy: 0.8814 - lr: 7.0795e-04\n",
            "Epoch 25/25\n",
            "1719/1719 [==============================] - 6s 4ms/step - loss: 0.1774 - accuracy: 0.9427 - val_loss: 0.5558 - val_accuracy: 0.8820 - lr: 6.3096e-04\n"
          ]
        }
      ]
    },
    {
      "cell_type": "code",
      "source": [
        "plt.plot(history.epoch, history.history[\"lr\"], \"o-\")\n",
        "plt.axis([0, n_epochs - 1, 0, 0.011])\n",
        "plt.xlabel(\"Epoch\")\n",
        "plt.ylabel(\"Learning Rate\")\n",
        "plt.title(\"Exponential Scheduling\", fontsize=14)\n",
        "plt.grid(True)\n",
        "plt.show()"
      ],
      "metadata": {
        "id": "AAxf3MbTlLs2",
        "outputId": "ed95d354-5faf-4c52-9d7d-da119a0bdb43",
        "colab": {
          "base_uri": "https://localhost:8080/",
          "height": 482
        }
      },
      "execution_count": 33,
      "outputs": [
        {
          "output_type": "display_data",
          "data": {
            "text/plain": [
              "<Figure size 640x480 with 1 Axes>"
            ],
            "image/png": "[encoded data removed]"
          },
          "metadata": {}
        }
      ]
    },
    {
      "cell_type": "markdown",
      "source": [
        "To update the learning rate at each iteration rather than at each epoch, you must write your own callback class:"
      ],
      "metadata": {
        "id": "Qi5HLHTJloEK"
      }
    },
    {
      "cell_type": "code",
      "source": [
        "K = keras.backend\n",
        "\n",
        "class ExponentialDecay(keras.callbacks.Callback):\n",
        "    def __init__(self, s=40000):\n",
        "        super().__init__()\n",
        "        self.s = s\n",
        "\n",
        "    def on_batch_begin(self, batch, logs=None):\n",
        "        # Note: the `batch` argument is reset at each epoch\n",
        "        lr = K.get_value(self.model.optimizer.learning_rate)\n",
        "        K.set_value(self.model.optimizer.learning_rate, lr * 0.1**(1 / self.s))\n",
        "\n",
        "    def on_epoch_end(self, epoch, logs=None):\n",
        "        logs = logs or {}\n",
        "        logs['lr'] = K.get_value(self.model.optimizer.learning_rate)\n",
        "\n",
        "model = keras.models.Sequential([\n",
        "    keras.layers.Flatten(input_shape=[28, 28]),\n",
        "    keras.layers.Dense(300, activation=\"selu\", kernel_initializer=\"lecun_normal\"),\n",
        "    keras.layers.Dense(100, activation=\"selu\", kernel_initializer=\"lecun_normal\"),\n",
        "    keras.layers.Dense(10, activation=\"softmax\")\n",
        "])\n",
        "lr0 = 0.01\n",
        "optimizer = keras.optimizers.Nadam(learning_rate=lr0)\n",
        "model.compile(loss=\"sparse_categorical_crossentropy\", optimizer=optimizer, metrics=[\"accuracy\"])\n",
        "n_epochs = 25\n",
        "\n",
        "s = 20 * len(X_train) // 32 # number of steps in 20 epochs (batch size = 32)\n",
        "exp_decay = ExponentialDecay(s)\n",
        "history = model.fit(X_train_scaled, y_train, epochs=n_epochs,\n",
        "                    validation_data=(X_valid_scaled, y_valid),\n",
        "                    callbacks=[exp_decay])"
      ],
      "metadata": {
        "id": "xXSnsrkalhEL",
        "outputId": "b4693003-5b02-465d-be05-093f8639f3ea",
        "colab": {
          "base_uri": "https://localhost:8080/"
        }
      },
      "execution_count": 34,
      "outputs": [
        {
          "output_type": "stream",
          "name": "stdout",
          "text": [
            "Epoch 1/25\n",
            "1719/1719 [==============================] - 11s 6ms/step - loss: 0.7136 - accuracy: 0.7872 - val_loss: 0.6422 - val_accuracy: 0.8154 - lr: 0.0089\n",
            "Epoch 2/25\n",
            "1719/1719 [==============================] - 9s 5ms/step - loss: 0.6084 - accuracy: 0.8101 - val_loss: 0.5655 - val_accuracy: 0.8198 - lr: 0.0079\n",
            "Epoch 3/25\n",
            "1719/1719 [==============================] - 9s 5ms/step - loss: 0.5697 - accuracy: 0.8231 - val_loss: 0.5954 - val_accuracy: 0.8418 - lr: 0.0071\n",
            "Epoch 4/25\n",
            "1719/1719 [==============================] - 8s 4ms/step - loss: 0.5238 - accuracy: 0.8367 - val_loss: 0.5305 - val_accuracy: 0.8394 - lr: 0.0063\n",
            "Epoch 5/25\n",
            "1719/1719 [==============================] - 8s 4ms/step - loss: 0.4730 - accuracy: 0.8502 - val_loss: 0.5269 - val_accuracy: 0.8530 - lr: 0.0056\n",
            "Epoch 6/25\n",
            "1719/1719 [==============================] - 8s 4ms/step - loss: 0.4408 - accuracy: 0.8623 - val_loss: 0.4785 - val_accuracy: 0.8588 - lr: 0.0050\n",
            "Epoch 7/25\n",
            "1719/1719 [==============================] - 8s 4ms/step - loss: 0.4010 - accuracy: 0.8722 - val_loss: 0.5011 - val_accuracy: 0.8540 - lr: 0.0045\n",
            "Epoch 8/25\n",
            "1719/1719 [==============================] - 8s 5ms/step - loss: 0.3757 - accuracy: 0.8793 - val_loss: 0.5146 - val_accuracy: 0.8548 - lr: 0.0040\n",
            "Epoch 9/25\n",
            "1719/1719 [==============================] - 8s 5ms/step - loss: 0.3409 - accuracy: 0.8877 - val_loss: 0.4606 - val_accuracy: 0.8636 - lr: 0.0035\n",
            "Epoch 10/25\n",
            "1719/1719 [==============================] - 7s 4ms/step - loss: 0.3164 - accuracy: 0.8947 - val_loss: 0.4381 - val_accuracy: 0.8670 - lr: 0.0032\n",
            "Epoch 11/25\n",
            "1719/1719 [==============================] - 8s 4ms/step - loss: 0.2937 - accuracy: 0.9009 - val_loss: 0.4514 - val_accuracy: 0.8794 - lr: 0.0028\n",
            "Epoch 12/25\n",
            "1719/1719 [==============================] - 8s 5ms/step - loss: 0.2784 - accuracy: 0.9062 - val_loss: 0.4178 - val_accuracy: 0.8864 - lr: 0.0025\n",
            "Epoch 13/25\n",
            "1719/1719 [==============================] - 8s 4ms/step - loss: 0.2516 - accuracy: 0.9125 - val_loss: 0.4537 - val_accuracy: 0.8740 - lr: 0.0022\n",
            "Epoch 14/25\n",
            "1719/1719 [==============================] - 9s 5ms/step - loss: 0.2352 - accuracy: 0.9199 - val_loss: 0.4122 - val_accuracy: 0.8856 - lr: 0.0020\n",
            "Epoch 15/25\n",
            "1719/1719 [==============================] - 8s 5ms/step - loss: 0.2137 - accuracy: 0.9276 - val_loss: 0.4269 - val_accuracy: 0.8894 - lr: 0.0018\n",
            "Epoch 16/25\n",
            "1719/1719 [==============================] - 8s 4ms/step - loss: 0.2029 - accuracy: 0.9300 - val_loss: 0.4585 - val_accuracy: 0.8868 - lr: 0.0016\n",
            "Epoch 17/25\n",
            "1719/1719 [==============================] - 8s 5ms/step - loss: 0.1877 - accuracy: 0.9352 - val_loss: 0.4805 - val_accuracy: 0.8838 - lr: 0.0014\n",
            "Epoch 18/25\n",
            "1719/1719 [==============================] - 8s 4ms/step - loss: 0.1738 - accuracy: 0.9404 - val_loss: 0.4708 - val_accuracy: 0.8858 - lr: 0.0013\n",
            "Epoch 19/25\n",
            "1719/1719 [==============================] - 8s 5ms/step - loss: 0.1626 - accuracy: 0.9451 - val_loss: 0.4549 - val_accuracy: 0.8916 - lr: 0.0011\n",
            "Epoch 20/25\n",
            "1719/1719 [==============================] - 8s 5ms/step - loss: 0.1515 - accuracy: 0.9476 - val_loss: 0.4802 - val_accuracy: 0.8880 - lr: 9.9967e-04\n",
            "Epoch 21/25\n",
            "1719/1719 [==============================] - 8s 4ms/step - loss: 0.1400 - accuracy: 0.9524 - val_loss: 0.5312 - val_accuracy: 0.8922 - lr: 8.9094e-04\n",
            "Epoch 22/25\n",
            "1719/1719 [==============================] - 8s 5ms/step - loss: 0.1303 - accuracy: 0.9573 - val_loss: 0.5158 - val_accuracy: 0.8882 - lr: 7.9404e-04\n",
            "Epoch 23/25\n",
            "1719/1719 [==============================] - 8s 4ms/step - loss: 0.1210 - accuracy: 0.9603 - val_loss: 0.5498 - val_accuracy: 0.8900 - lr: 7.0767e-04\n",
            "Epoch 24/25\n",
            "1719/1719 [==============================] - 8s 5ms/step - loss: 0.1147 - accuracy: 0.9621 - val_loss: 0.5927 - val_accuracy: 0.8900 - lr: 6.3071e-04\n",
            "Epoch 25/25\n",
            "1719/1719 [==============================] - 8s 5ms/step - loss: 0.1072 - accuracy: 0.9653 - val_loss: 0.5887 - val_accuracy: 0.8908 - lr: 5.6211e-04\n"
          ]
        }
      ]
    },
    {
      "cell_type": "code",
      "source": [
        "n_steps = n_epochs * len(X_train) // 32\n",
        "steps = np.arange(n_steps)\n",
        "lrs = lr0 * 0.1**(steps / s)"
      ],
      "metadata": {
        "id": "snJT22cUlyi5"
      },
      "execution_count": 35,
      "outputs": []
    },
    {
      "cell_type": "code",
      "source": [
        "plt.plot(steps, lrs, \"-\", linewidth=2)\n",
        "plt.axis([0, n_steps - 1, 0, lr0 * 1.1])\n",
        "plt.xlabel(\"Batch\")\n",
        "plt.ylabel(\"Learning Rate\")\n",
        "plt.title(\"Exponential Scheduling (per batch)\", fontsize=14)\n",
        "plt.grid(True)\n",
        "plt.show()"
      ],
      "metadata": {
        "id": "ihQuZtWYlzb8",
        "outputId": "4453d12d-0f3c-4865-f06b-fb8a33e28bf4",
        "colab": {
          "base_uri": "https://localhost:8080/",
          "height": 482
        }
      },
      "execution_count": 36,
      "outputs": [
        {
          "output_type": "display_data",
          "data": {
            "text/plain": [
              "<Figure size 640x480 with 1 Axes>"
            ],
            "image/png": "[encoded data removed]"
          },
          "metadata": {}
        }
      ]
    },
    {
      "cell_type": "markdown",
      "source": [
        "### PieceWise Constant Scheduling"
      ],
      "metadata": {
        "id": "WJABweFPm4b4"
      }
    },
    {
      "cell_type": "code",
      "source": [
        "def piecewise_constant_fn(epoch):\n",
        "    if epoch < 5:\n",
        "        return 0.01\n",
        "    elif epoch < 15:\n",
        "        return 0.005\n",
        "    else:\n",
        "        return 0.001"
      ],
      "metadata": {
        "id": "i-J4Edllm7RF"
      },
      "execution_count": 37,
      "outputs": []
    },
    {
      "cell_type": "code",
      "source": [
        "def piecewise_constant(boundaries, values):\n",
        "    boundaries = np.array([0] + boundaries)\n",
        "    values = np.array(values)\n",
        "    def piecewise_constant_fn(epoch):\n",
        "        return values[np.argmax(boundaries > epoch) - 1]\n",
        "    return piecewise_constant_fn\n",
        "\n",
        "piecewise_constant_fn = piecewise_constant([5, 15], [0.01, 0.005, 0.001])"
      ],
      "metadata": {
        "id": "b3SErPYnnA4V"
      },
      "execution_count": 38,
      "outputs": []
    },
    {
      "cell_type": "code",
      "source": [
        "lr_scheduler = keras.callbacks.LearningRateScheduler(piecewise_constant_fn)\n",
        "\n",
        "model = keras.models.Sequential([\n",
        "    keras.layers.Flatten(input_shape=[28, 28]),\n",
        "    keras.layers.Dense(300, activation=\"selu\", kernel_initializer=\"lecun_normal\"),\n",
        "    keras.layers.Dense(100, activation=\"selu\", kernel_initializer=\"lecun_normal\"),\n",
        "    keras.layers.Dense(10, activation=\"softmax\")\n",
        "])\n",
        "model.compile(loss=\"sparse_categorical_crossentropy\", optimizer=\"nadam\", metrics=[\"accuracy\"])\n",
        "n_epochs = 25\n",
        "history = model.fit(X_train_scaled, y_train, epochs=n_epochs,\n",
        "                    validation_data=(X_valid_scaled, y_valid),\n",
        "                    callbacks=[lr_scheduler])"
      ],
      "metadata": {
        "id": "mK5SEQU4nC0V",
        "outputId": "7e36abb4-6fe9-4d3b-b67c-e6ddec667302",
        "colab": {
          "base_uri": "https://localhost:8080/"
        }
      },
      "execution_count": 39,
      "outputs": [
        {
          "output_type": "stream",
          "name": "stdout",
          "text": [
            "Epoch 1/25\n",
            "1719/1719 [==============================] - 8s 4ms/step - loss: 0.7512 - accuracy: 0.7744 - val_loss: 0.8281 - val_accuracy: 0.7922 - lr: 0.0100\n",
            "Epoch 2/25\n",
            "1719/1719 [==============================] - 7s 4ms/step - loss: 0.7457 - accuracy: 0.7839 - val_loss: 0.9815 - val_accuracy: 0.7924 - lr: 0.0100\n",
            "Epoch 3/25\n",
            "1719/1719 [==============================] - 6s 3ms/step - loss: 0.8200 - accuracy: 0.7661 - val_loss: 1.0114 - val_accuracy: 0.7414 - lr: 0.0100\n",
            "Epoch 4/25\n",
            "1719/1719 [==============================] - 7s 4ms/step - loss: 0.8393 - accuracy: 0.7592 - val_loss: 0.9487 - val_accuracy: 0.7194 - lr: 0.0100\n",
            "Epoch 5/25\n",
            "1719/1719 [==============================] - 6s 4ms/step - loss: 0.8100 - accuracy: 0.7486 - val_loss: 0.8075 - val_accuracy: 0.7028 - lr: 0.0100\n",
            "Epoch 6/25\n",
            "1719/1719 [==============================] - 7s 4ms/step - loss: 0.5330 - accuracy: 0.8277 - val_loss: 0.6611 - val_accuracy: 0.7930 - lr: 0.0050\n",
            "Epoch 7/25\n",
            "1719/1719 [==============================] - 6s 3ms/step - loss: 0.4923 - accuracy: 0.8478 - val_loss: 0.6919 - val_accuracy: 0.8278 - lr: 0.0050\n",
            "Epoch 8/25\n",
            "1719/1719 [==============================] - 7s 4ms/step - loss: 0.4679 - accuracy: 0.8569 - val_loss: 0.5269 - val_accuracy: 0.8618 - lr: 0.0050\n",
            "Epoch 9/25\n",
            "1719/1719 [==============================] - 6s 3ms/step - loss: 0.4521 - accuracy: 0.8625 - val_loss: 0.5521 - val_accuracy: 0.8514 - lr: 0.0050\n",
            "Epoch 10/25\n",
            "1719/1719 [==============================] - 6s 4ms/step - loss: 0.4503 - accuracy: 0.8671 - val_loss: 0.4955 - val_accuracy: 0.8580 - lr: 0.0050\n",
            "Epoch 11/25\n",
            "1719/1719 [==============================] - 8s 4ms/step - loss: 0.4172 - accuracy: 0.8727 - val_loss: 0.5661 - val_accuracy: 0.8546 - lr: 0.0050\n",
            "Epoch 12/25\n",
            "1719/1719 [==============================] - 7s 4ms/step - loss: 0.4255 - accuracy: 0.8748 - val_loss: 0.6892 - val_accuracy: 0.8234 - lr: 0.0050\n",
            "Epoch 13/25\n",
            "1719/1719 [==============================] - 6s 4ms/step - loss: 0.4100 - accuracy: 0.8759 - val_loss: 0.5831 - val_accuracy: 0.8556 - lr: 0.0050\n",
            "Epoch 14/25\n",
            "1719/1719 [==============================] - 6s 4ms/step - loss: 0.4261 - accuracy: 0.8781 - val_loss: 0.6203 - val_accuracy: 0.8574 - lr: 0.0050\n",
            "Epoch 15/25\n",
            "1719/1719 [==============================] - 6s 4ms/step - loss: 0.3945 - accuracy: 0.8815 - val_loss: 0.5448 - val_accuracy: 0.8668 - lr: 0.0050\n",
            "Epoch 16/25\n",
            "1719/1719 [==============================] - 6s 3ms/step - loss: 0.2733 - accuracy: 0.9115 - val_loss: 0.4572 - val_accuracy: 0.8836 - lr: 0.0010\n",
            "Epoch 17/25\n",
            "1719/1719 [==============================] - 7s 4ms/step - loss: 0.2445 - accuracy: 0.9196 - val_loss: 0.4805 - val_accuracy: 0.8884 - lr: 0.0010\n",
            "Epoch 18/25\n",
            "1719/1719 [==============================] - 6s 3ms/step - loss: 0.2293 - accuracy: 0.9226 - val_loss: 0.4733 - val_accuracy: 0.8854 - lr: 0.0010\n",
            "Epoch 19/25\n",
            "1719/1719 [==============================] - 6s 4ms/step - loss: 0.2213 - accuracy: 0.9254 - val_loss: 0.5246 - val_accuracy: 0.8850 - lr: 0.0010\n",
            "Epoch 20/25\n",
            "1719/1719 [==============================] - 6s 4ms/step - loss: 0.2142 - accuracy: 0.9295 - val_loss: 0.5175 - val_accuracy: 0.8858 - lr: 0.0010\n",
            "Epoch 21/25\n",
            "1719/1719 [==============================] - 6s 4ms/step - loss: 0.2044 - accuracy: 0.9313 - val_loss: 0.5125 - val_accuracy: 0.8874 - lr: 0.0010\n",
            "Epoch 22/25\n",
            "1719/1719 [==============================] - 6s 3ms/step - loss: 0.1969 - accuracy: 0.9329 - val_loss: 0.5268 - val_accuracy: 0.8796 - lr: 0.0010\n",
            "Epoch 23/25\n",
            "1719/1719 [==============================] - 7s 4ms/step - loss: 0.1888 - accuracy: 0.9365 - val_loss: 0.5685 - val_accuracy: 0.8878 - lr: 0.0010\n",
            "Epoch 24/25\n",
            "1719/1719 [==============================] - 6s 3ms/step - loss: 0.1818 - accuracy: 0.9378 - val_loss: 0.5798 - val_accuracy: 0.8836 - lr: 0.0010\n",
            "Epoch 25/25\n",
            "1719/1719 [==============================] - 6s 4ms/step - loss: 0.1730 - accuracy: 0.9406 - val_loss: 0.5792 - val_accuracy: 0.8870 - lr: 0.0010\n"
          ]
        }
      ]
    },
    {
      "cell_type": "code",
      "source": [
        "plt.plot(history.epoch, [piecewise_constant_fn(epoch) for epoch in history.epoch], \"o-\")\n",
        "plt.axis([0, n_epochs - 1, 0, 0.011])\n",
        "plt.xlabel(\"Epoch\")\n",
        "plt.ylabel(\"Learning Rate\")\n",
        "plt.title(\"Piecewise Constant Scheduling\", fontsize=14)\n",
        "plt.grid(True)\n",
        "plt.show()"
      ],
      "metadata": {
        "id": "F46PsKCvnWgf",
        "outputId": "55ed0484-e952-42a7-e087-e7afe80fd493",
        "colab": {
          "base_uri": "https://localhost:8080/",
          "height": 482
        }
      },
      "execution_count": 40,
      "outputs": [
        {
          "output_type": "display_data",
          "data": {
            "text/plain": [
              "<Figure size 640x480 with 1 Axes>"
            ],
            "image/png": "[encoded data removed]"
          },
          "metadata": {}
        }
      ]
    },
    {
      "cell_type": "markdown",
      "source": [
        "### Performance Scheduling"
      ],
      "metadata": {
        "id": "ETtxRqQLn1rQ"
      }
    },
    {
      "cell_type": "code",
      "source": [
        "tf.random.set_seed(42)\n",
        "np.random.seed(42)"
      ],
      "metadata": {
        "id": "9qekBUREn52V"
      },
      "execution_count": 41,
      "outputs": []
    },
    {
      "cell_type": "code",
      "source": [
        "lr_scheduler = keras.callbacks.ReduceLROnPlateau(factor=0.5, patience=5)\n",
        "\n",
        "model = keras.models.Sequential([\n",
        "    keras.layers.Flatten(input_shape=[28, 28]),\n",
        "    keras.layers.Dense(300, activation=\"selu\", kernel_initializer=\"lecun_normal\"),\n",
        "    keras.layers.Dense(100, activation=\"selu\", kernel_initializer=\"lecun_normal\"),\n",
        "    keras.layers.Dense(10, activation=\"softmax\")\n",
        "])\n",
        "optimizer = keras.optimizers.SGD(learning_rate=0.02, momentum=0.9)\n",
        "model.compile(loss=\"sparse_categorical_crossentropy\", optimizer=optimizer, metrics=[\"accuracy\"])\n",
        "n_epochs = 25\n",
        "history = model.fit(X_train_scaled, y_train, epochs=n_epochs,\n",
        "                    validation_data=(X_valid_scaled, y_valid),\n",
        "                    callbacks=[lr_scheduler])"
      ],
      "metadata": {
        "id": "Tt1ncQlloFMC",
        "outputId": "991049d6-e3e8-454e-c0ad-b6646bb3c085",
        "colab": {
          "base_uri": "https://localhost:8080/"
        }
      },
      "execution_count": 42,
      "outputs": [
        {
          "output_type": "stream",
          "name": "stdout",
          "text": [
            "Epoch 1/25\n",
            "1719/1719 [==============================] - 7s 3ms/step - loss: 0.5913 - accuracy: 0.8065 - val_loss: 0.4983 - val_accuracy: 0.8440 - lr: 0.0200\n",
            "Epoch 2/25\n",
            "1719/1719 [==============================] - 5s 3ms/step - loss: 0.4911 - accuracy: 0.8417 - val_loss: 0.5913 - val_accuracy: 0.8328 - lr: 0.0200\n",
            "Epoch 3/25\n",
            "1719/1719 [==============================] - 6s 3ms/step - loss: 0.5298 - accuracy: 0.8392 - val_loss: 0.5139 - val_accuracy: 0.8486 - lr: 0.0200\n",
            "Epoch 4/25\n",
            "1719/1719 [==============================] - 5s 3ms/step - loss: 0.5256 - accuracy: 0.8458 - val_loss: 0.4844 - val_accuracy: 0.8560 - lr: 0.0200\n",
            "Epoch 5/25\n",
            "1719/1719 [==============================] - 6s 3ms/step - loss: 0.5409 - accuracy: 0.8455 - val_loss: 0.4717 - val_accuracy: 0.8564 - lr: 0.0200\n",
            "Epoch 6/25\n",
            "1719/1719 [==============================] - 5s 3ms/step - loss: 0.4981 - accuracy: 0.8538 - val_loss: 0.6352 - val_accuracy: 0.8584 - lr: 0.0200\n",
            "Epoch 7/25\n",
            "1719/1719 [==============================] - 7s 4ms/step - loss: 0.5297 - accuracy: 0.8524 - val_loss: 0.5962 - val_accuracy: 0.8402 - lr: 0.0200\n",
            "Epoch 8/25\n",
            "1719/1719 [==============================] - 6s 3ms/step - loss: 0.5154 - accuracy: 0.8569 - val_loss: 0.7095 - val_accuracy: 0.8248 - lr: 0.0200\n",
            "Epoch 9/25\n",
            "1719/1719 [==============================] - 6s 3ms/step - loss: 0.5506 - accuracy: 0.8525 - val_loss: 0.6524 - val_accuracy: 0.8476 - lr: 0.0200\n",
            "Epoch 10/25\n",
            "1719/1719 [==============================] - 5s 3ms/step - loss: 0.5458 - accuracy: 0.8542 - val_loss: 0.6798 - val_accuracy: 0.8510 - lr: 0.0200\n",
            "Epoch 11/25\n",
            "1719/1719 [==============================] - 5s 3ms/step - loss: 0.3017 - accuracy: 0.8983 - val_loss: 0.4227 - val_accuracy: 0.8838 - lr: 0.0100\n",
            "Epoch 12/25\n",
            "1719/1719 [==============================] - 6s 3ms/step - loss: 0.2538 - accuracy: 0.9087 - val_loss: 0.4780 - val_accuracy: 0.8712 - lr: 0.0100\n",
            "Epoch 13/25\n",
            "1719/1719 [==============================] - 6s 4ms/step - loss: 0.2301 - accuracy: 0.9174 - val_loss: 0.4319 - val_accuracy: 0.8816 - lr: 0.0100\n",
            "Epoch 14/25\n",
            "1719/1719 [==============================] - 8s 5ms/step - loss: 0.2141 - accuracy: 0.9204 - val_loss: 0.4513 - val_accuracy: 0.8814 - lr: 0.0100\n",
            "Epoch 15/25\n",
            "1719/1719 [==============================] - 7s 4ms/step - loss: 0.2009 - accuracy: 0.9259 - val_loss: 0.4597 - val_accuracy: 0.8828 - lr: 0.0100\n",
            "Epoch 16/25\n",
            "1719/1719 [==============================] - 5s 3ms/step - loss: 0.1906 - accuracy: 0.9301 - val_loss: 0.4705 - val_accuracy: 0.8888 - lr: 0.0100\n",
            "Epoch 17/25\n",
            "1719/1719 [==============================] - 5s 3ms/step - loss: 0.1362 - accuracy: 0.9469 - val_loss: 0.4535 - val_accuracy: 0.8834 - lr: 0.0050\n",
            "Epoch 18/25\n",
            "1719/1719 [==============================] - 6s 3ms/step - loss: 0.1225 - accuracy: 0.9516 - val_loss: 0.4792 - val_accuracy: 0.8828 - lr: 0.0050\n",
            "Epoch 19/25\n",
            "1719/1719 [==============================] - 7s 4ms/step - loss: 0.1167 - accuracy: 0.9543 - val_loss: 0.4662 - val_accuracy: 0.8914 - lr: 0.0050\n",
            "Epoch 20/25\n",
            "1719/1719 [==============================] - 8s 4ms/step - loss: 0.1078 - accuracy: 0.9580 - val_loss: 0.4972 - val_accuracy: 0.8938 - lr: 0.0050\n",
            "Epoch 21/25\n",
            "1719/1719 [==============================] - 6s 4ms/step - loss: 0.1017 - accuracy: 0.9610 - val_loss: 0.5324 - val_accuracy: 0.8894 - lr: 0.0050\n",
            "Epoch 22/25\n",
            "1719/1719 [==============================] - 5s 3ms/step - loss: 0.0833 - accuracy: 0.9683 - val_loss: 0.5311 - val_accuracy: 0.8938 - lr: 0.0025\n",
            "Epoch 23/25\n",
            "1719/1719 [==============================] - 5s 3ms/step - loss: 0.0776 - accuracy: 0.9702 - val_loss: 0.5198 - val_accuracy: 0.8930 - lr: 0.0025\n",
            "Epoch 24/25\n",
            "1719/1719 [==============================] - 7s 4ms/step - loss: 0.0742 - accuracy: 0.9714 - val_loss: 0.5341 - val_accuracy: 0.8944 - lr: 0.0025\n",
            "Epoch 25/25\n",
            "1719/1719 [==============================] - 5s 3ms/step - loss: 0.0714 - accuracy: 0.9735 - val_loss: 0.5552 - val_accuracy: 0.8930 - lr: 0.0025\n"
          ]
        }
      ]
    },
    {
      "cell_type": "code",
      "source": [
        "plt.plot(history.epoch, history.history[\"lr\"], \"bo-\")\n",
        "plt.xlabel(\"Epoch\")\n",
        "plt.ylabel(\"Learning Rate\", color='b')\n",
        "plt.tick_params('y', colors='b')\n",
        "plt.gca().set_xlim(0, n_epochs - 1)\n",
        "plt.grid(True)\n",
        "\n",
        "ax2 = plt.gca().twinx()\n",
        "ax2.plot(history.epoch, history.history[\"val_loss\"], \"r^-\")\n",
        "ax2.set_ylabel('Validation Loss', color='r')\n",
        "ax2.tick_params('y', colors='r')\n",
        "\n",
        "plt.title(\"Reduce LR on Plateau\", fontsize=14)\n",
        "plt.show()"
      ],
      "metadata": {
        "id": "4_wqukoQoPrT",
        "outputId": "93f811db-db59-4fee-fc03-8ea9d5b68100",
        "colab": {
          "base_uri": "https://localhost:8080/",
          "height": 482
        }
      },
      "execution_count": 43,
      "outputs": [
        {
          "output_type": "display_data",
          "data": {
            "text/plain": [
              "<Figure size 640x480 with 2 Axes>"
            ],
            "image/png": "[encoded data removed]"
          },
          "metadata": {}
        }
      ]
    },
    {
      "cell_type": "markdown",
      "source": [
        "### tf.keras.Schedulers"
      ],
      "metadata": {
        "id": "-h2u_UXZoY2v"
      }
    },
    {
      "cell_type": "code",
      "source": [
        "model = keras.models.Sequential([\n",
        "    keras.layers.Flatten(input_shape=[28, 28]),\n",
        "    keras.layers.Dense(300, activation=\"selu\", kernel_initializer=\"lecun_normal\"),\n",
        "    keras.layers.Dense(100, activation=\"selu\", kernel_initializer=\"lecun_normal\"),\n",
        "    keras.layers.Dense(10, activation=\"softmax\")\n",
        "])\n",
        "s = 20 * len(X_train) // 32 # number of steps in 20 epochs (batch size = 32)\n",
        "learning_rate = keras.optimizers.schedules.ExponentialDecay(0.01, s, 0.1)\n",
        "optimizer = keras.optimizers.SGD(learning_rate)\n",
        "model.compile(loss=\"sparse_categorical_crossentropy\", optimizer=optimizer, metrics=[\"accuracy\"])\n",
        "n_epochs = 25\n",
        "history = model.fit(X_train_scaled, y_train, epochs=n_epochs,\n",
        "                    validation_data=(X_valid_scaled, y_valid))"
      ],
      "metadata": {
        "id": "HSN5HSqZobHS",
        "outputId": "f098399b-a29f-48d0-ba76-572a92f1256c",
        "colab": {
          "base_uri": "https://localhost:8080/"
        }
      },
      "execution_count": 44,
      "outputs": [
        {
          "output_type": "stream",
          "name": "stdout",
          "text": [
            "Epoch 1/25\n",
            "1719/1719 [==============================] - 6s 3ms/step - loss: 0.4886 - accuracy: 0.8281 - val_loss: 0.4015 - val_accuracy: 0.8606\n",
            "Epoch 2/25\n",
            "1719/1719 [==============================] - 6s 4ms/step - loss: 0.3786 - accuracy: 0.8671 - val_loss: 0.3710 - val_accuracy: 0.8706\n",
            "Epoch 3/25\n",
            "1719/1719 [==============================] - 7s 4ms/step - loss: 0.3443 - accuracy: 0.8773 - val_loss: 0.3752 - val_accuracy: 0.8652\n",
            "Epoch 4/25\n",
            "1719/1719 [==============================] - 5s 3ms/step - loss: 0.3219 - accuracy: 0.8852 - val_loss: 0.3497 - val_accuracy: 0.8764\n",
            "Epoch 5/25\n",
            "1719/1719 [==============================] - 6s 3ms/step - loss: 0.3061 - accuracy: 0.8904 - val_loss: 0.3420 - val_accuracy: 0.8772\n",
            "Epoch 6/25\n",
            "1719/1719 [==============================] - 6s 4ms/step - loss: 0.2914 - accuracy: 0.8962 - val_loss: 0.3424 - val_accuracy: 0.8788\n",
            "Epoch 7/25\n",
            "1719/1719 [==============================] - 7s 4ms/step - loss: 0.2811 - accuracy: 0.8998 - val_loss: 0.3367 - val_accuracy: 0.8816\n",
            "Epoch 8/25\n",
            "1719/1719 [==============================] - 6s 4ms/step - loss: 0.2718 - accuracy: 0.9032 - val_loss: 0.3403 - val_accuracy: 0.8774\n",
            "Epoch 9/25\n",
            "1719/1719 [==============================] - 5s 3ms/step - loss: 0.2636 - accuracy: 0.9063 - val_loss: 0.3302 - val_accuracy: 0.8824\n",
            "Epoch 10/25\n",
            "1719/1719 [==============================] - 8s 4ms/step - loss: 0.2567 - accuracy: 0.9076 - val_loss: 0.3283 - val_accuracy: 0.8818\n",
            "Epoch 11/25\n",
            "1719/1719 [==============================] - 6s 3ms/step - loss: 0.2510 - accuracy: 0.9108 - val_loss: 0.3280 - val_accuracy: 0.8866\n",
            "Epoch 12/25\n",
            "1719/1719 [==============================] - 5s 3ms/step - loss: 0.2457 - accuracy: 0.9136 - val_loss: 0.3338 - val_accuracy: 0.8808\n",
            "Epoch 13/25\n",
            "1719/1719 [==============================] - 5s 3ms/step - loss: 0.2410 - accuracy: 0.9145 - val_loss: 0.3262 - val_accuracy: 0.8842\n",
            "Epoch 14/25\n",
            "1719/1719 [==============================] - 6s 3ms/step - loss: 0.2376 - accuracy: 0.9159 - val_loss: 0.3290 - val_accuracy: 0.8868\n",
            "Epoch 15/25\n",
            "1719/1719 [==============================] - 5s 3ms/step - loss: 0.2335 - accuracy: 0.9179 - val_loss: 0.3250 - val_accuracy: 0.8866\n",
            "Epoch 16/25\n",
            "1719/1719 [==============================] - 6s 3ms/step - loss: 0.2304 - accuracy: 0.9192 - val_loss: 0.3237 - val_accuracy: 0.8878\n",
            "Epoch 17/25\n",
            "1719/1719 [==============================] - 5s 3ms/step - loss: 0.2277 - accuracy: 0.9204 - val_loss: 0.3249 - val_accuracy: 0.8896\n",
            "Epoch 18/25\n",
            "1719/1719 [==============================] - 6s 3ms/step - loss: 0.2250 - accuracy: 0.9221 - val_loss: 0.3218 - val_accuracy: 0.8896\n",
            "Epoch 19/25\n",
            "1719/1719 [==============================] - 5s 3ms/step - loss: 0.2230 - accuracy: 0.9219 - val_loss: 0.3250 - val_accuracy: 0.8880\n",
            "Epoch 20/25\n",
            "1719/1719 [==============================] - 6s 4ms/step - loss: 0.2210 - accuracy: 0.9231 - val_loss: 0.3218 - val_accuracy: 0.8892\n",
            "Epoch 21/25\n",
            "1719/1719 [==============================] - 5s 3ms/step - loss: 0.2189 - accuracy: 0.9241 - val_loss: 0.3236 - val_accuracy: 0.8880\n",
            "Epoch 22/25\n",
            "1719/1719 [==============================] - 6s 3ms/step - loss: 0.2177 - accuracy: 0.9249 - val_loss: 0.3219 - val_accuracy: 0.8892\n",
            "Epoch 23/25\n",
            "1719/1719 [==============================] - 6s 3ms/step - loss: 0.2162 - accuracy: 0.9251 - val_loss: 0.3224 - val_accuracy: 0.8888\n",
            "Epoch 24/25\n",
            "1719/1719 [==============================] - 6s 3ms/step - loss: 0.2149 - accuracy: 0.9260 - val_loss: 0.3220 - val_accuracy: 0.8884\n",
            "Epoch 25/25\n",
            "1719/1719 [==============================] - 6s 4ms/step - loss: 0.2141 - accuracy: 0.9257 - val_loss: 0.3223 - val_accuracy: 0.8906\n"
          ]
        }
      ]
    },
    {
      "cell_type": "markdown",
      "source": [
        "### ICycle Scheduling"
      ],
      "metadata": {
        "id": "2bRpUHNtohV6"
      }
    },
    {
      "cell_type": "code",
      "source": [
        "def build_model(seed=42):\n",
        "    tf.random.set_seed(seed)\n",
        "    return tf.keras.Sequential([\n",
        "        tf.keras.layers.Flatten(input_shape=[28, 28]),\n",
        "        tf.keras.layers.Dense(100, activation=\"relu\",\n",
        "                              kernel_initializer=\"he_normal\"),\n",
        "        tf.keras.layers.Dense(100, activation=\"relu\",\n",
        "                              kernel_initializer=\"he_normal\"),\n",
        "        tf.keras.layers.Dense(100, activation=\"relu\",\n",
        "                              kernel_initializer=\"he_normal\"),\n",
        "        tf.keras.layers.Dense(10, activation=\"softmax\")\n",
        "    ])\n",
        "\n",
        "def build_and_train_model(optimizer):\n",
        "    model = build_model()\n",
        "    model.compile(loss=\"sparse_categorical_crossentropy\", optimizer=optimizer,\n",
        "                  metrics=[\"accuracy\"])\n",
        "    return model.fit(X_train, y_train, epochs=10,\n",
        "                     validation_data=(X_valid, y_valid))"
      ],
      "metadata": {
        "id": "jhgbf673sBCO"
      },
      "execution_count": 59,
      "outputs": []
    },
    {
      "cell_type": "code",
      "source": [
        "K = tf.keras.backend\n",
        "\n",
        "class ExponentialLearningRate(tf.keras.callbacks.Callback):\n",
        "    def __init__(self, factor):\n",
        "        self.factor = factor\n",
        "        self.rates = []\n",
        "        self.losses = []\n",
        "\n",
        "    def on_epoch_begin(self, epoch, logs=None):\n",
        "        self.sum_of_epoch_losses = 0\n",
        "\n",
        "    def on_batch_end(self, batch, logs=None):\n",
        "        mean_epoch_loss = logs[\"loss\"]  # the epoch's mean loss so far\n",
        "        new_sum_of_epoch_losses = mean_epoch_loss * (batch + 1)\n",
        "        batch_loss = new_sum_of_epoch_losses - self.sum_of_epoch_losses\n",
        "        self.sum_of_epoch_losses = new_sum_of_epoch_losses\n",
        "        self.rates.append(K.get_value(self.model.optimizer.learning_rate))\n",
        "        self.losses.append(batch_loss)\n",
        "        K.set_value(self.model.optimizer.learning_rate,\n",
        "                    self.model.optimizer.learning_rate * self.factor)"
      ],
      "metadata": {
        "id": "6J1EHb--o0Kx"
      },
      "execution_count": 55,
      "outputs": []
    },
    {
      "cell_type": "code",
      "source": [
        "def find_learning_rate(model, X, y, epochs=1, batch_size=32, min_rate=1e-4,\n",
        "                       max_rate=1):\n",
        "    init_weights = model.get_weights()\n",
        "    iterations = math.ceil(len(X) / batch_size) * epochs\n",
        "    factor = (max_rate / min_rate) ** (1 / iterations)\n",
        "    init_lr = K.get_value(model.optimizer.learning_rate)\n",
        "    K.set_value(model.optimizer.learning_rate, min_rate)\n",
        "    exp_lr = ExponentialLearningRate(factor)\n",
        "    history = model.fit(X, y, epochs=epochs, batch_size=batch_size,\n",
        "                        callbacks=[exp_lr])\n",
        "    K.set_value(model.optimizer.learning_rate, init_lr)\n",
        "    model.set_weights(init_weights)\n",
        "    return exp_lr.rates, exp_lr.losses"
      ],
      "metadata": {
        "id": "riZXC81go6BZ"
      },
      "execution_count": 56,
      "outputs": []
    },
    {
      "cell_type": "code",
      "source": [
        "def plot_lr_vs_loss(rates, losses):\n",
        "    plt.plot(rates, losses, \"b\")\n",
        "    plt.gca().set_xscale('log')\n",
        "    max_loss = losses[0] + min(losses)\n",
        "    plt.hlines(min(losses), min(rates), max(rates), color=\"k\")\n",
        "    plt.axis([min(rates), max(rates), 0, max_loss])\n",
        "    plt.xlabel(\"Learning rate\")\n",
        "    plt.ylabel(\"Loss\")\n",
        "    plt.grid()"
      ],
      "metadata": {
        "id": "KCDvwSHio8IQ"
      },
      "execution_count": 57,
      "outputs": []
    },
    {
      "cell_type": "code",
      "source": [
        "model = build_model()\n",
        "model.compile(loss=\"sparse_categorical_crossentropy\",\n",
        "              optimizer=tf.keras.optimizers.SGD(learning_rate=0.001),\n",
        "              metrics=[\"accuracy\"])"
      ],
      "metadata": {
        "id": "K5Dfsgioo-BR"
      },
      "execution_count": 60,
      "outputs": []
    },
    {
      "cell_type": "code",
      "source": [
        "batch_size = 128\n",
        "rates, losses = find_learning_rate(model, X_train, y_train, epochs=1,\n",
        "                                   batch_size=batch_size)\n",
        "plot_lr_vs_loss(rates, losses)"
      ],
      "metadata": {
        "id": "lcyuo40KpAQU",
        "outputId": "21250e54-206f-4e11-8850-ded9706ba559",
        "colab": {
          "base_uri": "https://localhost:8080/",
          "height": 478
        }
      },
      "execution_count": 62,
      "outputs": [
        {
          "output_type": "stream",
          "name": "stdout",
          "text": [
            "430/430 [==============================] - 2s 5ms/step - loss: 1.9979 - accuracy: 0.3340\n"
          ]
        },
        {
          "output_type": "display_data",
          "data": {
            "text/plain": [
              "<Figure size 640x480 with 1 Axes>"
            ],
            "image/png": "[encoded data removed]"
          },
          "metadata": {}
        }
      ]
    },
    {
      "cell_type": "code",
      "source": [
        "class OneCycleScheduler(tf.keras.callbacks.Callback):\n",
        "    def __init__(self, iterations, max_lr=1e-3, start_lr=None,\n",
        "                 last_iterations=None, last_lr=None):\n",
        "        self.iterations = iterations\n",
        "        self.max_lr = max_lr\n",
        "        self.start_lr = start_lr or max_lr / 10\n",
        "        self.last_iterations = last_iterations or iterations // 10 + 1\n",
        "        self.half_iteration = (iterations - self.last_iterations) // 2\n",
        "        self.last_lr = last_lr or self.start_lr / 1000\n",
        "        self.iteration = 0\n",
        "\n",
        "    def _interpolate(self, iter1, iter2, lr1, lr2):\n",
        "        return (lr2 - lr1) * (self.iteration - iter1) / (iter2 - iter1) + lr1\n",
        "\n",
        "    def on_batch_begin(self, batch, logs):\n",
        "        if self.iteration < self.half_iteration:\n",
        "            lr = self._interpolate(0, self.half_iteration, self.start_lr,\n",
        "                                   self.max_lr)\n",
        "        elif self.iteration < 2 * self.half_iteration:\n",
        "            lr = self._interpolate(self.half_iteration, 2 * self.half_iteration,\n",
        "                                   self.max_lr, self.start_lr)\n",
        "        else:\n",
        "            lr = self._interpolate(2 * self.half_iteration, self.iterations,\n",
        "                                   self.start_lr, self.last_lr)\n",
        "        self.iteration += 1\n",
        "        K.set_value(self.model.optimizer.learning_rate, lr)"
      ],
      "metadata": {
        "id": "_KGTOh-KsOSr"
      },
      "execution_count": 63,
      "outputs": []
    },
    {
      "cell_type": "code",
      "source": [
        "model = build_model()\n",
        "model.compile(loss=\"sparse_categorical_crossentropy\",\n",
        "              optimizer=tf.keras.optimizers.SGD(),\n",
        "              metrics=[\"accuracy\"])\n",
        "n_epochs = 25\n",
        "onecycle = OneCycleScheduler(math.ceil(len(X_train) / batch_size) * n_epochs,\n",
        "                             max_lr=0.1)\n",
        "history = model.fit(X_train, y_train, epochs=n_epochs, batch_size=batch_size,\n",
        "                    validation_data=(X_valid, y_valid),\n",
        "                    callbacks=[onecycle])"
      ],
      "metadata": {
        "id": "DUZXGNwFsT1P",
        "outputId": "c55f758c-cee6-4eab-9953-3004c9aa808c",
        "colab": {
          "base_uri": "https://localhost:8080/"
        }
      },
      "execution_count": 64,
      "outputs": [
        {
          "output_type": "stream",
          "name": "stdout",
          "text": [
            "Epoch 1/25\n",
            "430/430 [==============================] - 3s 5ms/step - loss: 0.9702 - accuracy: 0.6934 - val_loss: 0.6127 - val_accuracy: 0.7962\n",
            "Epoch 2/25\n",
            "430/430 [==============================] - 2s 4ms/step - loss: 0.5768 - accuracy: 0.7992 - val_loss: 0.4870 - val_accuracy: 0.8364\n",
            "Epoch 3/25\n",
            "430/430 [==============================] - 2s 4ms/step - loss: 0.5036 - accuracy: 0.8221 - val_loss: 0.4827 - val_accuracy: 0.8236\n",
            "Epoch 4/25\n",
            "430/430 [==============================] - 2s 4ms/step - loss: 0.4582 - accuracy: 0.8359 - val_loss: 0.4295 - val_accuracy: 0.8440\n",
            "Epoch 5/25\n",
            "430/430 [==============================] - 2s 4ms/step - loss: 0.4320 - accuracy: 0.8447 - val_loss: 0.4334 - val_accuracy: 0.8420\n",
            "Epoch 6/25\n",
            "430/430 [==============================] - 2s 4ms/step - loss: 0.4036 - accuracy: 0.8538 - val_loss: 0.3837 - val_accuracy: 0.8652\n",
            "Epoch 7/25\n",
            "430/430 [==============================] - 2s 4ms/step - loss: 0.3859 - accuracy: 0.8601 - val_loss: 0.3777 - val_accuracy: 0.8650\n",
            "Epoch 8/25\n",
            "430/430 [==============================] - 2s 5ms/step - loss: 0.3689 - accuracy: 0.8653 - val_loss: 0.4020 - val_accuracy: 0.8514\n",
            "Epoch 9/25\n",
            "430/430 [==============================] - 2s 4ms/step - loss: 0.3577 - accuracy: 0.8671 - val_loss: 0.3866 - val_accuracy: 0.8570\n",
            "Epoch 10/25\n",
            "430/430 [==============================] - 2s 4ms/step - loss: 0.3457 - accuracy: 0.8729 - val_loss: 0.3422 - val_accuracy: 0.8762\n",
            "Epoch 11/25\n",
            "430/430 [==============================] - 2s 4ms/step - loss: 0.3318 - accuracy: 0.8770 - val_loss: 0.3578 - val_accuracy: 0.8720\n",
            "Epoch 12/25\n",
            "430/430 [==============================] - 2s 4ms/step - loss: 0.3222 - accuracy: 0.8795 - val_loss: 0.3383 - val_accuracy: 0.8786\n",
            "Epoch 13/25\n",
            "430/430 [==============================] - 2s 4ms/step - loss: 0.3017 - accuracy: 0.8875 - val_loss: 0.3197 - val_accuracy: 0.8872\n",
            "Epoch 14/25\n",
            "430/430 [==============================] - 2s 4ms/step - loss: 0.2884 - accuracy: 0.8927 - val_loss: 0.3231 - val_accuracy: 0.8854\n",
            "Epoch 15/25\n",
            "430/430 [==============================] - 2s 5ms/step - loss: 0.2746 - accuracy: 0.8985 - val_loss: 0.3144 - val_accuracy: 0.8842\n",
            "Epoch 16/25\n",
            "430/430 [==============================] - 2s 4ms/step - loss: 0.2635 - accuracy: 0.9027 - val_loss: 0.2999 - val_accuracy: 0.8920\n",
            "Epoch 17/25\n",
            "430/430 [==============================] - 2s 4ms/step - loss: 0.2534 - accuracy: 0.9052 - val_loss: 0.3220 - val_accuracy: 0.8830\n",
            "Epoch 18/25\n",
            "430/430 [==============================] - 2s 4ms/step - loss: 0.2445 - accuracy: 0.9090 - val_loss: 0.2965 - val_accuracy: 0.8914\n",
            "Epoch 19/25\n",
            "430/430 [==============================] - 2s 4ms/step - loss: 0.2354 - accuracy: 0.9131 - val_loss: 0.2903 - val_accuracy: 0.8928\n",
            "Epoch 20/25\n",
            "430/430 [==============================] - 2s 4ms/step - loss: 0.2276 - accuracy: 0.9174 - val_loss: 0.2919 - val_accuracy: 0.8890\n",
            "Epoch 21/25\n",
            "430/430 [==============================] - 2s 4ms/step - loss: 0.2202 - accuracy: 0.9189 - val_loss: 0.2868 - val_accuracy: 0.8952\n",
            "Epoch 22/25\n",
            "430/430 [==============================] - 2s 5ms/step - loss: 0.2148 - accuracy: 0.9211 - val_loss: 0.2823 - val_accuracy: 0.8982\n",
            "Epoch 23/25\n",
            "430/430 [==============================] - 2s 4ms/step - loss: 0.2097 - accuracy: 0.9235 - val_loss: 0.2818 - val_accuracy: 0.8968\n",
            "Epoch 24/25\n",
            "430/430 [==============================] - 2s 4ms/step - loss: 0.2063 - accuracy: 0.9241 - val_loss: 0.2832 - val_accuracy: 0.8984\n",
            "Epoch 25/25\n",
            "430/430 [==============================] - 2s 4ms/step - loss: 0.2043 - accuracy: 0.9244 - val_loss: 0.2807 - val_accuracy: 0.8980\n"
          ]
        }
      ]
    },
    {
      "cell_type": "markdown",
      "source": [
        "# Regularization"
      ],
      "metadata": {
        "id": "EeK0DnbustnP"
      }
    }
  ]
}