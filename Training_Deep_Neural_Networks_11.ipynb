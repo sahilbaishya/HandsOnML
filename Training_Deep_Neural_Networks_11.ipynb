{
  "nbformat": 4,
  "nbformat_minor": 0,
  "metadata": {
    "colab": {
      "provenance": [],
      "collapsed_sections": [
        "X6TCoEoSdHWj",
        "nxdldQjMe4Fj",
        "2O0Bmkyvh3oz"
      ],
      "authorship_tag": "ABX9TyOh7nZPiGif5i9FXzs7fuds",
      "include_colab_link": true
    },
    "kernelspec": {
      "name": "python3",
      "display_name": "Python 3"
    },
    "language_info": {
      "name": "python"
    }
  },
  "cells": [
    {
      "cell_type": "markdown",
      "metadata": {
        "id": "view-in-github",
        "colab_type": "text"
      },
      "source": [
        "<a href=\"https://colab.research.google.com/github/sahilbaishya/HandsOnML/blob/main/Training_Deep_Neural_Networks_11.ipynb\" target=\"_parent\"><img src=\"https://colab.research.google.com/assets/colab-badge.svg\" alt=\"Open In Colab\"/></a>"
      ]
    },
    {
      "cell_type": "code",
      "execution_count": 31,
      "metadata": {
        "colab": {
          "base_uri": "https://localhost:8080/"
        },
        "id": "ZDRkFqFuVLGN",
        "outputId": "d44e150c-c98c-4e11-9877-dc04abb0ea65"
      },
      "outputs": [
        {
          "output_type": "stream",
          "name": "stdout",
          "text": [
            "Colab only includes TensorFlow 2.x; %tensorflow_version has no effect.\n",
            "The tensorboard extension is already loaded. To reload it, use:\n",
            "  %reload_ext tensorboard\n"
          ]
        }
      ],
      "source": [
        "# Python ≥3.5 is required\n",
        "import sys\n",
        "assert sys.version_info >= (3, 5)\n",
        "\n",
        "# Scikit-Learn ≥0.20 is required\n",
        "import sklearn\n",
        "assert sklearn.__version__ >= \"0.20\"\n",
        "\n",
        "try:\n",
        "    # %tensorflow_version only exists in Colab.\n",
        "    %tensorflow_version 2.x\n",
        "except Exception:\n",
        "    pass\n",
        "\n",
        "# TensorFlow ≥2.0 is required\n",
        "import tensorflow as tf\n",
        "from tensorflow import keras\n",
        "assert tf.__version__ >= \"2.0\"\n",
        "\n",
        "%load_ext tensorboard\n",
        "\n",
        "# Common imports\n",
        "import numpy as np\n",
        "import os\n",
        "\n",
        "# to make this notebook's output stable across runs\n",
        "np.random.seed(42)\n",
        "\n",
        "# To plot pretty figures\n",
        "%matplotlib inline\n",
        "import matplotlib as mpl\n",
        "import matplotlib.pyplot as plt\n",
        "mpl.rc('axes', labelsize=14)\n",
        "mpl.rc('xtick', labelsize=12)\n",
        "mpl.rc('ytick', labelsize=12)\n",
        "\n",
        "# Where to save the figures\n",
        "PROJECT_ROOT_DIR = \".\"\n",
        "CHAPTER_ID = \"deep\"\n",
        "IMAGES_PATH = os.path.join(PROJECT_ROOT_DIR, \"images\", CHAPTER_ID)\n",
        "os.makedirs(IMAGES_PATH, exist_ok=True)\n",
        "\n",
        "def save_fig(fig_id, tight_layout=True, fig_extension=\"png\", resolution=300):\n",
        "    path = os.path.join(IMAGES_PATH, fig_id + \".\" + fig_extension)\n",
        "    print(\"Saving figure\", fig_id)\n",
        "    if tight_layout:\n",
        "        plt.tight_layout()\n",
        "    plt.savefig(path, format=fig_extension, dpi=resolution)"
      ]
    },
    {
      "cell_type": "markdown",
      "source": [
        "# Xavier Garlot and He Initialization"
      ],
      "metadata": {
        "id": "cxvBw4ImWDtT"
      }
    },
    {
      "cell_type": "code",
      "source": [
        "[name for name in dir(keras.initializers) if not name.startswith(\"_\")]"
      ],
      "metadata": {
        "colab": {
          "base_uri": "https://localhost:8080/"
        },
        "id": "8-5oouR1Vf9m",
        "outputId": "cfed43b3-7882-4702-e732-53e48a089f82"
      },
      "execution_count": 32,
      "outputs": [
        {
          "output_type": "execute_result",
          "data": {
            "text/plain": [
              "['Constant',\n",
              " 'GlorotNormal',\n",
              " 'GlorotUniform',\n",
              " 'HeNormal',\n",
              " 'HeUniform',\n",
              " 'Identity',\n",
              " 'Initializer',\n",
              " 'LecunNormal',\n",
              " 'LecunUniform',\n",
              " 'Ones',\n",
              " 'Orthogonal',\n",
              " 'RandomNormal',\n",
              " 'RandomUniform',\n",
              " 'TruncatedNormal',\n",
              " 'VarianceScaling',\n",
              " 'Zeros',\n",
              " 'constant',\n",
              " 'deserialize',\n",
              " 'get',\n",
              " 'glorot_normal',\n",
              " 'glorot_uniform',\n",
              " 'he_normal',\n",
              " 'he_uniform',\n",
              " 'identity',\n",
              " 'lecun_normal',\n",
              " 'lecun_uniform',\n",
              " 'ones',\n",
              " 'orthogonal',\n",
              " 'random_normal',\n",
              " 'random_uniform',\n",
              " 'serialize',\n",
              " 'truncated_normal',\n",
              " 'variance_scaling',\n",
              " 'zeros']"
            ]
          },
          "metadata": {},
          "execution_count": 32
        }
      ]
    },
    {
      "cell_type": "markdown",
      "source": [
        "# Nonsaturating Activation Functions"
      ],
      "metadata": {
        "id": "5tYuFBQ3WMpn"
      }
    },
    {
      "cell_type": "code",
      "source": [
        "[m for m in dir(keras.activations) if not m.startswith(\"_\")]"
      ],
      "metadata": {
        "colab": {
          "base_uri": "https://localhost:8080/"
        },
        "id": "YzxxbK7oc61G",
        "outputId": "c8c65eaa-bd33-4bea-ac85-64c57747549d"
      },
      "execution_count": 33,
      "outputs": [
        {
          "output_type": "execute_result",
          "data": {
            "text/plain": [
              "['deserialize',\n",
              " 'elu',\n",
              " 'exponential',\n",
              " 'gelu',\n",
              " 'get',\n",
              " 'hard_sigmoid',\n",
              " 'linear',\n",
              " 'relu',\n",
              " 'selu',\n",
              " 'serialize',\n",
              " 'sigmoid',\n",
              " 'softmax',\n",
              " 'softplus',\n",
              " 'softsign',\n",
              " 'swish',\n",
              " 'tanh']"
            ]
          },
          "metadata": {},
          "execution_count": 33
        }
      ]
    },
    {
      "cell_type": "code",
      "source": [
        "[m for m in dir(keras.layers) if \"relu\" in m.lower()]"
      ],
      "metadata": {
        "colab": {
          "base_uri": "https://localhost:8080/"
        },
        "id": "YrqVgiJydCIc",
        "outputId": "719291e6-4a2f-4c04-926b-23ad396787d8"
      },
      "execution_count": 34,
      "outputs": [
        {
          "output_type": "execute_result",
          "data": {
            "text/plain": [
              "['LeakyReLU', 'PReLU', 'ReLU', 'ThresholdedReLU']"
            ]
          },
          "metadata": {},
          "execution_count": 34
        }
      ]
    },
    {
      "cell_type": "markdown",
      "source": [
        "## Neural Network on Fashion MNIST with Leaky Relu"
      ],
      "metadata": {
        "id": "X6TCoEoSdHWj"
      }
    },
    {
      "cell_type": "code",
      "source": [
        "(X_train_full, y_train_full), (X_test, y_test) = tf.keras.datasets.fashion_mnist.load_data()"
      ],
      "metadata": {
        "id": "E3u3srz2dDGA"
      },
      "execution_count": 35,
      "outputs": []
    },
    {
      "cell_type": "code",
      "source": [
        "X_train_full = X_train_full/255.0\n",
        "X_test = X_test/255.0"
      ],
      "metadata": {
        "id": "VgE_TYyadjDO"
      },
      "execution_count": 36,
      "outputs": []
    },
    {
      "cell_type": "code",
      "source": [
        "X_valid, X_train = X_train_full[:5000], X_train_full[5000:]\n",
        "y_valid, y_train = y_train_full[:5000], y_train_full[5000:]"
      ],
      "metadata": {
        "id": "XQ71ijdzd6p5"
      },
      "execution_count": 37,
      "outputs": []
    },
    {
      "cell_type": "code",
      "source": [
        "tf.random.set_seed(42)\n",
        "np.random.seed(42)\n",
        "\n",
        "model = keras.models.Sequential([\n",
        "    keras.layers.Flatten(input_shape=[28, 28]),\n",
        "    keras.layers.Dense(300, kernel_initializer=\"he_normal\"),\n",
        "    keras.layers.LeakyReLU(),\n",
        "    keras.layers.Dense(100, kernel_initializer=\"he_normal\"),\n",
        "    keras.layers.LeakyReLU(),\n",
        "    keras.layers.Dense(10, activation=\"softmax\")\n",
        "])"
      ],
      "metadata": {
        "id": "Pd6BLnjyeLdU"
      },
      "execution_count": 15,
      "outputs": []
    },
    {
      "cell_type": "code",
      "source": [
        "model.compile(loss=\"sparse_categorical_crossentropy\",\n",
        "              optimizer=keras.optimizers.SGD(learning_rate=1e-3),\n",
        "              metrics=[\"accuracy\"])"
      ],
      "metadata": {
        "id": "yvf4aNaVeQE1"
      },
      "execution_count": 16,
      "outputs": []
    },
    {
      "cell_type": "code",
      "source": [
        "history = model.fit(X_train, y_train, epochs=10,\n",
        "                    validation_data=(X_valid, y_valid))"
      ],
      "metadata": {
        "colab": {
          "base_uri": "https://localhost:8080/"
        },
        "id": "v9hZuR5meR50",
        "outputId": "86f5f019-9bdf-4579-dbc3-840142b0aa74"
      },
      "execution_count": 17,
      "outputs": [
        {
          "output_type": "stream",
          "name": "stdout",
          "text": [
            "Epoch 1/10\n",
            "1719/1719 [==============================] - 9s 5ms/step - loss: 1.2848 - accuracy: 0.6095 - val_loss: 0.8754 - val_accuracy: 0.7234\n",
            "Epoch 2/10\n",
            "1719/1719 [==============================] - 9s 5ms/step - loss: 0.7907 - accuracy: 0.7439 - val_loss: 0.7020 - val_accuracy: 0.7750\n",
            "Epoch 3/10\n",
            "1719/1719 [==============================] - 7s 4ms/step - loss: 0.6768 - accuracy: 0.7792 - val_loss: 0.6347 - val_accuracy: 0.7940\n",
            "Epoch 4/10\n",
            "1719/1719 [==============================] - 8s 5ms/step - loss: 0.6179 - accuracy: 0.7973 - val_loss: 0.5824 - val_accuracy: 0.8114\n",
            "Epoch 5/10\n",
            "1719/1719 [==============================] - 7s 4ms/step - loss: 0.5804 - accuracy: 0.8086 - val_loss: 0.5528 - val_accuracy: 0.8214\n",
            "Epoch 6/10\n",
            "1719/1719 [==============================] - 8s 4ms/step - loss: 0.5535 - accuracy: 0.8157 - val_loss: 0.5306 - val_accuracy: 0.8272\n",
            "Epoch 7/10\n",
            "1719/1719 [==============================] - 8s 5ms/step - loss: 0.5330 - accuracy: 0.8211 - val_loss: 0.5115 - val_accuracy: 0.8300\n",
            "Epoch 8/10\n",
            "1719/1719 [==============================] - 7s 4ms/step - loss: 0.5170 - accuracy: 0.8262 - val_loss: 0.5035 - val_accuracy: 0.8312\n",
            "Epoch 9/10\n",
            "1719/1719 [==============================] - 8s 4ms/step - loss: 0.5041 - accuracy: 0.8281 - val_loss: 0.4875 - val_accuracy: 0.8378\n",
            "Epoch 10/10\n",
            "1719/1719 [==============================] - 7s 4ms/step - loss: 0.4929 - accuracy: 0.8315 - val_loss: 0.4800 - val_accuracy: 0.8398\n"
          ]
        }
      ]
    },
    {
      "cell_type": "markdown",
      "source": [
        "## Using PReLU"
      ],
      "metadata": {
        "id": "nxdldQjMe4Fj"
      }
    },
    {
      "cell_type": "code",
      "source": [
        "tf.random.set_seed(42)\n",
        "np.random.seed(42)\n",
        "\n",
        "model = tf.keras.models.Sequential([\n",
        "    keras.layers.Flatten(input_shape = [28, 28]),\n",
        "    keras.layers.Dense(300, kernel_initializer = 'he_normal'),\n",
        "    keras.layers.PReLU(),\n",
        "    keras.layers.Dense(100, kernel_initializer = 'he_normal'),\n",
        "    keras.layers.PReLU(),\n",
        "    keras.layers.Dense(10, activation= 'softmax')\n",
        "\n",
        "])"
      ],
      "metadata": {
        "id": "UInIobORe_nE"
      },
      "execution_count": 19,
      "outputs": []
    },
    {
      "cell_type": "code",
      "source": [
        "model.compile(loss = 'sparse_categorical_crossentropy',\n",
        "              optimizer = keras.optimizers.SGD(learning_rate = 1e-3),\n",
        "              metrics = ['accuracy'])"
      ],
      "metadata": {
        "id": "iYB4BbffgFNb"
      },
      "execution_count": 20,
      "outputs": []
    },
    {
      "cell_type": "code",
      "source": [
        "history = model.fit(X_train, y_train, epochs = 10, validation_data = (X_valid, y_valid))"
      ],
      "metadata": {
        "colab": {
          "base_uri": "https://localhost:8080/"
        },
        "id": "d8cQxG08geYI",
        "outputId": "d284fddf-bf46-483f-c0b8-7f40f87b7762"
      },
      "execution_count": 22,
      "outputs": [
        {
          "output_type": "stream",
          "name": "stdout",
          "text": [
            "Epoch 1/10\n",
            "1719/1719 [==============================] - 10s 5ms/step - loss: 1.2585 - accuracy: 0.6247 - val_loss: 0.8584 - val_accuracy: 0.7274\n",
            "Epoch 2/10\n",
            "1719/1719 [==============================] - 8s 5ms/step - loss: 0.7770 - accuracy: 0.7521 - val_loss: 0.6922 - val_accuracy: 0.7788\n",
            "Epoch 3/10\n",
            "1719/1719 [==============================] - 10s 6ms/step - loss: 0.6674 - accuracy: 0.7817 - val_loss: 0.6281 - val_accuracy: 0.7940\n",
            "Epoch 4/10\n",
            "1719/1719 [==============================] - 9s 5ms/step - loss: 0.6101 - accuracy: 0.7987 - val_loss: 0.5755 - val_accuracy: 0.8140\n",
            "Epoch 5/10\n",
            "1719/1719 [==============================] - 9s 5ms/step - loss: 0.5732 - accuracy: 0.8094 - val_loss: 0.5443 - val_accuracy: 0.8232\n",
            "Epoch 6/10\n",
            "1719/1719 [==============================] - 8s 5ms/step - loss: 0.5461 - accuracy: 0.8158 - val_loss: 0.5226 - val_accuracy: 0.8272\n",
            "Epoch 7/10\n",
            "1719/1719 [==============================] - 9s 5ms/step - loss: 0.5255 - accuracy: 0.8221 - val_loss: 0.5035 - val_accuracy: 0.8366\n",
            "Epoch 8/10\n",
            "1719/1719 [==============================] - 9s 5ms/step - loss: 0.5092 - accuracy: 0.8273 - val_loss: 0.4963 - val_accuracy: 0.8362\n",
            "Epoch 9/10\n",
            "1719/1719 [==============================] - 8s 5ms/step - loss: 0.4961 - accuracy: 0.8304 - val_loss: 0.4792 - val_accuracy: 0.8398\n",
            "Epoch 10/10\n",
            "1719/1719 [==============================] - 9s 5ms/step - loss: 0.4845 - accuracy: 0.8339 - val_loss: 0.4708 - val_accuracy: 0.8432\n"
          ]
        }
      ]
    },
    {
      "cell_type": "markdown",
      "source": [
        "## Using SELU"
      ],
      "metadata": {
        "id": "2O0Bmkyvh3oz"
      }
    },
    {
      "cell_type": "code",
      "source": [
        "model = tf.keras.models.Sequential()\n",
        "model.add(tf.keras.layers.Flatten(input_shape=[28, 28]))\n",
        "model.add(tf.keras.layers.Dense(300, activation = 'selu', kernel_initializer = 'lecun_normal'))\n",
        "for i in range (99):\n",
        "  model.add(tf.keras.layers.Dense(100, activation = 'selu', kernel_initializer = 'lecun_normal'))\n",
        "model.add(tf.keras.layers.Dense(10, activation = 'softmax'))"
      ],
      "metadata": {
        "id": "zTsALt1mh5T9"
      },
      "execution_count": 23,
      "outputs": []
    },
    {
      "cell_type": "code",
      "source": [
        "model.compile(\n",
        "    optimizer = tf.keras.optimizers.SGD(learning_rate = 1e-3),\n",
        "    loss = 'sparse_categorical_crossentropy',\n",
        "    metrics = ['accuracy']\n",
        ")"
      ],
      "metadata": {
        "id": "tB-dNFrGinc8"
      },
      "execution_count": 24,
      "outputs": []
    },
    {
      "cell_type": "code",
      "source": [
        "pixel_means = X_train.mean(axis=0, keepdims=True)\n",
        "pixel_stds = X_train.std(axis=0, keepdims=True)\n",
        "X_train_scaled = (X_train - pixel_means) / pixel_stds\n",
        "X_valid_scaled = (X_valid - pixel_means) / pixel_stds\n",
        "X_test_scaled = (X_test - pixel_means) / pixel_stds"
      ],
      "metadata": {
        "id": "fWXYwlPpjFQi"
      },
      "execution_count": 25,
      "outputs": []
    },
    {
      "cell_type": "code",
      "source": [
        "history = model.fit(X_train_scaled, y_train, epochs = 10, validation_data = (X_valid_scaled, y_valid))"
      ],
      "metadata": {
        "colab": {
          "base_uri": "https://localhost:8080/"
        },
        "id": "zauucQAgi5zq",
        "outputId": "0734decc-b593-4b3d-bae7-08b31355f392"
      },
      "execution_count": 26,
      "outputs": [
        {
          "output_type": "stream",
          "name": "stdout",
          "text": [
            "Epoch 1/10\n",
            "1719/1719 [==============================] - 60s 30ms/step - loss: 1.0369 - accuracy: 0.6260 - val_loss: 0.7451 - val_accuracy: 0.7434\n",
            "Epoch 2/10\n",
            "1719/1719 [==============================] - 65s 38ms/step - loss: 0.6816 - accuracy: 0.7564 - val_loss: 0.5937 - val_accuracy: 0.7840\n",
            "Epoch 3/10\n",
            "1719/1719 [==============================] - 44s 25ms/step - loss: 0.5746 - accuracy: 0.7923 - val_loss: 0.6118 - val_accuracy: 0.7808\n",
            "Epoch 4/10\n",
            "1719/1719 [==============================] - 43s 25ms/step - loss: 0.5280 - accuracy: 0.8156 - val_loss: 0.4874 - val_accuracy: 0.8324\n",
            "Epoch 5/10\n",
            "1719/1719 [==============================] - 39s 23ms/step - loss: 0.5005 - accuracy: 0.8250 - val_loss: 0.4738 - val_accuracy: 0.8374\n",
            "Epoch 6/10\n",
            "1719/1719 [==============================] - 39s 23ms/step - loss: 0.5312 - accuracy: 0.8177 - val_loss: 0.5038 - val_accuracy: 0.8206\n",
            "Epoch 7/10\n",
            "1719/1719 [==============================] - 39s 23ms/step - loss: 0.4612 - accuracy: 0.8394 - val_loss: 0.4560 - val_accuracy: 0.8348\n",
            "Epoch 8/10\n",
            "1719/1719 [==============================] - 39s 23ms/step - loss: 0.4246 - accuracy: 0.8507 - val_loss: 0.4333 - val_accuracy: 0.8464\n",
            "Epoch 9/10\n",
            "1719/1719 [==============================] - 39s 23ms/step - loss: 0.4067 - accuracy: 0.8577 - val_loss: 0.4041 - val_accuracy: 0.8614\n",
            "Epoch 10/10\n",
            "1719/1719 [==============================] - 39s 23ms/step - loss: 0.3891 - accuracy: 0.8627 - val_loss: 0.4080 - val_accuracy: 0.8546\n"
          ]
        }
      ]
    },
    {
      "cell_type": "markdown",
      "source": [
        "## Using ReLU"
      ],
      "metadata": {
        "id": "15a6S05wjSlN"
      }
    },
    {
      "cell_type": "code",
      "source": [
        "model = tf.keras.models.Sequential()\n",
        "model.add(tf.keras.layers.Flatten(input_shape = [28, 28]))\n",
        "model.add(tf.keras.layers.Dense(300, activation = 'relu', kernel_initializer='he_normal'))\n",
        "for i in range (99):\n",
        "  model.add(tf.keras.layers.Dense(100, activation = 'relu', kernel_initializer = 'he_normal'))\n",
        "model.add(tf.keras.layers.Dense(10, activation = 'softmax'))"
      ],
      "metadata": {
        "id": "wN_cWIpHjSQF"
      },
      "execution_count": 39,
      "outputs": []
    },
    {
      "cell_type": "code",
      "source": [
        "model.compile(\n",
        "    optimizer = tf.keras.optimizers.SGD(learning_rate = 1e-3),\n",
        "    loss = 'sparse_categorical_crossentropy',\n",
        "    metrics = ['accuracy']\n",
        ")"
      ],
      "metadata": {
        "id": "TDdorAepj7D-"
      },
      "execution_count": 40,
      "outputs": []
    },
    {
      "cell_type": "code",
      "source": [
        "history = model.fit(X_train_scaled, y_train, epochs = 10, validation_data = (X_valid_scaled, y_valid))"
      ],
      "metadata": {
        "colab": {
          "base_uri": "https://localhost:8080/"
        },
        "id": "DnVwjFOgj-X3",
        "outputId": "a4075f49-b810-4ea5-9ad4-207bb6225f58"
      },
      "execution_count": 41,
      "outputs": [
        {
          "output_type": "stream",
          "name": "stdout",
          "text": [
            "Epoch 1/10\n",
            "1719/1719 [==============================] - 47s 23ms/step - loss: 1.9265 - accuracy: 0.2575 - val_loss: 1.5594 - val_accuracy: 0.4470\n",
            "Epoch 2/10\n",
            "1719/1719 [==============================] - 38s 22ms/step - loss: 1.4516 - accuracy: 0.4275 - val_loss: 0.9955 - val_accuracy: 0.6108\n",
            "Epoch 3/10\n",
            "1719/1719 [==============================] - 38s 22ms/step - loss: 0.9730 - accuracy: 0.6164 - val_loss: 0.9882 - val_accuracy: 0.5980\n",
            "Epoch 4/10\n",
            "1719/1719 [==============================] - 38s 22ms/step - loss: 0.9954 - accuracy: 0.6157 - val_loss: 0.8221 - val_accuracy: 0.7002\n",
            "Epoch 5/10\n",
            "1719/1719 [==============================] - 38s 22ms/step - loss: 0.7749 - accuracy: 0.7164 - val_loss: 0.7096 - val_accuracy: 0.7584\n",
            "Epoch 6/10\n",
            "1719/1719 [==============================] - 38s 22ms/step - loss: 0.7771 - accuracy: 0.7198 - val_loss: 0.6924 - val_accuracy: 0.7538\n",
            "Epoch 7/10\n",
            "1719/1719 [==============================] - 38s 22ms/step - loss: 0.6946 - accuracy: 0.7540 - val_loss: 0.6372 - val_accuracy: 0.7776\n",
            "Epoch 8/10\n",
            "1719/1719 [==============================] - 39s 23ms/step - loss: 0.6693 - accuracy: 0.7670 - val_loss: 0.6432 - val_accuracy: 0.7748\n",
            "Epoch 9/10\n",
            "1719/1719 [==============================] - 40s 23ms/step - loss: 0.7746 - accuracy: 0.7128 - val_loss: 0.6370 - val_accuracy: 0.7878\n",
            "Epoch 10/10\n",
            "1719/1719 [==============================] - 39s 23ms/step - loss: 0.6300 - accuracy: 0.7763 - val_loss: 0.7230 - val_accuracy: 0.7474\n"
          ]
        }
      ]
    },
    {
      "cell_type": "markdown",
      "source": [
        "# Batch Normalization"
      ],
      "metadata": {
        "id": "YeZCSQCu-UBn"
      }
    },
    {
      "cell_type": "code",
      "source": [
        "(X_train_full, y_train_full), (X_test, y_test) = tf.keras.datasets.fashion_mnist.load_data()"
      ],
      "metadata": {
        "id": "7yPXoCyj-a2T"
      },
      "execution_count": 42,
      "outputs": []
    },
    {
      "cell_type": "code",
      "source": [
        "X_train_full = X_train_full/255.0\n",
        "X_test = X_test/255.0"
      ],
      "metadata": {
        "id": "AIdgUgNw-tBK"
      },
      "execution_count": 43,
      "outputs": []
    },
    {
      "cell_type": "code",
      "source": [
        "X_valid, X_train = X_train_full[:5000], X_train_full[5000:]\n",
        "y_valid, y_train = y_train_full[:5000], y_train_full[5000:]"
      ],
      "metadata": {
        "id": "yiJ7YE3H-ul4"
      },
      "execution_count": 44,
      "outputs": []
    },
    {
      "cell_type": "code",
      "source": [
        "model = tf.keras.models.Sequential([\n",
        "    tf.keras.layers.Flatten(input_shape = [28, 28]),\n",
        "    tf.keras.layers.BatchNormalization(),\n",
        "    tf.keras.layers.Dense(300, activation = 'relu'),\n",
        "    tf.keras.layers.BatchNormalization(),\n",
        "    tf.keras.layers.Dense(100, activation = 'relu'),\n",
        "    tf.keras.layers.BatchNormalization(),\n",
        "    tf.keras.layers.Dense(10, activation = 'softmax')\n",
        "])"
      ],
      "metadata": {
        "id": "9rrAANBN-w5z"
      },
      "execution_count": 51,
      "outputs": []
    },
    {
      "cell_type": "code",
      "source": [
        "model.summary()"
      ],
      "metadata": {
        "colab": {
          "base_uri": "https://localhost:8080/"
        },
        "id": "ewtlI7n3_wF3",
        "outputId": "bf091ca6-8a8f-4cb2-a9ce-5c768f72a010"
      },
      "execution_count": 52,
      "outputs": [
        {
          "output_type": "stream",
          "name": "stdout",
          "text": [
            "Model: \"sequential_8\"\n",
            "_________________________________________________________________\n",
            " Layer (type)                Output Shape              Param #   \n",
            "=================================================================\n",
            " flatten_10 (Flatten)        (None, 784)               0         \n",
            "                                                                 \n",
            " batch_normalization_6 (Batc  (None, 784)              3136      \n",
            " hNormalization)                                                 \n",
            "                                                                 \n",
            " dense_422 (Dense)           (None, 300)               235500    \n",
            "                                                                 \n",
            " batch_normalization_7 (Batc  (None, 300)              1200      \n",
            " hNormalization)                                                 \n",
            "                                                                 \n",
            " dense_423 (Dense)           (None, 100)               30100     \n",
            "                                                                 \n",
            " batch_normalization_8 (Batc  (None, 100)              400       \n",
            " hNormalization)                                                 \n",
            "                                                                 \n",
            " dense_424 (Dense)           (None, 10)                1010      \n",
            "                                                                 \n",
            "=================================================================\n",
            "Total params: 271,346\n",
            "Trainable params: 268,978\n",
            "Non-trainable params: 2,368\n",
            "_________________________________________________________________\n"
          ]
        }
      ]
    },
    {
      "cell_type": "code",
      "source": [
        "bn1 = model.layers[1]\n",
        "[(var.name, var.trainable) for var in bn1.variables]"
      ],
      "metadata": {
        "colab": {
          "base_uri": "https://localhost:8080/"
        },
        "id": "ydhdCK35AWms",
        "outputId": "df3559b2-69f5-41a6-b984-cbdacdd67902"
      },
      "execution_count": 53,
      "outputs": [
        {
          "output_type": "execute_result",
          "data": {
            "text/plain": [
              "[('batch_normalization_6/gamma:0', True),\n",
              " ('batch_normalization_6/beta:0', True),\n",
              " ('batch_normalization_6/moving_mean:0', False),\n",
              " ('batch_normalization_6/moving_variance:0', False)]"
            ]
          },
          "metadata": {},
          "execution_count": 53
        }
      ]
    },
    {
      "cell_type": "code",
      "source": [
        "model.compile(\n",
        "    loss = 'sparse_categorical_crossentropy',\n",
        "    optimizer = tf.keras.optimizers.SGD(learning_rate = 1e-3),\n",
        "    metrics = ['accuracy']\n",
        ")"
      ],
      "metadata": {
        "id": "VshUcBDD_bVa"
      },
      "execution_count": 55,
      "outputs": []
    },
    {
      "cell_type": "code",
      "source": [
        "history = model.fit(X_train, y_train, epochs = 10, validation_data = (X_valid, y_valid))"
      ],
      "metadata": {
        "colab": {
          "base_uri": "https://localhost:8080/"
        },
        "id": "fQAnRRn0_pqD",
        "outputId": "bfb5e0db-2fc8-4afd-d2d7-626f90c8de07"
      },
      "execution_count": 56,
      "outputs": [
        {
          "output_type": "stream",
          "name": "stdout",
          "text": [
            "Epoch 1/10\n",
            "1719/1719 [==============================] - 18s 9ms/step - loss: 0.8495 - accuracy: 0.7171 - val_loss: 0.5650 - val_accuracy: 0.8130\n",
            "Epoch 2/10\n",
            "1719/1719 [==============================] - 16s 9ms/step - loss: 0.5696 - accuracy: 0.8035 - val_loss: 0.4829 - val_accuracy: 0.8380\n",
            "Epoch 3/10\n",
            "1719/1719 [==============================] - 15s 9ms/step - loss: 0.5123 - accuracy: 0.8217 - val_loss: 0.4470 - val_accuracy: 0.8478\n",
            "Epoch 4/10\n",
            "1719/1719 [==============================] - 17s 10ms/step - loss: 0.4765 - accuracy: 0.8338 - val_loss: 0.4240 - val_accuracy: 0.8542\n",
            "Epoch 5/10\n",
            "1719/1719 [==============================] - 14s 8ms/step - loss: 0.4514 - accuracy: 0.8410 - val_loss: 0.4096 - val_accuracy: 0.8596\n",
            "Epoch 6/10\n",
            "1719/1719 [==============================] - 15s 8ms/step - loss: 0.4341 - accuracy: 0.8469 - val_loss: 0.3971 - val_accuracy: 0.8608\n",
            "Epoch 7/10\n",
            "1719/1719 [==============================] - 15s 9ms/step - loss: 0.4208 - accuracy: 0.8510 - val_loss: 0.3877 - val_accuracy: 0.8668\n",
            "Epoch 8/10\n",
            "1719/1719 [==============================] - 15s 9ms/step - loss: 0.4098 - accuracy: 0.8542 - val_loss: 0.3826 - val_accuracy: 0.8658\n",
            "Epoch 9/10\n",
            "1719/1719 [==============================] - 15s 8ms/step - loss: 0.3987 - accuracy: 0.8593 - val_loss: 0.3753 - val_accuracy: 0.8686\n",
            "Epoch 10/10\n",
            "1719/1719 [==============================] - 15s 9ms/step - loss: 0.3874 - accuracy: 0.8629 - val_loss: 0.3708 - val_accuracy: 0.8706\n"
          ]
        }
      ]
    },
    {
      "cell_type": "markdown",
      "source": [
        "## Applying Batch Normalization Before Activation"
      ],
      "metadata": {
        "id": "-jGaVhVzCEjZ"
      }
    },
    {
      "cell_type": "code",
      "source": [
        "model = keras.models.Sequential([\n",
        "    keras.layers.Flatten(input_shape=[28, 28]),\n",
        "    keras.layers.BatchNormalization(),\n",
        "    keras.layers.Dense(300, use_bias=False),\n",
        "    keras.layers.BatchNormalization(),\n",
        "    keras.layers.Activation(\"relu\"),\n",
        "    keras.layers.Dense(100, use_bias=False),\n",
        "    keras.layers.BatchNormalization(),\n",
        "    keras.layers.Activation(\"relu\"),\n",
        "    keras.layers.Dense(10, activation=\"softmax\")\n",
        "])\n"
      ],
      "metadata": {
        "id": "_YKxHxxxAqDa"
      },
      "execution_count": 57,
      "outputs": []
    },
    {
      "cell_type": "code",
      "source": [
        "model.compile(loss=\"sparse_categorical_crossentropy\",\n",
        "              optimizer=keras.optimizers.SGD(learning_rate=1e-3),\n",
        "              metrics=[\"accuracy\"])\n"
      ],
      "metadata": {
        "id": "FHtGHfubCJLE"
      },
      "execution_count": 58,
      "outputs": []
    },
    {
      "cell_type": "code",
      "source": [
        "history = model.fit(X_train, y_train, epochs=10,\n",
        "                    validation_data=(X_valid, y_valid))\n"
      ],
      "metadata": {
        "id": "WTPrneDtDFBW"
      },
      "execution_count": null,
      "outputs": []
    },
    {
      "cell_type": "markdown",
      "source": [
        "# Gradient Clipping"
      ],
      "metadata": {
        "id": "QfYDvPX6CX6W"
      }
    }
  ]
}