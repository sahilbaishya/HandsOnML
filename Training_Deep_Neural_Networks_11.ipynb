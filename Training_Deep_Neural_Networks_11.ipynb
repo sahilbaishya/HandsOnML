{
  "nbformat": 4,
  "nbformat_minor": 0,
  "metadata": {
    "colab": {
      "provenance": [],
      "collapsed_sections": [
        "X6TCoEoSdHWj",
        "nxdldQjMe4Fj",
        "2O0Bmkyvh3oz"
      ],
      "gpuType": "T4",
      "authorship_tag": "ABX9TyPbmKL3/YCr3uo6dM8UfvMy",
      "include_colab_link": true
    },
    "kernelspec": {
      "name": "python3",
      "display_name": "Python 3"
    },
    "language_info": {
      "name": "python"
    },
    "accelerator": "GPU"
  },
  "cells": [
    {
      "cell_type": "markdown",
      "metadata": {
        "id": "view-in-github",
        "colab_type": "text"
      },
      "source": [
        "<a href=\"https://colab.research.google.com/github/sahilbaishya/HandsOnML/blob/main/Training_Deep_Neural_Networks_11.ipynb\" target=\"_parent\"><img src=\"https://colab.research.google.com/assets/colab-badge.svg\" alt=\"Open In Colab\"/></a>"
      ]
    },
    {
      "cell_type": "code",
      "execution_count": 1,
      "metadata": {
        "colab": {
          "base_uri": "https://localhost:8080/"
        },
        "id": "ZDRkFqFuVLGN",
        "outputId": "7e757ddd-ad08-48d8-e0e0-4510cf286620"
      },
      "outputs": [
        {
          "output_type": "stream",
          "name": "stdout",
          "text": [
            "Colab only includes TensorFlow 2.x; %tensorflow_version has no effect.\n"
          ]
        }
      ],
      "source": [
        "# Python ≥3.5 is required\n",
        "import sys\n",
        "assert sys.version_info >= (3, 5)\n",
        "\n",
        "# Scikit-Learn ≥0.20 is required\n",
        "import sklearn\n",
        "assert sklearn.__version__ >= \"0.20\"\n",
        "\n",
        "try:\n",
        "    # %tensorflow_version only exists in Colab.\n",
        "    %tensorflow_version 2.x\n",
        "except Exception:\n",
        "    pass\n",
        "\n",
        "# TensorFlow ≥2.0 is required\n",
        "import tensorflow as tf\n",
        "from tensorflow import keras\n",
        "assert tf.__version__ >= \"2.0\"\n",
        "\n",
        "%load_ext tensorboard\n",
        "\n",
        "# Common imports\n",
        "import numpy as np\n",
        "import os\n",
        "\n",
        "# to make this notebook's output stable across runs\n",
        "np.random.seed(42)\n",
        "\n",
        "# To plot pretty figures\n",
        "%matplotlib inline\n",
        "import matplotlib as mpl\n",
        "import matplotlib.pyplot as plt\n",
        "mpl.rc('axes', labelsize=14)\n",
        "mpl.rc('xtick', labelsize=12)\n",
        "mpl.rc('ytick', labelsize=12)\n",
        "\n",
        "# Where to save the figures\n",
        "PROJECT_ROOT_DIR = \".\"\n",
        "CHAPTER_ID = \"deep\"\n",
        "IMAGES_PATH = os.path.join(PROJECT_ROOT_DIR, \"images\", CHAPTER_ID)\n",
        "os.makedirs(IMAGES_PATH, exist_ok=True)\n",
        "\n",
        "def save_fig(fig_id, tight_layout=True, fig_extension=\"png\", resolution=300):\n",
        "    path = os.path.join(IMAGES_PATH, fig_id + \".\" + fig_extension)\n",
        "    print(\"Saving figure\", fig_id)\n",
        "    if tight_layout:\n",
        "        plt.tight_layout()\n",
        "    plt.savefig(path, format=fig_extension, dpi=resolution)"
      ]
    },
    {
      "cell_type": "markdown",
      "source": [
        "# Xavier Garlot and He Initialization"
      ],
      "metadata": {
        "id": "cxvBw4ImWDtT"
      }
    },
    {
      "cell_type": "code",
      "source": [
        "[name for name in dir(keras.initializers) if not name.startswith(\"_\")]"
      ],
      "metadata": {
        "colab": {
          "base_uri": "https://localhost:8080/"
        },
        "id": "8-5oouR1Vf9m",
        "outputId": "3af62693-6bda-4d60-db2f-b73f1bcb92c9"
      },
      "execution_count": 2,
      "outputs": [
        {
          "output_type": "execute_result",
          "data": {
            "text/plain": [
              "['Constant',\n",
              " 'GlorotNormal',\n",
              " 'GlorotUniform',\n",
              " 'HeNormal',\n",
              " 'HeUniform',\n",
              " 'Identity',\n",
              " 'Initializer',\n",
              " 'LecunNormal',\n",
              " 'LecunUniform',\n",
              " 'Ones',\n",
              " 'Orthogonal',\n",
              " 'RandomNormal',\n",
              " 'RandomUniform',\n",
              " 'TruncatedNormal',\n",
              " 'VarianceScaling',\n",
              " 'Zeros',\n",
              " 'constant',\n",
              " 'deserialize',\n",
              " 'get',\n",
              " 'glorot_normal',\n",
              " 'glorot_uniform',\n",
              " 'he_normal',\n",
              " 'he_uniform',\n",
              " 'identity',\n",
              " 'lecun_normal',\n",
              " 'lecun_uniform',\n",
              " 'ones',\n",
              " 'orthogonal',\n",
              " 'random_normal',\n",
              " 'random_uniform',\n",
              " 'serialize',\n",
              " 'truncated_normal',\n",
              " 'variance_scaling',\n",
              " 'zeros']"
            ]
          },
          "metadata": {},
          "execution_count": 2
        }
      ]
    },
    {
      "cell_type": "markdown",
      "source": [
        "# Nonsaturating Activation Functions"
      ],
      "metadata": {
        "id": "5tYuFBQ3WMpn"
      }
    },
    {
      "cell_type": "code",
      "source": [
        "[m for m in dir(keras.activations) if not m.startswith(\"_\")]"
      ],
      "metadata": {
        "colab": {
          "base_uri": "https://localhost:8080/"
        },
        "id": "YzxxbK7oc61G",
        "outputId": "043bb4bf-5fa1-426e-b24a-15ac9ce7d09b"
      },
      "execution_count": 3,
      "outputs": [
        {
          "output_type": "execute_result",
          "data": {
            "text/plain": [
              "['deserialize',\n",
              " 'elu',\n",
              " 'exponential',\n",
              " 'gelu',\n",
              " 'get',\n",
              " 'hard_sigmoid',\n",
              " 'linear',\n",
              " 'relu',\n",
              " 'selu',\n",
              " 'serialize',\n",
              " 'sigmoid',\n",
              " 'softmax',\n",
              " 'softplus',\n",
              " 'softsign',\n",
              " 'swish',\n",
              " 'tanh']"
            ]
          },
          "metadata": {},
          "execution_count": 3
        }
      ]
    },
    {
      "cell_type": "code",
      "source": [
        "[m for m in dir(keras.layers) if \"relu\" in m.lower()]"
      ],
      "metadata": {
        "colab": {
          "base_uri": "https://localhost:8080/"
        },
        "id": "YrqVgiJydCIc",
        "outputId": "d8dfb419-4ee9-455c-b48b-073aeaeabebb"
      },
      "execution_count": 4,
      "outputs": [
        {
          "output_type": "execute_result",
          "data": {
            "text/plain": [
              "['LeakyReLU', 'PReLU', 'ReLU', 'ThresholdedReLU']"
            ]
          },
          "metadata": {},
          "execution_count": 4
        }
      ]
    },
    {
      "cell_type": "markdown",
      "source": [
        "## Neural Network on Fashion MNIST with Leaky Relu"
      ],
      "metadata": {
        "id": "X6TCoEoSdHWj"
      }
    },
    {
      "cell_type": "code",
      "source": [
        "(X_train_full, y_train_full), (X_test, y_test) = tf.keras.datasets.fashion_mnist.load_data()"
      ],
      "metadata": {
        "colab": {
          "base_uri": "https://localhost:8080/"
        },
        "id": "E3u3srz2dDGA",
        "outputId": "bc3d2d03-9a2f-481a-a3f0-1a866cabb6d0"
      },
      "execution_count": 5,
      "outputs": [
        {
          "output_type": "stream",
          "name": "stdout",
          "text": [
            "Downloading data from https://storage.googleapis.com/tensorflow/tf-keras-datasets/train-labels-idx1-ubyte.gz\n",
            "29515/29515 [==============================] - 0s 0us/step\n",
            "Downloading data from https://storage.googleapis.com/tensorflow/tf-keras-datasets/train-images-idx3-ubyte.gz\n",
            "26421880/26421880 [==============================] - 0s 0us/step\n",
            "Downloading data from https://storage.googleapis.com/tensorflow/tf-keras-datasets/t10k-labels-idx1-ubyte.gz\n",
            "5148/5148 [==============================] - 0s 0us/step\n",
            "Downloading data from https://storage.googleapis.com/tensorflow/tf-keras-datasets/t10k-images-idx3-ubyte.gz\n",
            "4422102/4422102 [==============================] - 0s 0us/step\n"
          ]
        }
      ]
    },
    {
      "cell_type": "code",
      "source": [
        "X_train_full = X_train_full/255.0\n",
        "X_test = X_test/255.0"
      ],
      "metadata": {
        "id": "VgE_TYyadjDO"
      },
      "execution_count": 6,
      "outputs": []
    },
    {
      "cell_type": "code",
      "source": [
        "X_valid, X_train = X_train_full[:5000], X_train_full[5000:]\n",
        "y_valid, y_train = y_train_full[:5000], y_train_full[5000:]"
      ],
      "metadata": {
        "id": "XQ71ijdzd6p5"
      },
      "execution_count": 7,
      "outputs": []
    },
    {
      "cell_type": "code",
      "source": [
        "tf.random.set_seed(42)\n",
        "np.random.seed(42)\n",
        "\n",
        "model = keras.models.Sequential([\n",
        "    keras.layers.Flatten(input_shape=[28, 28]),\n",
        "    keras.layers.Dense(300, kernel_initializer=\"he_normal\"),\n",
        "    keras.layers.LeakyReLU(),\n",
        "    keras.layers.Dense(100, kernel_initializer=\"he_normal\"),\n",
        "    keras.layers.LeakyReLU(),\n",
        "    keras.layers.Dense(10, activation=\"softmax\")\n",
        "])"
      ],
      "metadata": {
        "id": "Pd6BLnjyeLdU"
      },
      "execution_count": 8,
      "outputs": []
    },
    {
      "cell_type": "code",
      "source": [
        "model.compile(loss=\"sparse_categorical_crossentropy\",\n",
        "              optimizer=keras.optimizers.SGD(learning_rate=1e-3),\n",
        "              metrics=[\"accuracy\"])"
      ],
      "metadata": {
        "id": "yvf4aNaVeQE1"
      },
      "execution_count": 9,
      "outputs": []
    },
    {
      "cell_type": "code",
      "source": [
        "history = model.fit(X_train, y_train, epochs=10,\n",
        "                    validation_data=(X_valid, y_valid))"
      ],
      "metadata": {
        "colab": {
          "base_uri": "https://localhost:8080/"
        },
        "id": "v9hZuR5meR50",
        "outputId": "8a5a07c6-7a89-4aa0-cd0a-ed025201771b"
      },
      "execution_count": 10,
      "outputs": [
        {
          "output_type": "stream",
          "name": "stdout",
          "text": [
            "Epoch 1/10\n",
            "1719/1719 [==============================] - 14s 4ms/step - loss: 1.2828 - accuracy: 0.6074 - val_loss: 0.8695 - val_accuracy: 0.7246\n",
            "Epoch 2/10\n",
            "1719/1719 [==============================] - 6s 3ms/step - loss: 0.7816 - accuracy: 0.7472 - val_loss: 0.7014 - val_accuracy: 0.7788\n",
            "Epoch 3/10\n",
            "1719/1719 [==============================] - 5s 3ms/step - loss: 0.6702 - accuracy: 0.7831 - val_loss: 0.6357 - val_accuracy: 0.7948\n",
            "Epoch 4/10\n",
            "1719/1719 [==============================] - 6s 4ms/step - loss: 0.6123 - accuracy: 0.8002 - val_loss: 0.5830 - val_accuracy: 0.8136\n",
            "Epoch 5/10\n",
            "1719/1719 [==============================] - 5s 3ms/step - loss: 0.5752 - accuracy: 0.8105 - val_loss: 0.5525 - val_accuracy: 0.8228\n",
            "Epoch 6/10\n",
            "1719/1719 [==============================] - 6s 4ms/step - loss: 0.5489 - accuracy: 0.8163 - val_loss: 0.5301 - val_accuracy: 0.8272\n",
            "Epoch 7/10\n",
            "1719/1719 [==============================] - 6s 3ms/step - loss: 0.5291 - accuracy: 0.8218 - val_loss: 0.5119 - val_accuracy: 0.8338\n",
            "Epoch 8/10\n",
            "1719/1719 [==============================] - 6s 4ms/step - loss: 0.5138 - accuracy: 0.8256 - val_loss: 0.5053 - val_accuracy: 0.8328\n",
            "Epoch 9/10\n",
            "1719/1719 [==============================] - 5s 3ms/step - loss: 0.5015 - accuracy: 0.8290 - val_loss: 0.4878 - val_accuracy: 0.8376\n",
            "Epoch 10/10\n",
            "1719/1719 [==============================] - 6s 4ms/step - loss: 0.4906 - accuracy: 0.8317 - val_loss: 0.4812 - val_accuracy: 0.8388\n"
          ]
        }
      ]
    },
    {
      "cell_type": "markdown",
      "source": [
        "## Using PReLU"
      ],
      "metadata": {
        "id": "nxdldQjMe4Fj"
      }
    },
    {
      "cell_type": "code",
      "source": [
        "tf.random.set_seed(42)\n",
        "np.random.seed(42)\n",
        "\n",
        "model = tf.keras.models.Sequential([\n",
        "    keras.layers.Flatten(input_shape = [28, 28]),\n",
        "    keras.layers.Dense(300, kernel_initializer = 'he_normal'),\n",
        "    keras.layers.PReLU(),\n",
        "    keras.layers.Dense(100, kernel_initializer = 'he_normal'),\n",
        "    keras.layers.PReLU(),\n",
        "    keras.layers.Dense(10, activation= 'softmax')\n",
        "\n",
        "])"
      ],
      "metadata": {
        "id": "UInIobORe_nE"
      },
      "execution_count": 11,
      "outputs": []
    },
    {
      "cell_type": "code",
      "source": [
        "model.compile(loss = 'sparse_categorical_crossentropy',\n",
        "              optimizer = keras.optimizers.SGD(learning_rate = 1e-3),\n",
        "              metrics = ['accuracy'])"
      ],
      "metadata": {
        "id": "iYB4BbffgFNb"
      },
      "execution_count": 12,
      "outputs": []
    },
    {
      "cell_type": "code",
      "source": [
        "history = model.fit(X_train, y_train, epochs = 10, validation_data = (X_valid, y_valid))"
      ],
      "metadata": {
        "colab": {
          "base_uri": "https://localhost:8080/"
        },
        "id": "d8cQxG08geYI",
        "outputId": "2080318c-a8c5-475a-c44e-46bf6ebb537e"
      },
      "execution_count": 13,
      "outputs": [
        {
          "output_type": "stream",
          "name": "stdout",
          "text": [
            "Epoch 1/10\n",
            "1719/1719 [==============================] - 8s 4ms/step - loss: 1.3677 - accuracy: 0.5896 - val_loss: 0.8986 - val_accuracy: 0.7308\n",
            "Epoch 2/10\n",
            "1719/1719 [==============================] - 6s 3ms/step - loss: 0.8025 - accuracy: 0.7512 - val_loss: 0.7078 - val_accuracy: 0.7834\n",
            "Epoch 3/10\n",
            "1719/1719 [==============================] - 7s 4ms/step - loss: 0.6807 - accuracy: 0.7858 - val_loss: 0.6367 - val_accuracy: 0.7992\n",
            "Epoch 4/10\n",
            "1719/1719 [==============================] - 6s 4ms/step - loss: 0.6180 - accuracy: 0.8035 - val_loss: 0.5799 - val_accuracy: 0.8188\n",
            "Epoch 5/10\n",
            "1719/1719 [==============================] - 7s 4ms/step - loss: 0.5775 - accuracy: 0.8122 - val_loss: 0.5469 - val_accuracy: 0.8296\n",
            "Epoch 6/10\n",
            "1719/1719 [==============================] - 6s 4ms/step - loss: 0.5486 - accuracy: 0.8204 - val_loss: 0.5236 - val_accuracy: 0.8338\n",
            "Epoch 7/10\n",
            "1719/1719 [==============================] - 6s 4ms/step - loss: 0.5267 - accuracy: 0.8255 - val_loss: 0.5038 - val_accuracy: 0.8370\n",
            "Epoch 8/10\n",
            "1719/1719 [==============================] - 7s 4ms/step - loss: 0.5099 - accuracy: 0.8303 - val_loss: 0.4954 - val_accuracy: 0.8396\n",
            "Epoch 9/10\n",
            "1719/1719 [==============================] - 6s 3ms/step - loss: 0.4964 - accuracy: 0.8327 - val_loss: 0.4786 - val_accuracy: 0.8424\n",
            "Epoch 10/10\n",
            "1719/1719 [==============================] - 7s 4ms/step - loss: 0.4848 - accuracy: 0.8361 - val_loss: 0.4708 - val_accuracy: 0.8440\n"
          ]
        }
      ]
    },
    {
      "cell_type": "markdown",
      "source": [
        "## Using SELU"
      ],
      "metadata": {
        "id": "2O0Bmkyvh3oz"
      }
    },
    {
      "cell_type": "code",
      "source": [
        "model = tf.keras.models.Sequential()\n",
        "model.add(tf.keras.layers.Flatten(input_shape=[28, 28]))\n",
        "model.add(tf.keras.layers.Dense(300, activation = 'selu', kernel_initializer = 'lecun_normal'))\n",
        "for i in range (99):\n",
        "  model.add(tf.keras.layers.Dense(100, activation = 'selu', kernel_initializer = 'lecun_normal'))\n",
        "model.add(tf.keras.layers.Dense(10, activation = 'softmax'))"
      ],
      "metadata": {
        "id": "zTsALt1mh5T9"
      },
      "execution_count": 14,
      "outputs": []
    },
    {
      "cell_type": "code",
      "source": [
        "model.compile(\n",
        "    optimizer = tf.keras.optimizers.SGD(learning_rate = 1e-3),\n",
        "    loss = 'sparse_categorical_crossentropy',\n",
        "    metrics = ['accuracy']\n",
        ")"
      ],
      "metadata": {
        "id": "tB-dNFrGinc8"
      },
      "execution_count": 15,
      "outputs": []
    },
    {
      "cell_type": "code",
      "source": [
        "pixel_means = X_train.mean(axis=0, keepdims=True)\n",
        "pixel_stds = X_train.std(axis=0, keepdims=True)\n",
        "X_train_scaled = (X_train - pixel_means) / pixel_stds\n",
        "X_valid_scaled = (X_valid - pixel_means) / pixel_stds\n",
        "X_test_scaled = (X_test - pixel_means) / pixel_stds"
      ],
      "metadata": {
        "id": "fWXYwlPpjFQi"
      },
      "execution_count": 16,
      "outputs": []
    },
    {
      "cell_type": "code",
      "source": [
        "history = model.fit(X_train_scaled, y_train, epochs = 10, validation_data = (X_valid_scaled, y_valid))"
      ],
      "metadata": {
        "colab": {
          "base_uri": "https://localhost:8080/"
        },
        "id": "zauucQAgi5zq",
        "outputId": "b26c4297-8e05-4da9-f20f-ef41bd9d5dd7"
      },
      "execution_count": 17,
      "outputs": [
        {
          "output_type": "stream",
          "name": "stdout",
          "text": [
            "Epoch 1/10\n",
            "1719/1719 [==============================] - 54s 23ms/step - loss: 1.1282 - accuracy: 0.5762 - val_loss: 0.7678 - val_accuracy: 0.7190\n",
            "Epoch 2/10\n",
            "1719/1719 [==============================] - 40s 23ms/step - loss: 0.7211 - accuracy: 0.7327 - val_loss: 0.7078 - val_accuracy: 0.7582\n",
            "Epoch 3/10\n",
            "1719/1719 [==============================] - 41s 24ms/step - loss: 0.6318 - accuracy: 0.7691 - val_loss: 0.5926 - val_accuracy: 0.7856\n",
            "Epoch 4/10\n",
            "1719/1719 [==============================] - 40s 23ms/step - loss: 0.6443 - accuracy: 0.7704 - val_loss: 0.6406 - val_accuracy: 0.7824\n",
            "Epoch 5/10\n",
            "1719/1719 [==============================] - 41s 24ms/step - loss: 0.5649 - accuracy: 0.7994 - val_loss: 0.5197 - val_accuracy: 0.8228\n",
            "Epoch 6/10\n",
            "1719/1719 [==============================] - 41s 24ms/step - loss: 0.4980 - accuracy: 0.8280 - val_loss: 0.5382 - val_accuracy: 0.8028\n",
            "Epoch 7/10\n",
            "1719/1719 [==============================] - 40s 23ms/step - loss: 0.4777 - accuracy: 0.8351 - val_loss: 0.4508 - val_accuracy: 0.8512\n",
            "Epoch 8/10\n",
            "1719/1719 [==============================] - 40s 23ms/step - loss: 0.4538 - accuracy: 0.8423 - val_loss: 0.4510 - val_accuracy: 0.8386\n",
            "Epoch 9/10\n",
            "1719/1719 [==============================] - 41s 24ms/step - loss: 0.4281 - accuracy: 0.8512 - val_loss: 0.4218 - val_accuracy: 0.8584\n",
            "Epoch 10/10\n",
            "1719/1719 [==============================] - 40s 23ms/step - loss: 0.4100 - accuracy: 0.8571 - val_loss: 0.4099 - val_accuracy: 0.8606\n"
          ]
        }
      ]
    },
    {
      "cell_type": "markdown",
      "source": [
        "## Using ReLU"
      ],
      "metadata": {
        "id": "15a6S05wjSlN"
      }
    },
    {
      "cell_type": "code",
      "source": [
        "model = tf.keras.models.Sequential()\n",
        "model.add(tf.keras.layers.Flatten(input_shape = [28, 28]))\n",
        "model.add(tf.keras.layers.Dense(300, activation = 'relu', kernel_initializer='he_normal'))\n",
        "for i in range (99):\n",
        "  model.add(tf.keras.layers.Dense(100, activation = 'relu', kernel_initializer = 'he_normal'))\n",
        "model.add(tf.keras.layers.Dense(10, activation = 'softmax'))"
      ],
      "metadata": {
        "id": "wN_cWIpHjSQF"
      },
      "execution_count": 18,
      "outputs": []
    },
    {
      "cell_type": "code",
      "source": [
        "model.compile(\n",
        "    optimizer = tf.keras.optimizers.SGD(learning_rate = 1e-3),\n",
        "    loss = 'sparse_categorical_crossentropy',\n",
        "    metrics = ['accuracy']\n",
        ")"
      ],
      "metadata": {
        "id": "TDdorAepj7D-"
      },
      "execution_count": 19,
      "outputs": []
    },
    {
      "cell_type": "code",
      "source": [
        "history = model.fit(X_train_scaled, y_train, epochs = 10, validation_data = (X_valid_scaled, y_valid))"
      ],
      "metadata": {
        "colab": {
          "base_uri": "https://localhost:8080/"
        },
        "id": "DnVwjFOgj-X3",
        "outputId": "90d9f64c-f491-4863-d50b-38b0a9c81da1"
      },
      "execution_count": 20,
      "outputs": [
        {
          "output_type": "stream",
          "name": "stdout",
          "text": [
            "Epoch 1/10\n",
            "1719/1719 [==============================] - 56s 25ms/step - loss: 1.9071 - accuracy: 0.2700 - val_loss: 1.4582 - val_accuracy: 0.4296\n",
            "Epoch 2/10\n",
            "1719/1719 [==============================] - 41s 24ms/step - loss: 1.2752 - accuracy: 0.4612 - val_loss: 0.9763 - val_accuracy: 0.6244\n",
            "Epoch 3/10\n",
            "1719/1719 [==============================] - 41s 24ms/step - loss: 0.9463 - accuracy: 0.6170 - val_loss: 0.8247 - val_accuracy: 0.6808\n",
            "Epoch 4/10\n",
            "1719/1719 [==============================] - 39s 23ms/step - loss: 0.7916 - accuracy: 0.6798 - val_loss: 0.8840 - val_accuracy: 0.6512\n",
            "Epoch 5/10\n",
            "1719/1719 [==============================] - 39s 23ms/step - loss: 0.7049 - accuracy: 0.7097 - val_loss: 0.6747 - val_accuracy: 0.7196\n",
            "Epoch 6/10\n",
            "1719/1719 [==============================] - 39s 23ms/step - loss: 0.6526 - accuracy: 0.7323 - val_loss: 0.6387 - val_accuracy: 0.7476\n",
            "Epoch 7/10\n",
            "1719/1719 [==============================] - 39s 23ms/step - loss: 0.6295 - accuracy: 0.7477 - val_loss: 0.6002 - val_accuracy: 0.7652\n",
            "Epoch 8/10\n",
            "1719/1719 [==============================] - 38s 22ms/step - loss: 0.5898 - accuracy: 0.7673 - val_loss: 0.6133 - val_accuracy: 0.7546\n",
            "Epoch 9/10\n",
            "1719/1719 [==============================] - 38s 22ms/step - loss: 0.5657 - accuracy: 0.7862 - val_loss: 0.5704 - val_accuracy: 0.7938\n",
            "Epoch 10/10\n",
            "1719/1719 [==============================] - 37s 22ms/step - loss: 0.5355 - accuracy: 0.8029 - val_loss: 0.5489 - val_accuracy: 0.8146\n"
          ]
        }
      ]
    },
    {
      "cell_type": "markdown",
      "source": [
        "# Batch Normalization"
      ],
      "metadata": {
        "id": "YeZCSQCu-UBn"
      }
    },
    {
      "cell_type": "code",
      "source": [
        "(X_train_full, y_train_full), (X_test, y_test) = tf.keras.datasets.fashion_mnist.load_data()"
      ],
      "metadata": {
        "id": "7yPXoCyj-a2T"
      },
      "execution_count": 21,
      "outputs": []
    },
    {
      "cell_type": "code",
      "source": [
        "X_train_full = X_train_full/255.0\n",
        "X_test = X_test/255.0"
      ],
      "metadata": {
        "id": "AIdgUgNw-tBK"
      },
      "execution_count": 22,
      "outputs": []
    },
    {
      "cell_type": "code",
      "source": [
        "X_valid, X_train = X_train_full[:5000], X_train_full[5000:]\n",
        "y_valid, y_train = y_train_full[:5000], y_train_full[5000:]"
      ],
      "metadata": {
        "id": "yiJ7YE3H-ul4"
      },
      "execution_count": 23,
      "outputs": []
    },
    {
      "cell_type": "code",
      "source": [
        "model = tf.keras.models.Sequential([\n",
        "    tf.keras.layers.Flatten(input_shape = [28, 28]),\n",
        "    tf.keras.layers.BatchNormalization(),\n",
        "    tf.keras.layers.Dense(300, activation = 'relu'),\n",
        "    tf.keras.layers.BatchNormalization(),\n",
        "    tf.keras.layers.Dense(100, activation = 'relu'),\n",
        "    tf.keras.layers.BatchNormalization(),\n",
        "    tf.keras.layers.Dense(10, activation = 'softmax')\n",
        "])"
      ],
      "metadata": {
        "id": "9rrAANBN-w5z"
      },
      "execution_count": 24,
      "outputs": []
    },
    {
      "cell_type": "code",
      "source": [
        "model.summary()"
      ],
      "metadata": {
        "colab": {
          "base_uri": "https://localhost:8080/"
        },
        "id": "ewtlI7n3_wF3",
        "outputId": "99f20a70-d9df-4a4a-f8d9-ed1866578492"
      },
      "execution_count": 25,
      "outputs": [
        {
          "output_type": "stream",
          "name": "stdout",
          "text": [
            "Model: \"sequential_4\"\n",
            "_________________________________________________________________\n",
            " Layer (type)                Output Shape              Param #   \n",
            "=================================================================\n",
            " flatten_4 (Flatten)         (None, 784)               0         \n",
            "                                                                 \n",
            " batch_normalization (BatchN  (None, 784)              3136      \n",
            " ormalization)                                                   \n",
            "                                                                 \n",
            " dense_208 (Dense)           (None, 300)               235500    \n",
            "                                                                 \n",
            " batch_normalization_1 (Batc  (None, 300)              1200      \n",
            " hNormalization)                                                 \n",
            "                                                                 \n",
            " dense_209 (Dense)           (None, 100)               30100     \n",
            "                                                                 \n",
            " batch_normalization_2 (Batc  (None, 100)              400       \n",
            " hNormalization)                                                 \n",
            "                                                                 \n",
            " dense_210 (Dense)           (None, 10)                1010      \n",
            "                                                                 \n",
            "=================================================================\n",
            "Total params: 271,346\n",
            "Trainable params: 268,978\n",
            "Non-trainable params: 2,368\n",
            "_________________________________________________________________\n"
          ]
        }
      ]
    },
    {
      "cell_type": "code",
      "source": [
        "bn1 = model.layers[1]\n",
        "[(var.name, var.trainable) for var in bn1.variables]"
      ],
      "metadata": {
        "colab": {
          "base_uri": "https://localhost:8080/"
        },
        "id": "ydhdCK35AWms",
        "outputId": "9f843470-a034-4de4-bd7a-7d900eb5d01e"
      },
      "execution_count": 26,
      "outputs": [
        {
          "output_type": "execute_result",
          "data": {
            "text/plain": [
              "[('batch_normalization/gamma:0', True),\n",
              " ('batch_normalization/beta:0', True),\n",
              " ('batch_normalization/moving_mean:0', False),\n",
              " ('batch_normalization/moving_variance:0', False)]"
            ]
          },
          "metadata": {},
          "execution_count": 26
        }
      ]
    },
    {
      "cell_type": "code",
      "source": [
        "model.compile(\n",
        "    loss = 'sparse_categorical_crossentropy',\n",
        "    optimizer = tf.keras.optimizers.SGD(learning_rate = 1e-3),\n",
        "    metrics = ['accuracy']\n",
        ")"
      ],
      "metadata": {
        "id": "VshUcBDD_bVa"
      },
      "execution_count": 27,
      "outputs": []
    },
    {
      "cell_type": "code",
      "source": [
        "history = model.fit(X_train, y_train, epochs = 10, validation_data = (X_valid, y_valid))"
      ],
      "metadata": {
        "colab": {
          "base_uri": "https://localhost:8080/"
        },
        "id": "fQAnRRn0_pqD",
        "outputId": "5e686b69-4029-4008-d34f-8427d5c75f9f"
      },
      "execution_count": 28,
      "outputs": [
        {
          "output_type": "stream",
          "name": "stdout",
          "text": [
            "Epoch 1/10\n",
            "1719/1719 [==============================] - 10s 5ms/step - loss: 0.8425 - accuracy: 0.7189 - val_loss: 0.5427 - val_accuracy: 0.8190\n",
            "Epoch 2/10\n",
            "1719/1719 [==============================] - 9s 5ms/step - loss: 0.5653 - accuracy: 0.8036 - val_loss: 0.4616 - val_accuracy: 0.8466\n",
            "Epoch 3/10\n",
            "1719/1719 [==============================] - 8s 5ms/step - loss: 0.5111 - accuracy: 0.8221 - val_loss: 0.4283 - val_accuracy: 0.8598\n",
            "Epoch 4/10\n",
            "1719/1719 [==============================] - 9s 5ms/step - loss: 0.4735 - accuracy: 0.8339 - val_loss: 0.4089 - val_accuracy: 0.8630\n",
            "Epoch 5/10\n",
            "1719/1719 [==============================] - 9s 5ms/step - loss: 0.4510 - accuracy: 0.8420 - val_loss: 0.3938 - val_accuracy: 0.8700\n",
            "Epoch 6/10\n",
            "1719/1719 [==============================] - 9s 5ms/step - loss: 0.4345 - accuracy: 0.8466 - val_loss: 0.3835 - val_accuracy: 0.8740\n",
            "Epoch 7/10\n",
            "1719/1719 [==============================] - 9s 5ms/step - loss: 0.4205 - accuracy: 0.8522 - val_loss: 0.3734 - val_accuracy: 0.8716\n",
            "Epoch 8/10\n",
            "1719/1719 [==============================] - 9s 5ms/step - loss: 0.4081 - accuracy: 0.8562 - val_loss: 0.3690 - val_accuracy: 0.8754\n",
            "Epoch 9/10\n",
            "1719/1719 [==============================] - 9s 5ms/step - loss: 0.3977 - accuracy: 0.8598 - val_loss: 0.3631 - val_accuracy: 0.8774\n",
            "Epoch 10/10\n",
            "1719/1719 [==============================] - 9s 5ms/step - loss: 0.3891 - accuracy: 0.8621 - val_loss: 0.3576 - val_accuracy: 0.8784\n"
          ]
        }
      ]
    },
    {
      "cell_type": "markdown",
      "source": [
        "## Applying Batch Normalization Before Activation"
      ],
      "metadata": {
        "id": "-jGaVhVzCEjZ"
      }
    },
    {
      "cell_type": "code",
      "source": [
        "model = keras.models.Sequential([\n",
        "    keras.layers.Flatten(input_shape=[28, 28]),\n",
        "    keras.layers.BatchNormalization(),\n",
        "    keras.layers.Dense(300, use_bias=False),\n",
        "    keras.layers.BatchNormalization(),\n",
        "    keras.layers.Activation(\"relu\"),\n",
        "    keras.layers.Dense(100, use_bias=False),\n",
        "    keras.layers.BatchNormalization(),\n",
        "    keras.layers.Activation(\"relu\"),\n",
        "    keras.layers.Dense(10, activation=\"softmax\")\n",
        "])\n"
      ],
      "metadata": {
        "id": "_YKxHxxxAqDa"
      },
      "execution_count": 29,
      "outputs": []
    },
    {
      "cell_type": "code",
      "source": [
        "model.compile(loss=\"sparse_categorical_crossentropy\",\n",
        "              optimizer=keras.optimizers.SGD(learning_rate=1e-3),\n",
        "              metrics=[\"accuracy\"])\n"
      ],
      "metadata": {
        "id": "FHtGHfubCJLE"
      },
      "execution_count": 30,
      "outputs": []
    },
    {
      "cell_type": "code",
      "source": [
        "history = model.fit(X_train, y_train, epochs=10,\n",
        "                    validation_data=(X_valid, y_valid))\n"
      ],
      "metadata": {
        "colab": {
          "base_uri": "https://localhost:8080/"
        },
        "id": "WTPrneDtDFBW",
        "outputId": "c87e577e-d0a8-465e-ec83-0d13e613a2d2"
      },
      "execution_count": 31,
      "outputs": [
        {
          "output_type": "stream",
          "name": "stdout",
          "text": [
            "Epoch 1/10\n",
            "1719/1719 [==============================] - 9s 5ms/step - loss: 1.0224 - accuracy: 0.6838 - val_loss: 0.6719 - val_accuracy: 0.7854\n",
            "Epoch 2/10\n",
            "1719/1719 [==============================] - 9s 5ms/step - loss: 0.6726 - accuracy: 0.7823 - val_loss: 0.5563 - val_accuracy: 0.8160\n",
            "Epoch 3/10\n",
            "1719/1719 [==============================] - 9s 5ms/step - loss: 0.5942 - accuracy: 0.8028 - val_loss: 0.5036 - val_accuracy: 0.8314\n",
            "Epoch 4/10\n",
            "1719/1719 [==============================] - 9s 5ms/step - loss: 0.5459 - accuracy: 0.8175 - val_loss: 0.4711 - val_accuracy: 0.8366\n",
            "Epoch 5/10\n",
            "1719/1719 [==============================] - 8s 5ms/step - loss: 0.5126 - accuracy: 0.8258 - val_loss: 0.4492 - val_accuracy: 0.8432\n",
            "Epoch 6/10\n",
            "1719/1719 [==============================] - 8s 5ms/step - loss: 0.4910 - accuracy: 0.8310 - val_loss: 0.4314 - val_accuracy: 0.8480\n",
            "Epoch 7/10\n",
            "1719/1719 [==============================] - 9s 5ms/step - loss: 0.4740 - accuracy: 0.8373 - val_loss: 0.4181 - val_accuracy: 0.8524\n",
            "Epoch 8/10\n",
            "1719/1719 [==============================] - 8s 5ms/step - loss: 0.4595 - accuracy: 0.8412 - val_loss: 0.4078 - val_accuracy: 0.8576\n",
            "Epoch 9/10\n",
            "1719/1719 [==============================] - 9s 5ms/step - loss: 0.4465 - accuracy: 0.8459 - val_loss: 0.3986 - val_accuracy: 0.8572\n",
            "Epoch 10/10\n",
            "1719/1719 [==============================] - 8s 5ms/step - loss: 0.4339 - accuracy: 0.8499 - val_loss: 0.3896 - val_accuracy: 0.8622\n"
          ]
        }
      ]
    },
    {
      "cell_type": "markdown",
      "source": [
        "# Gradient Clipping"
      ],
      "metadata": {
        "id": "QfYDvPX6CX6W"
      }
    },
    {
      "cell_type": "code",
      "source": [
        "optimizer = keras.optimizers.SGD(clipvalue=1.0)"
      ],
      "metadata": {
        "id": "B-saH7EbIRG3"
      },
      "execution_count": 32,
      "outputs": []
    },
    {
      "cell_type": "code",
      "source": [
        "optimizer = keras.optimizers.SGD(clipnorm=1.0)"
      ],
      "metadata": {
        "id": "aj7AKPSEISpg"
      },
      "execution_count": 34,
      "outputs": []
    },
    {
      "cell_type": "markdown",
      "source": [
        "# Reusing Pretrained Layers"
      ],
      "metadata": {
        "id": "G2KI4eqqIpet"
      }
    },
    {
      "cell_type": "code",
      "source": [
        "(X_train_full, y_train_full), (X_test, y_test) = keras.datasets.fashion_mnist.load_data()\n",
        "X_train_full = X_train_full / 255.0\n",
        "X_test = X_test / 255.0\n",
        "X_valid, X_train = X_train_full[:5000], X_train_full[5000:]\n",
        "y_valid, y_train = y_train_full[:5000], y_train_full[5000:]"
      ],
      "metadata": {
        "id": "ejJft2FcIr8l"
      },
      "execution_count": 35,
      "outputs": []
    },
    {
      "cell_type": "code",
      "source": [
        "def split_dataset(X, y):\n",
        "    y_5_or_6 = (y == 5) | (y == 6) # sandals or shirts\n",
        "    y_A = y[~y_5_or_6]\n",
        "    y_A[y_A > 6] -= 2 # class indices 7, 8, 9 should be moved to 5, 6, 7\n",
        "    y_B = (y[y_5_or_6] == 6).astype(np.float32) # binary classification task: is it a shirt (class 6)?\n",
        "    return ((X[~y_5_or_6], y_A),\n",
        "            (X[y_5_or_6], y_B))\n",
        "\n",
        "(X_train_A, y_train_A), (X_train_B, y_train_B) = split_dataset(X_train, y_train)\n",
        "(X_valid_A, y_valid_A), (X_valid_B, y_valid_B) = split_dataset(X_valid, y_valid)\n",
        "(X_test_A, y_test_A), (X_test_B, y_test_B) = split_dataset(X_test, y_test)\n",
        "X_train_B = X_train_B[:200]\n",
        "y_train_B = y_train_B[:200]"
      ],
      "metadata": {
        "id": "lcmsNeQSIsBh"
      },
      "execution_count": 36,
      "outputs": []
    },
    {
      "cell_type": "code",
      "source": [
        "X_train_A.shape"
      ],
      "metadata": {
        "colab": {
          "base_uri": "https://localhost:8080/"
        },
        "id": "Q6UIKwODIsGC",
        "outputId": "4d0ac4c8-c460-482b-c5e9-4c73451663fa"
      },
      "execution_count": 37,
      "outputs": [
        {
          "output_type": "execute_result",
          "data": {
            "text/plain": [
              "(43986, 28, 28)"
            ]
          },
          "metadata": {},
          "execution_count": 37
        }
      ]
    },
    {
      "cell_type": "code",
      "source": [
        "X_train_B.shape"
      ],
      "metadata": {
        "colab": {
          "base_uri": "https://localhost:8080/"
        },
        "id": "ZDhPtoxKJMdr",
        "outputId": "9668f2e8-70f0-445b-d32c-707d65fb14e3"
      },
      "execution_count": 38,
      "outputs": [
        {
          "output_type": "execute_result",
          "data": {
            "text/plain": [
              "(200, 28, 28)"
            ]
          },
          "metadata": {},
          "execution_count": 38
        }
      ]
    },
    {
      "cell_type": "code",
      "source": [
        "y_train_A[:30]"
      ],
      "metadata": {
        "colab": {
          "base_uri": "https://localhost:8080/"
        },
        "id": "Ls-qFhVRJMka",
        "outputId": "5951b5b5-56ec-4849-d8d0-b3636dd2db0a"
      },
      "execution_count": 39,
      "outputs": [
        {
          "output_type": "execute_result",
          "data": {
            "text/plain": [
              "array([4, 0, 5, 7, 7, 7, 4, 4, 3, 4, 0, 1, 6, 3, 4, 3, 2, 6, 5, 3, 4, 5,\n",
              "       1, 3, 4, 2, 0, 6, 7, 1], dtype=uint8)"
            ]
          },
          "metadata": {},
          "execution_count": 39
        }
      ]
    },
    {
      "cell_type": "code",
      "source": [
        "y_train_B[:30]"
      ],
      "metadata": {
        "colab": {
          "base_uri": "https://localhost:8080/"
        },
        "id": "LYTnZZOiJMqs",
        "outputId": "ba490e95-86cc-458c-8c39-bcd61334c706"
      },
      "execution_count": 40,
      "outputs": [
        {
          "output_type": "execute_result",
          "data": {
            "text/plain": [
              "array([1., 1., 0., 0., 0., 0., 1., 1., 1., 0., 0., 1., 1., 0., 0., 0., 0.,\n",
              "       0., 0., 1., 1., 0., 0., 1., 1., 0., 1., 1., 1., 1.], dtype=float32)"
            ]
          },
          "metadata": {},
          "execution_count": 40
        }
      ]
    },
    {
      "cell_type": "code",
      "source": [
        "tf.random.set_seed(42)\n",
        "np.random.seed(42)"
      ],
      "metadata": {
        "id": "72DMQT5yJMxw"
      },
      "execution_count": 41,
      "outputs": []
    },
    {
      "cell_type": "code",
      "source": [
        "model_A = keras.models.Sequential()\n",
        "model_A.add(keras.layers.Flatten(input_shape=[28, 28]))\n",
        "for n_hidden in (300, 100, 50, 50, 50):\n",
        "    model_A.add(keras.layers.Dense(n_hidden, activation=\"selu\"))\n",
        "model_A.add(keras.layers.Dense(8, activation=\"softmax\"))"
      ],
      "metadata": {
        "id": "GKwjYgp0JM4p"
      },
      "execution_count": 42,
      "outputs": []
    },
    {
      "cell_type": "code",
      "source": [
        "model_A.compile(loss=\"sparse_categorical_crossentropy\",\n",
        "                optimizer=keras.optimizers.SGD(learning_rate=1e-3),\n",
        "                metrics=[\"accuracy\"])"
      ],
      "metadata": {
        "id": "AEmpA08fJkcI"
      },
      "execution_count": 43,
      "outputs": []
    },
    {
      "cell_type": "code",
      "source": [
        "history = model_A.fit(X_train_A, y_train_A, epochs=20,\n",
        "                    validation_data=(X_valid_A, y_valid_A))"
      ],
      "metadata": {
        "colab": {
          "base_uri": "https://localhost:8080/"
        },
        "id": "neB6VA9eJkaT",
        "outputId": "965e522b-34a0-47ef-ebfb-92281e315e28"
      },
      "execution_count": 44,
      "outputs": [
        {
          "output_type": "stream",
          "name": "stdout",
          "text": [
            "Epoch 1/20\n",
            "1375/1375 [==============================] - 6s 4ms/step - loss: 0.6152 - accuracy: 0.7943 - val_loss: 0.3984 - val_accuracy: 0.8582\n",
            "Epoch 2/20\n",
            "1375/1375 [==============================] - 6s 5ms/step - loss: 0.3658 - accuracy: 0.8756 - val_loss: 0.3298 - val_accuracy: 0.8909\n",
            "Epoch 3/20\n",
            "1375/1375 [==============================] - 5s 4ms/step - loss: 0.3249 - accuracy: 0.8884 - val_loss: 0.2994 - val_accuracy: 0.9026\n",
            "Epoch 4/20\n",
            "1375/1375 [==============================] - 6s 4ms/step - loss: 0.3043 - accuracy: 0.8962 - val_loss: 0.2846 - val_accuracy: 0.9073\n",
            "Epoch 5/20\n",
            "1375/1375 [==============================] - 5s 4ms/step - loss: 0.2908 - accuracy: 0.9002 - val_loss: 0.2737 - val_accuracy: 0.9088\n",
            "Epoch 6/20\n",
            "1375/1375 [==============================] - 6s 4ms/step - loss: 0.2809 - accuracy: 0.9040 - val_loss: 0.2673 - val_accuracy: 0.9131\n",
            "Epoch 7/20\n",
            "1375/1375 [==============================] - 5s 4ms/step - loss: 0.2724 - accuracy: 0.9074 - val_loss: 0.2640 - val_accuracy: 0.9111\n",
            "Epoch 8/20\n",
            "1375/1375 [==============================] - 5s 4ms/step - loss: 0.2656 - accuracy: 0.9103 - val_loss: 0.2590 - val_accuracy: 0.9133\n",
            "Epoch 9/20\n",
            "1375/1375 [==============================] - 6s 4ms/step - loss: 0.2600 - accuracy: 0.9112 - val_loss: 0.2540 - val_accuracy: 0.9165\n",
            "Epoch 10/20\n",
            "1375/1375 [==============================] - 5s 4ms/step - loss: 0.2551 - accuracy: 0.9134 - val_loss: 0.2512 - val_accuracy: 0.9148\n",
            "Epoch 11/20\n",
            "1375/1375 [==============================] - 6s 4ms/step - loss: 0.2504 - accuracy: 0.9145 - val_loss: 0.2459 - val_accuracy: 0.9188\n",
            "Epoch 12/20\n",
            "1375/1375 [==============================] - 5s 4ms/step - loss: 0.2462 - accuracy: 0.9162 - val_loss: 0.2463 - val_accuracy: 0.9193\n",
            "Epoch 13/20\n",
            "1375/1375 [==============================] - 6s 4ms/step - loss: 0.2427 - accuracy: 0.9172 - val_loss: 0.2413 - val_accuracy: 0.9185\n",
            "Epoch 14/20\n",
            "1375/1375 [==============================] - 5s 4ms/step - loss: 0.2393 - accuracy: 0.9188 - val_loss: 0.2391 - val_accuracy: 0.9185\n",
            "Epoch 15/20\n",
            "1375/1375 [==============================] - 5s 4ms/step - loss: 0.2361 - accuracy: 0.9196 - val_loss: 0.2424 - val_accuracy: 0.9205\n",
            "Epoch 16/20\n",
            "1375/1375 [==============================] - 6s 4ms/step - loss: 0.2328 - accuracy: 0.9209 - val_loss: 0.2381 - val_accuracy: 0.9195\n",
            "Epoch 17/20\n",
            "1375/1375 [==============================] - 5s 4ms/step - loss: 0.2302 - accuracy: 0.9224 - val_loss: 0.2401 - val_accuracy: 0.9175\n",
            "Epoch 18/20\n",
            "1375/1375 [==============================] - 6s 4ms/step - loss: 0.2271 - accuracy: 0.9230 - val_loss: 0.2440 - val_accuracy: 0.9138\n",
            "Epoch 19/20\n",
            "1375/1375 [==============================] - 5s 4ms/step - loss: 0.2248 - accuracy: 0.9237 - val_loss: 0.2317 - val_accuracy: 0.9218\n",
            "Epoch 20/20\n",
            "1375/1375 [==============================] - 6s 4ms/step - loss: 0.2222 - accuracy: 0.9250 - val_loss: 0.2338 - val_accuracy: 0.9218\n"
          ]
        }
      ]
    },
    {
      "cell_type": "code",
      "source": [
        "model_A.save(\"my_model_A.h5\")"
      ],
      "metadata": {
        "id": "8FM3TTHeJkWx"
      },
      "execution_count": 45,
      "outputs": []
    },
    {
      "cell_type": "code",
      "source": [
        "model_B = keras.models.Sequential()\n",
        "model_B.add(keras.layers.Flatten(input_shape=[28, 28]))\n",
        "for n_hidden in (300, 100, 50, 50, 50):\n",
        "    model_B.add(keras.layers.Dense(n_hidden, activation=\"selu\"))\n",
        "model_B.add(keras.layers.Dense(1, activation=\"sigmoid\"))"
      ],
      "metadata": {
        "id": "M57xi0HbJkTb"
      },
      "execution_count": 46,
      "outputs": []
    },
    {
      "cell_type": "code",
      "source": [
        "model_B.compile(loss=\"binary_crossentropy\",\n",
        "                optimizer=keras.optimizers.SGD(learning_rate=1e-3),\n",
        "                metrics=[\"accuracy\"])"
      ],
      "metadata": {
        "id": "cuWlk5NJJkQn"
      },
      "execution_count": 47,
      "outputs": []
    },
    {
      "cell_type": "code",
      "source": [
        "model_B.summary()"
      ],
      "metadata": {
        "colab": {
          "base_uri": "https://localhost:8080/"
        },
        "id": "84iExEXiK7BQ",
        "outputId": "4fa46d46-58a7-4ab9-bdfe-e39262fc8539"
      },
      "execution_count": 49,
      "outputs": [
        {
          "output_type": "stream",
          "name": "stdout",
          "text": [
            "Model: \"sequential_7\"\n",
            "_________________________________________________________________\n",
            " Layer (type)                Output Shape              Param #   \n",
            "=================================================================\n",
            " flatten_7 (Flatten)         (None, 784)               0         \n",
            "                                                                 \n",
            " dense_220 (Dense)           (None, 300)               235500    \n",
            "                                                                 \n",
            " dense_221 (Dense)           (None, 100)               30100     \n",
            "                                                                 \n",
            " dense_222 (Dense)           (None, 50)                5050      \n",
            "                                                                 \n",
            " dense_223 (Dense)           (None, 50)                2550      \n",
            "                                                                 \n",
            " dense_224 (Dense)           (None, 50)                2550      \n",
            "                                                                 \n",
            " dense_225 (Dense)           (None, 1)                 51        \n",
            "                                                                 \n",
            "=================================================================\n",
            "Total params: 275,801\n",
            "Trainable params: 275,801\n",
            "Non-trainable params: 0\n",
            "_________________________________________________________________\n"
          ]
        }
      ]
    },
    {
      "cell_type": "code",
      "source": [
        "history = model_B.fit(X_train_B, y_train_B, epochs=20,\n",
        "                      validation_data=(X_valid_B, y_valid_B))"
      ],
      "metadata": {
        "colab": {
          "base_uri": "https://localhost:8080/"
        },
        "id": "BP-q-9RMKu2R",
        "outputId": "5695112f-994b-44dd-fb10-3ab511a513b6"
      },
      "execution_count": 48,
      "outputs": [
        {
          "output_type": "stream",
          "name": "stdout",
          "text": [
            "Epoch 1/20\n",
            "7/7 [==============================] - 2s 158ms/step - loss: 0.7857 - accuracy: 0.5550 - val_loss: 0.6404 - val_accuracy: 0.6166\n",
            "Epoch 2/20\n",
            "7/7 [==============================] - 0s 18ms/step - loss: 0.6126 - accuracy: 0.6400 - val_loss: 0.5111 - val_accuracy: 0.7667\n",
            "Epoch 3/20\n",
            "7/7 [==============================] - 0s 18ms/step - loss: 0.4899 - accuracy: 0.7750 - val_loss: 0.4268 - val_accuracy: 0.8631\n",
            "Epoch 4/20\n",
            "7/7 [==============================] - 0s 18ms/step - loss: 0.4073 - accuracy: 0.8400 - val_loss: 0.3648 - val_accuracy: 0.9067\n",
            "Epoch 5/20\n",
            "7/7 [==============================] - 0s 18ms/step - loss: 0.3455 - accuracy: 0.9000 - val_loss: 0.3141 - val_accuracy: 0.9412\n",
            "Epoch 6/20\n",
            "7/7 [==============================] - 0s 31ms/step - loss: 0.2939 - accuracy: 0.9400 - val_loss: 0.2777 - val_accuracy: 0.9473\n",
            "Epoch 7/20\n",
            "7/7 [==============================] - 0s 31ms/step - loss: 0.2570 - accuracy: 0.9500 - val_loss: 0.2488 - val_accuracy: 0.9554\n",
            "Epoch 8/20\n",
            "7/7 [==============================] - 0s 18ms/step - loss: 0.2272 - accuracy: 0.9700 - val_loss: 0.2247 - val_accuracy: 0.9604\n",
            "Epoch 9/20\n",
            "7/7 [==============================] - 0s 19ms/step - loss: 0.2027 - accuracy: 0.9800 - val_loss: 0.2046 - val_accuracy: 0.9665\n",
            "Epoch 10/20\n",
            "7/7 [==============================] - 0s 18ms/step - loss: 0.1825 - accuracy: 0.9800 - val_loss: 0.1889 - val_accuracy: 0.9696\n",
            "Epoch 11/20\n",
            "7/7 [==============================] - 0s 18ms/step - loss: 0.1665 - accuracy: 0.9800 - val_loss: 0.1758 - val_accuracy: 0.9706\n",
            "Epoch 12/20\n",
            "7/7 [==============================] - 0s 17ms/step - loss: 0.1527 - accuracy: 0.9900 - val_loss: 0.1651 - val_accuracy: 0.9716\n",
            "Epoch 13/20\n",
            "7/7 [==============================] - 0s 17ms/step - loss: 0.1417 - accuracy: 0.9900 - val_loss: 0.1553 - val_accuracy: 0.9716\n",
            "Epoch 14/20\n",
            "7/7 [==============================] - 0s 17ms/step - loss: 0.1316 - accuracy: 0.9900 - val_loss: 0.1469 - val_accuracy: 0.9726\n",
            "Epoch 15/20\n",
            "7/7 [==============================] - 0s 19ms/step - loss: 0.1224 - accuracy: 0.9900 - val_loss: 0.1387 - val_accuracy: 0.9767\n",
            "Epoch 16/20\n",
            "7/7 [==============================] - 0s 18ms/step - loss: 0.1146 - accuracy: 0.9900 - val_loss: 0.1321 - val_accuracy: 0.9767\n",
            "Epoch 17/20\n",
            "7/7 [==============================] - 0s 31ms/step - loss: 0.1078 - accuracy: 0.9950 - val_loss: 0.1263 - val_accuracy: 0.9787\n",
            "Epoch 18/20\n",
            "7/7 [==============================] - 0s 18ms/step - loss: 0.1019 - accuracy: 0.9950 - val_loss: 0.1211 - val_accuracy: 0.9797\n",
            "Epoch 19/20\n",
            "7/7 [==============================] - 0s 18ms/step - loss: 0.0963 - accuracy: 0.9950 - val_loss: 0.1162 - val_accuracy: 0.9807\n",
            "Epoch 20/20\n",
            "7/7 [==============================] - 0s 32ms/step - loss: 0.0911 - accuracy: 0.9950 - val_loss: 0.1123 - val_accuracy: 0.9807\n"
          ]
        }
      ]
    },
    {
      "cell_type": "code",
      "source": [
        "model_A = keras.models.load_model(\"my_model_A.h5\")\n",
        "model_B_on_A = keras.models.Sequential(model_A.layers[:-1])\n",
        "model_B_on_A.add(keras.layers.Dense(1, activation=\"sigmoid\"))"
      ],
      "metadata": {
        "id": "YY9YtyukK9pI"
      },
      "execution_count": 50,
      "outputs": []
    },
    {
      "cell_type": "code",
      "source": [
        "model_A_clone = keras.models.clone_model(model_A)\n",
        "model_A_clone.set_weights(model_A.get_weights())\n",
        "model_B_on_A = keras.models.Sequential(model_A_clone.layers[:-1])\n",
        "model_B_on_A.add(keras.layers.Dense(1, activation=\"sigmoid\"))"
      ],
      "metadata": {
        "id": "82Wzm54AK9l1"
      },
      "execution_count": 51,
      "outputs": []
    },
    {
      "cell_type": "code",
      "source": [
        "for layer in model_B_on_A.layers[:-1]:\n",
        "    layer.trainable = False\n",
        "\n",
        "model_B_on_A.compile(loss=\"binary_crossentropy\",\n",
        "                     optimizer=keras.optimizers.SGD(learning_rate=1e-3),\n",
        "                     metrics=[\"accuracy\"])"
      ],
      "metadata": {
        "id": "_0qnmu8XK9i6"
      },
      "execution_count": 52,
      "outputs": []
    },
    {
      "cell_type": "code",
      "source": [
        "history = model_B_on_A.fit(X_train_B, y_train_B, epochs=4,\n",
        "                           validation_data=(X_valid_B, y_valid_B))\n",
        "\n",
        "for layer in model_B_on_A.layers[:-1]:\n",
        "    layer.trainable = True\n",
        "\n",
        "model_B_on_A.compile(loss=\"binary_crossentropy\",\n",
        "                     optimizer=keras.optimizers.SGD(learning_rate=1e-3),\n",
        "                     metrics=[\"accuracy\"])\n",
        "history = model_B_on_A.fit(X_train_B, y_train_B, epochs=16,\n",
        "                           validation_data=(X_valid_B, y_valid_B))"
      ],
      "metadata": {
        "colab": {
          "base_uri": "https://localhost:8080/"
        },
        "id": "zbFuUKaHK9hO",
        "outputId": "9eca73f2-8693-4574-822b-915e1848d4e1"
      },
      "execution_count": 53,
      "outputs": [
        {
          "output_type": "stream",
          "name": "stdout",
          "text": [
            "Epoch 1/4\n",
            "7/7 [==============================] - 1s 42ms/step - loss: 0.5763 - accuracy: 0.6500 - val_loss: 0.5649 - val_accuracy: 0.6826\n",
            "Epoch 2/4\n",
            "7/7 [==============================] - 0s 18ms/step - loss: 0.5448 - accuracy: 0.6600 - val_loss: 0.5342 - val_accuracy: 0.7028\n",
            "Epoch 3/4\n",
            "7/7 [==============================] - 0s 17ms/step - loss: 0.5140 - accuracy: 0.6850 - val_loss: 0.5079 - val_accuracy: 0.7312\n",
            "Epoch 4/4\n",
            "7/7 [==============================] - 0s 16ms/step - loss: 0.4877 - accuracy: 0.7150 - val_loss: 0.4831 - val_accuracy: 0.7596\n",
            "Epoch 1/16\n",
            "7/7 [==============================] - 1s 57ms/step - loss: 0.3905 - accuracy: 0.8050 - val_loss: 0.3121 - val_accuracy: 0.9067\n",
            "Epoch 2/16\n",
            "7/7 [==============================] - 0s 19ms/step - loss: 0.2632 - accuracy: 0.9350 - val_loss: 0.2428 - val_accuracy: 0.9381\n",
            "Epoch 3/16\n",
            "7/7 [==============================] - 0s 31ms/step - loss: 0.2064 - accuracy: 0.9650 - val_loss: 0.2043 - val_accuracy: 0.9574\n",
            "Epoch 4/16\n",
            "7/7 [==============================] - 0s 31ms/step - loss: 0.1739 - accuracy: 0.9650 - val_loss: 0.1791 - val_accuracy: 0.9635\n",
            "Epoch 5/16\n",
            "7/7 [==============================] - 0s 31ms/step - loss: 0.1508 - accuracy: 0.9750 - val_loss: 0.1601 - val_accuracy: 0.9706\n",
            "Epoch 6/16\n",
            "7/7 [==============================] - 0s 18ms/step - loss: 0.1337 - accuracy: 0.9800 - val_loss: 0.1465 - val_accuracy: 0.9757\n",
            "Epoch 7/16\n",
            "7/7 [==============================] - 0s 18ms/step - loss: 0.1212 - accuracy: 0.9800 - val_loss: 0.1357 - val_accuracy: 0.9777\n",
            "Epoch 8/16\n",
            "7/7 [==============================] - 0s 18ms/step - loss: 0.1108 - accuracy: 0.9800 - val_loss: 0.1254 - val_accuracy: 0.9797\n",
            "Epoch 9/16\n",
            "7/7 [==============================] - 0s 17ms/step - loss: 0.1015 - accuracy: 0.9850 - val_loss: 0.1163 - val_accuracy: 0.9817\n",
            "Epoch 10/16\n",
            "7/7 [==============================] - 0s 19ms/step - loss: 0.0935 - accuracy: 0.9900 - val_loss: 0.1101 - val_accuracy: 0.9817\n",
            "Epoch 11/16\n",
            "7/7 [==============================] - 0s 18ms/step - loss: 0.0877 - accuracy: 0.9900 - val_loss: 0.1046 - val_accuracy: 0.9828\n",
            "Epoch 12/16\n",
            "7/7 [==============================] - 0s 19ms/step - loss: 0.0824 - accuracy: 0.9900 - val_loss: 0.0998 - val_accuracy: 0.9828\n",
            "Epoch 13/16\n",
            "7/7 [==============================] - 0s 18ms/step - loss: 0.0778 - accuracy: 0.9900 - val_loss: 0.0955 - val_accuracy: 0.9828\n",
            "Epoch 14/16\n",
            "7/7 [==============================] - 0s 17ms/step - loss: 0.0738 - accuracy: 0.9900 - val_loss: 0.0916 - val_accuracy: 0.9838\n",
            "Epoch 15/16\n",
            "7/7 [==============================] - 0s 17ms/step - loss: 0.0700 - accuracy: 0.9950 - val_loss: 0.0880 - val_accuracy: 0.9858\n",
            "Epoch 16/16\n",
            "7/7 [==============================] - 0s 18ms/step - loss: 0.0669 - accuracy: 0.9950 - val_loss: 0.0851 - val_accuracy: 0.9868\n"
          ]
        }
      ]
    },
    {
      "cell_type": "code",
      "source": [
        "model_B.evaluate(X_test_B, y_test_B)"
      ],
      "metadata": {
        "colab": {
          "base_uri": "https://localhost:8080/"
        },
        "id": "KvE7b6_EK9eO",
        "outputId": "5ca00d7e-6510-48d0-816c-b2ce4d2ebeb4"
      },
      "execution_count": 54,
      "outputs": [
        {
          "output_type": "stream",
          "name": "stdout",
          "text": [
            "63/63 [==============================] - 0s 2ms/step - loss: 0.1119 - accuracy: 0.9800\n"
          ]
        },
        {
          "output_type": "execute_result",
          "data": {
            "text/plain": [
              "[0.11188411712646484, 0.9800000190734863]"
            ]
          },
          "metadata": {},
          "execution_count": 54
        }
      ]
    },
    {
      "cell_type": "code",
      "source": [
        "model_B_on_A.evaluate(X_test_B, y_test_B)"
      ],
      "metadata": {
        "colab": {
          "base_uri": "https://localhost:8080/"
        },
        "id": "Vf_T0fR6K9bw",
        "outputId": "08686264-d600-465f-84db-bbc447ce5b2f"
      },
      "execution_count": 55,
      "outputs": [
        {
          "output_type": "stream",
          "name": "stdout",
          "text": [
            "63/63 [==============================] - 0s 5ms/step - loss: 0.0811 - accuracy: 0.9825\n"
          ]
        },
        {
          "output_type": "execute_result",
          "data": {
            "text/plain": [
              "[0.08106134086847305, 0.9825000166893005]"
            ]
          },
          "metadata": {},
          "execution_count": 55
        }
      ]
    },
    {
      "cell_type": "code",
      "source": [
        "(100 - 98)/(100 - 98.25)"
      ],
      "metadata": {
        "colab": {
          "base_uri": "https://localhost:8080/"
        },
        "id": "e-1IupHCK9YV",
        "outputId": "d5bf4d7d-88bf-4ebe-b8d7-49167efdcdcd"
      },
      "execution_count": 56,
      "outputs": [
        {
          "output_type": "execute_result",
          "data": {
            "text/plain": [
              "1.1428571428571428"
            ]
          },
          "metadata": {},
          "execution_count": 56
        }
      ]
    },
    {
      "cell_type": "markdown",
      "source": [
        "# Faster Optimizers"
      ],
      "metadata": {
        "id": "K0nTAqdxLxpB"
      }
    },
    {
      "cell_type": "code",
      "source": [],
      "metadata": {
        "id": "_wMzghmrK9Vb"
      },
      "execution_count": null,
      "outputs": []
    },
    {
      "cell_type": "code",
      "source": [],
      "metadata": {
        "id": "pCMx-twaK9Si"
      },
      "execution_count": null,
      "outputs": []
    }
  ]
}